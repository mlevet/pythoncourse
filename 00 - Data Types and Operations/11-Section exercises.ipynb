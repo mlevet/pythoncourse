{
 "cells": [
  {
   "cell_type": "markdown",
   "source": [
    "# Exercises "
   ],
   "metadata": {
    "collapsed": false,
    "pycharm": {
     "name": "#%% md\n"
    }
   }
  },
  {
   "cell_type": "markdown",
   "source": [
    "## Numbers"
   ],
   "metadata": {
    "collapsed": false
   }
  },
  {
   "cell_type": "markdown",
   "source": [
    "### Exercise 1\n",
    "\n",
    "Write an expression that equals 100"
   ],
   "metadata": {
    "collapsed": false
   }
  },
  {
   "cell_type": "markdown",
   "source": [
    "### Exercise 2\n",
    "\n",
    "Which one of these is a floating point number\n",
    "\n",
    "* 3.2\n",
    "* 4\n",
    "* 500\n",
    "* 270000\n",
    "* 6"
   ],
   "metadata": {
    "collapsed": false
   }
  },
  {
   "cell_type": "markdown",
   "source": [
    "### Exercice 3\n",
    "\n",
    "Which of these will output the result 36\n",
    "\n",
    "* 30+*6\n",
    "* 6^6\n",
    "* 6**6\n",
    "* 6*6\n",
    "* 6+6+6+6+6"
   ],
   "metadata": {
    "collapsed": false
   }
  },
  {
   "cell_type": "markdown",
   "source": [
    "### Exercice 4\n",
    "\n",
    "In Python 3, what is the output of 1/2\n",
    "\n",
    "* 1\n",
    "* 0\n",
    "* 0.5"
   ],
   "metadata": {
    "collapsed": false
   }
  },
  {
   "cell_type": "markdown",
   "source": [
    "### Numbers FAQ \n",
    "\n",
    "1. What's the difference between floating point and an integer?\n",
    "\n",
    "An integer has no decimals in it, a floating point number can display digits past the decimal point.\n",
    "\n",
    "2. Why doesn't 0.1+0.2-0.3 equal 0.0 ?\n",
    "\n",
    "This has to do with floating point accuracy and computer's abilities to represent numbers in memory. For a full breakdown, check out: https://docs.python.org/2/tutorial/floatingpoint.html\n"
   ],
   "metadata": {
    "collapsed": false
   }
  },
  {
   "cell_type": "markdown",
   "source": [
    "## String"
   ],
   "metadata": {
    "collapsed": false,
    "pycharm": {
     "name": "#%% md\n"
    }
   }
  },
  {
   "cell_type": "markdown",
   "source": [
    "### Exercise 5 : String indexing\n",
    "\n",
    "Write a string index that returns just the letter 'r' from 'Hello World'\n",
    "For example, 'Hello World'[0] returns 'H'\n",
    "You should only write one line of code for this.\n",
    "Do not assign a variable name to the string."
   ],
   "metadata": {
    "collapsed": false
   }
  },
  {
   "cell_type": "code",
   "execution_count": null,
   "outputs": [],
   "source": [
    "# Write your string index below\n",
    "# Start with 'Hello World'\n",
    "# and make sure to match spaces and capitalization exactly"
   ],
   "metadata": {
    "collapsed": false,
    "pycharm": {
     "name": "#%%\n"
    }
   }
  },
  {
   "cell_type": "markdown",
   "source": [
    "### Exercise 6 : String slicing\n",
    "\n",
    "Use string slicing to grab the word 'ink' from inside 'tinker'\n",
    "For example 'education'[3:6] returns 'cat'\n",
    "Remember that when slicing you only go up but not including the end index.\n",
    "You should only write one line of code for this.\n",
    "Do not assign a variable name to the string."
   ],
   "metadata": {
    "collapsed": false,
    "pycharm": {
     "name": "#%% md\n"
    }
   }
  },
  {
   "cell_type": "markdown",
   "source": [
    "### Strings FAQ\n",
    "\n",
    "1. Are strings mutable?\n",
    "\n",
    "Strings are not mutable! (meaning you can't use indexing to change individual elements of a string)\n",
    "\n",
    "2. How do I create comments in my code?\n",
    "\n",
    "You can use the hashtag # to create comments in your code"
   ],
   "metadata": {
    "collapsed": false
   }
  },
  {
   "cell_type": "markdown",
   "source": [
    "### Exercise 7\n",
    "\n",
    "Strings are immutable\n",
    "\n",
    "* True\n",
    "* False"
   ],
   "metadata": {
    "collapsed": false
   }
  },
  {
   "cell_type": "markdown",
   "source": [
    "### Exercise 8\n",
    "\n",
    "If s='hello' what is the output of s[1]\n",
    "\n",
    "* 'h'\n",
    "* 'e'\n",
    "* 'l'\n",
    "\n",
    "### Exercise 9\n",
    "\n",
    "If s='Sammy' what is the output of s[2:]?\n",
    "\n",
    "* 'ammy'\n",
    "* 'am'\n",
    "* 'mmy'\n",
    "* 'my'"
   ],
   "metadata": {
    "collapsed": false,
    "pycharm": {
     "name": "#%% md\n"
    }
   }
  },
  {
   "cell_type": "markdown",
   "source": [
    "## Print formatting"
   ],
   "metadata": {
    "collapsed": false
   }
  },
  {
   "cell_type": "markdown",
   "source": [
    "### Exercise 10 \n",
    "\n",
    "Write an expression using any of the string formatting methods we have learned\n",
    "(except f-strings, see note below) to return the phrase 'Python rules !'\n",
    "You should only write one line of code for this.\n",
    "Do not assign a variable name to the string.\n",
    "\n",
    "For example, these phrases both return 'I like apples' :"
   ],
   "metadata": {
    "collapsed": false
   }
  },
  {
   "cell_type": "code",
   "execution_count": null,
   "outputs": [],
   "source": [
    "'I like %s' %'apples'\n",
    "'I like {}'.format('apples')\n"
   ],
   "metadata": {
    "collapsed": false,
    "pycharm": {
     "name": "#%%\n"
    }
   }
  },
  {
   "cell_type": "markdown",
   "source": [
    "### Print Formatting FAQS\n",
    "\n",
    "1.) I imported print from the __future__ module, now print isn't working. What happened?\n",
    "\n",
    "This is because once you import from the __future__ module in Python 2.7, a print statement will no longer work, and print must then use a print() function. Meaning that you must use\n",
    "\n",
    "print('Whatever you were going to print')\n",
    "\n",
    "or if you are using some formatting:\n",
    "\n",
    "print('This is a string with an {p}'.format(p='insert'))\n",
    "\n",
    "The __future__ module allows you to use Python3 functionality in a Python2 environment, but some functionality is overwritten (such as the print statement, or classic division when you import division).\n",
    "\n",
    "Since we are using Jupyter Notebooks, once you so the import, all cells will require the use if the print() function. You will have to restart Python or start a new notebook to regain the old functionality back.\n",
    "\n",
    "HERE IS AN AWESOME SOURCE FOR PRINT FORMATTING:\n",
    "\n",
    "https://pyformat.info/"
   ],
   "metadata": {
    "collapsed": false
   }
  },
  {
   "cell_type": "markdown",
   "source": [
    "## Lists"
   ],
   "metadata": {
    "collapsed": false,
    "pycharm": {
     "name": "#%% md\n"
    }
   }
  },
  {
   "cell_type": "markdown",
   "source": [
    "### Exercise 11\n",
    "\n",
    "Create a list that contains at least one string, one integer and one float.\n",
    "Note that the order and number of items doesn't matter.\n",
    "The answer should just be one list on a single line.\n",
    "Do not assign a variable name to the string.\n",
    "\n",
    "For example :"
   ],
   "metadata": {
    "collapsed": false
   }
  },
  {
   "cell_type": "code",
   "execution_count": null,
   "outputs": [],
   "source": [
    "[1, 'two', 3.14159]"
   ],
   "metadata": {
    "collapsed": false,
    "pycharm": {
     "name": "#%%\n"
    }
   }
  },
  {
   "cell_type": "markdown",
   "source": [
    "### Exercise 12\n",
    "\n",
    "If lst=[0,1,2] what is the result of lst.pop()\n",
    "\n",
    "* 0\n",
    "* 1\n",
    "* 2"
   ],
   "metadata": {
    "collapsed": false,
    "pycharm": {
     "name": "#%% md\n"
    }
   }
  },
  {
   "cell_type": "markdown",
   "source": [
    "### Exercice 13\n",
    "\n",
    "List can have multiple object types.\n",
    "\n",
    "* True\n",
    "* False"
   ],
   "metadata": {
    "collapsed": false,
    "pycharm": {
     "name": "#%% md\n"
    }
   }
  },
  {
   "cell_type": "markdown",
   "source": [
    "### Exercice 14\n",
    "\n",
    "If lst=['a','b','c'] What is the result of lst[1:]?\n",
    "\n",
    "* 'b'\n",
    "* ['b','c']\n",
    "* 'c'\n",
    "* ['a','b']"
   ],
   "metadata": {
    "collapsed": false
   }
  },
  {
   "cell_type": "markdown",
   "source": [
    "### Lists FAQ\n",
    "\n",
    "1. How do I index a nested list? For example if I want to grab 2 from [1,1,[1,2]]?\n",
    "\n",
    "You would just add another set of brackets for indexing the nested list, for example: my_list[2][1] .\n",
    "We'll discover later on more nested objects and you will be quizzed on them later!"
   ],
   "metadata": {
    "collapsed": false
   }
  },
  {
   "cell_type": "markdown",
   "source": [
    "## Dictionaries"
   ],
   "metadata": {
    "collapsed": false,
    "pycharm": {
     "name": "#%% md\n"
    }
   }
  },
  {
   "cell_type": "markdown",
   "source": [
    "### Exercise 15\n",
    "\n",
    "Create a dictionary where all the keys are strings, and all the values are integers\n",
    "Just write the dictionary on a single line, don't assign a variable name to the dictionary\n",
    "\n",
    "For example :"
   ],
   "metadata": {
    "collapsed": false
   }
  },
  {
   "cell_type": "code",
   "execution_count": null,
   "outputs": [],
   "source": [
    "{'Monday': 19, 'Tuesday': 20}"
   ],
   "metadata": {
    "collapsed": false,
    "pycharm": {
     "name": "#%%\n"
    }
   }
  },
  {
   "cell_type": "markdown",
   "source": [
    "### Dictionaries FAQ\n",
    "\n",
    "1. Do dictionaries keep an order? How do I print the values of the dictionary in order?\n",
    "\n",
    "Dictionaries are mappings and do not retain order!\n",
    "If you do want the capabilities of a dictionary but you would like ordering as well,\n",
    "check out the ordereddict object lecture later on in the course!"
   ],
   "metadata": {
    "collapsed": false,
    "pycharm": {
     "name": "#%% md\n"
    }
   }
  },
  {
   "cell_type": "markdown",
   "source": [
    "### Exercise 16\n",
    "\n",
    "Is this statement True or False? Dictionaries retain order and are a sequence.\n",
    "\n",
    "* True\n",
    "* False"
   ],
   "metadata": {
    "collapsed": false
   }
  },
  {
   "cell_type": "markdown",
   "source": [
    "### Exercice 17\n",
    "\n",
    "Given d={'k1':[1,2,3]}\n",
    "\n",
    "What is the output of d['k1'][1]\n",
    "\n",
    "* None, an error occurs\n",
    "* 1\n",
    "* 2"
   ],
   "metadata": {
    "collapsed": false
   }
  },
  {
   "cell_type": "markdown",
   "source": [
    "### Exercice 18\n",
    "\n",
    "Is this statement True or False? Dictionaries are immutable.\n",
    "\n",
    "Choose the answer below.\n",
    "\n",
    "* True\n",
    "* False"
   ],
   "metadata": {
    "collapsed": false
   }
  },
  {
   "cell_type": "markdown",
   "source": [
    "## Tuples"
   ],
   "metadata": {
    "collapsed": false,
    "pycharm": {
     "name": "#%% md\n"
    }
   }
  },
  {
   "cell_type": "markdown",
   "source": [
    "### Exercise 19\n",
    "\n",
    "Tuples have a lot of methods associated with them.\n",
    "\n",
    "*True\n",
    "*False"
   ],
   "metadata": {
    "collapsed": false,
    "pycharm": {
     "name": "#%% md\n"
    }
   }
  },
  {
   "cell_type": "markdown",
   "source": [
    "### Exercise 20\n",
    "\n",
    "Tuples are Immutable.\n",
    "\n",
    "*True\n",
    "*False"
   ],
   "metadata": {
    "collapsed": false
   }
  },
  {
   "cell_type": "markdown",
   "source": [
    "### Exercise 21\n",
    "\n",
    "Which of the following is a tuple?\n",
    "\n",
    "* [1,2,3]\n",
    "* (1,2,[1,2])\n",
    "* (1,2,3]\n",
    "* None of the above"
   ],
   "metadata": {
    "collapsed": false
   }
  },
  {
   "cell_type": "markdown",
   "source": [
    "## Sets and booleans"
   ],
   "metadata": {
    "collapsed": false
   }
  },
  {
   "cell_type": "markdown",
   "source": [
    "### Exercise 22\n",
    "\n",
    "Write an expression that would turn the string 'Mississippi' into a set of unique letters.\n",
    "You should only write one line of code for this. Do not assign a variable name to the set.\n",
    "\n",
    "For example :"
   ],
   "metadata": {
    "collapsed": false
   }
  },
  {
   "cell_type": "code",
   "execution_count": null,
   "outputs": [],
   "source": [
    "set('Parallel')"
   ],
   "metadata": {
    "collapsed": false,
    "pycharm": {
     "name": "#%%\n"
    }
   }
  },
  {
   "cell_type": "markdown",
   "source": [
    " \n",
    "would return the set {'P', 'a', 'e', 'l', 'r'}"
   ],
   "metadata": {
    "collapsed": false,
    "pycharm": {
     "name": "#%% md\n"
    }
   }
  },
  {
   "cell_type": "markdown",
   "source": [
    "### Exercise 23\n",
    "\n",
    "{1,2,3,4} is an example of a Set.\n",
    "\n",
    "* True\n",
    "* False"
   ],
   "metadata": {
    "collapsed": false,
    "pycharm": {
     "name": "#%% md\n"
    }
   }
  },
  {
   "cell_type": "markdown",
   "source": [
    "### Exercise 24\n",
    "\n",
    "How do you add an element to a set?\n",
    "\n",
    "* .add()\n",
    "* .append()\n",
    "* .extend()\n",
    "* None of the above"
   ],
   "metadata": {
    "collapsed": false
   }
  },
  {
   "cell_type": "markdown",
   "source": [
    "### Exercise 25\n",
    "\n",
    "What is the result of:\n",
    "\n",
    "set([1,1,2,3])\n",
    "\n",
    "* An error\n",
    "* [1,2,3]\n",
    "* {1,1,2,3}\n",
    "* {1,2,3}\n",
    "* None of the above"
   ],
   "metadata": {
    "collapsed": false
   }
  },
  {
   "cell_type": "markdown",
   "source": [
    "## Solutions\n"
   ],
   "metadata": {
    "collapsed": false,
    "pycharm": {
     "name": "#%% md\n"
    }
   }
  },
  {
   "cell_type": "markdown",
   "source": [
    "### Solution 1\n",
    "\n",
    "Write an expression that equals 100\n",
    "\n",
    "* 50 + 50\n",
    "* 80 + 40 - 20\n",
    "* ..."
   ],
   "metadata": {
    "collapsed": false
   }
  },
  {
   "cell_type": "markdown",
   "source": [
    "### Solution 2\n",
    "\n",
    "Which one of these is a floating point number\n",
    "\n",
    "* 3.2\n",
    "\n",
    "This has a decimal point in it!"
   ],
   "metadata": {
    "collapsed": false
   }
  },
  {
   "cell_type": "markdown",
   "source": [
    "### Solution 3\n",
    "\n",
    "Which of these will output the result 36\n",
    "\n",
    "* 6*6"
   ],
   "metadata": {
    "collapsed": false
   }
  },
  {
   "cell_type": "markdown",
   "source": [
    "### Solution 4\n",
    "\n",
    "In Python 3, what is the output of 1/2\n",
    "\n",
    "* 0.5\n",
    "\n",
    "Python 3 performs true division by default"
   ],
   "metadata": {
    "collapsed": false
   }
  },
  {
   "cell_type": "markdown",
   "source": [
    "### Solution 5 : String indexing\n",
    "\n",
    "Write a string index that returns just the letter 'r' from 'Hello World'\n",
    "For example, 'Hello World'[0] returns 'H'\n",
    "You should only write one line of code for this.\n",
    "Do not assign a variable name to the string."
   ],
   "metadata": {
    "collapsed": false
   }
  },
  {
   "cell_type": "code",
   "execution_count": null,
   "outputs": [],
   "source": [
    "# Write your string index below\n",
    "# Start with 'Hello World'\n",
    "# and make sure to match spaces and capitalization exactly\n",
    "\n",
    "'Hello World'[8]"
   ],
   "metadata": {
    "collapsed": false,
    "pycharm": {
     "name": "#%%\n"
    }
   }
  },
  {
   "cell_type": "markdown",
   "source": [
    "### Solution 6 : String slicing\n",
    "\n",
    "Use string slicing to grab the word 'ink' from inside 'tinker'\n",
    "For example 'education'[3:6] returns 'cat'\n",
    "Remember that when slicing you only go up but not including the end index.\n",
    "You should only write one line of code for this.\n",
    "Do not assign a variable name to the string."
   ],
   "metadata": {
    "collapsed": false
   }
  },
  {
   "cell_type": "code",
   "execution_count": null,
   "outputs": [],
   "source": [
    "'tinker'[1:4]"
   ],
   "metadata": {
    "collapsed": false,
    "pycharm": {
     "name": "#%%\n"
    }
   }
  },
  {
   "cell_type": "markdown",
   "source": [
    "### Solution 7\n",
    "\n",
    "Strings are immutable\n",
    "\n",
    "* True"
   ],
   "metadata": {
    "collapsed": false
   }
  },
  {
   "cell_type": "markdown",
   "source": [
    "### Solution 8\n",
    "\n",
    "If s='hello' what is the output of s[1]\n",
    "\n",
    "* 'e'\n",
    "\n",
    "### Solution 9\n",
    "\n",
    "If s='Sammy' what is the output of s[2:]?\n",
    "\n",
    "* 'mmy'"
   ],
   "metadata": {
    "collapsed": false
   }
  },
  {
   "cell_type": "markdown",
   "source": [
    "### Solution 10 \n",
    "\n",
    "Write an expression using any of the string formatting methods we have learned\n",
    "(except f-strings, see note below) to return the phrase 'Python rules !'\n",
    "You should only write one line of code for this.\n",
    "Do not assign a variable name to the string."
   ],
   "metadata": {
    "collapsed": false
   }
  },
  {
   "cell_type": "code",
   "execution_count": null,
   "outputs": [],
   "source": [
    "'%s rules!' % 'Python' \n",
    "'{} rules!'.format('Python')"
   ],
   "metadata": {
    "collapsed": false,
    "pycharm": {
     "name": "#%%\n"
    }
   }
  },
  {
   "cell_type": "markdown",
   "source": [
    "### Solution 11\n",
    "\n",
    "Create a list that contains at least one string, one integer and one float.\n",
    "Note that the order and number of items doesn't matter.\n",
    "The answer should just be one list on a single line.\n",
    "Do not assign a variable name to the string."
   ],
   "metadata": {
    "collapsed": false
   }
  },
  {
   "cell_type": "code",
   "execution_count": null,
   "outputs": [],
   "source": [
    "[0, 'test', 0.123456789]"
   ],
   "metadata": {
    "collapsed": false,
    "pycharm": {
     "name": "#%%\n"
    }
   }
  },
  {
   "cell_type": "markdown",
   "source": [
    "### Solution 12\n",
    "\n",
    "If lst=[0,1,2] what is the result of lst.pop()\n",
    "\n",
    "* 2\n",
    "\n",
    "The argument passed to the method is optional.\n",
    "If not passed, the default index -1 is passed as an argument (index of the last item)."
   ],
   "metadata": {
    "collapsed": false
   }
  },
  {
   "cell_type": "markdown",
   "source": [
    "### Solution 13\n",
    "\n",
    "List can have multiple object types.\n",
    "\n",
    "* True"
   ],
   "metadata": {
    "collapsed": false
   }
  },
  {
   "cell_type": "markdown",
   "source": [
    "### Solution 14\n",
    "\n",
    "If lst=['a','b','c'] What is the result of lst[1:]?\n",
    "\n",
    "* ['b','c']"
   ],
   "metadata": {
    "collapsed": false
   }
  },
  {
   "cell_type": "markdown",
   "source": [
    "### Exercise 15\n",
    "\n",
    "Create a dictionary where all the keys are strings, and all the values are integers\n",
    "Just write the dictionary on a single line, don't assign a variable name to the dictionary"
   ],
   "metadata": {
    "collapsed": false
   }
  },
  {
   "cell_type": "code",
   "execution_count": null,
   "outputs": [],
   "source": [
    "{'Adam': 43, 'Michel': 54}"
   ],
   "metadata": {
    "collapsed": false,
    "pycharm": {
     "name": "#%%\n"
    }
   }
  },
  {
   "cell_type": "markdown",
   "source": [
    "### Solution 16\n",
    "\n",
    "Is this statement True or False? Dictionaries retain order and are a sequence.\n",
    "\n",
    "* False"
   ],
   "metadata": {
    "collapsed": false
   }
  },
  {
   "cell_type": "markdown",
   "source": [
    "### Solution 17\n",
    "\n",
    "Given d={'k1':[1,2,3]}\n",
    "\n",
    "What is the output of d['k1'][1]\n",
    "\n",
    "* 2"
   ],
   "metadata": {
    "collapsed": false
   }
  },
  {
   "cell_type": "markdown",
   "source": [
    "### Solution 18\n",
    "\n",
    "Is this statement True or False? Dictionaries are immutable.\n",
    "\n",
    "* False\n",
    "\n",
    "Remember you can edit the keys of a dictionary and put in new values."
   ],
   "metadata": {
    "collapsed": false
   }
  },
  {
   "cell_type": "markdown",
   "source": [
    "### Solution 19\n",
    "\n",
    "Tuples have a lot of methods associated with them.\n",
    "\n",
    "* False\n",
    "\n",
    "There are only two methods for tuples"
   ],
   "metadata": {
    "collapsed": false,
    "pycharm": {
     "name": "#%% md\n"
    }
   }
  },
  {
   "cell_type": "markdown",
   "source": [
    "### Solution 20\n",
    "\n",
    "Tuples are Immutable.\n",
    "\n",
    "* True"
   ],
   "metadata": {
    "collapsed": false
   }
  },
  {
   "cell_type": "markdown",
   "source": [
    "### Solution 21\n",
    "\n",
    "Which of the following is a tuple?\n",
    "\n",
    "* (1,2, [1,2])\n",
    "\n",
    "Even though a list is one of the elements, the object constrained with () is a tuple!"
   ],
   "metadata": {
    "collapsed": false
   }
  },
  {
   "cell_type": "markdown",
   "source": [
    "### Exercise 22\n",
    "\n",
    "Write an expression that would turn the string 'Mississippi' into a set of unique letters.\n",
    "You should only write one line of code for this. Do not assign a variable name to the set."
   ],
   "metadata": {
    "collapsed": false
   }
  },
  {
   "cell_type": "code",
   "execution_count": null,
   "outputs": [],
   "source": [
    "set('Mississippi')"
   ],
   "metadata": {
    "collapsed": false,
    "pycharm": {
     "name": "#%%\n"
    }
   }
  },
  {
   "cell_type": "markdown",
   "source": [
    " \n",
    "would return the set {'M', 'p', 's', 'i'}"
   ],
   "metadata": {
    "collapsed": false
   }
  },
  {
   "cell_type": "markdown",
   "source": [
    "### Exercise 23\n",
    "\n",
    "{1,2,3,4} is an example of a Set.\n",
    "\n",
    "* True"
   ],
   "metadata": {
    "collapsed": false
   }
  },
  {
   "cell_type": "markdown",
   "source": [
    "### Exercise 24\n",
    "\n",
    "How do you add an element to a set?\n",
    "\n",
    "* .add()"
   ],
   "metadata": {
    "collapsed": false
   }
  },
  {
   "cell_type": "markdown",
   "source": [
    "### Exercise 25\n",
    "\n",
    "What is the result of:\n",
    "\n",
    "set([1,1,2,3])\n",
    "\n",
    "* {1,2,3}\n",
    "\n",
    "\n",
    "\n",
    "\n",
    "\n",
    "\n",
    "\n",
    "\n",
    "\n",
    "\n",
    "\n",
    "\n",
    "\n",
    "\n",
    "\n",
    "\n",
    "\n",
    "\n",
    "\n",
    "\n",
    "\n",
    "\n",
    " \n",
    "\n",
    "\n",
    "\n",
    "\n",
    "\n",
    "\n",
    "\n",
    "\n",
    "\n",
    "\n",
    "\n",
    "\n",
    "\n",
    "\n",
    "\n",
    "\n",
    "\n",
    "\n",
    "\n",
    "\n",
    "\n",
    "\n",
    "\n",
    "\n"
   ],
   "metadata": {
    "collapsed": false
   }
  }
 ],
 "metadata": {
  "kernelspec": {
   "display_name": "${KERNEL_SPEC_DISPLAY_NAME}",
   "language": "${KERNEL_SPEC_LANGUAGE}",
   "name": "${KERNEL_SPEC_NAME}"
  },
  "language_info": {
   "codemirror_mode": {
    "name": "ipython",
    "version": 2
   },
   "file_extension": ".py",
   "mimetype": "text/x-python",
   "name": "python",
   "nbconvert_exporter": "python",
   "pygments_lexer": "ipython2",
   "version": "2.7.6"
  },
  "pycharm": {
   "stem_cell": {
    "cell_type": "raw",
    "source": [],
    "metadata": {
     "collapsed": false
    }
   }
  }
 },
 "nbformat": 4,
 "nbformat_minor": 0
}