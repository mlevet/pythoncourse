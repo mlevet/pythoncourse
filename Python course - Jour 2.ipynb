{
 "cells": [
  {
   "cell_type": "markdown",
   "metadata": {},
   "source": [
    "# Introduction à Python\n",
    "\n",
    "## Pour la petite histoire\n",
    "\n",
    "Python est un langage de programmation, dont la première version est sortie en 1991. Créé par Guido van Rossum, il a voyagé du Macintosh de son créateur, qui travaillait à cette époque au Centrum voor Wiskunde en Informatica aux Pays-Bas, jusqu'à se voir associer une organisation à but non lucratif particulièrement dévouée, la Python Software Foundation, créée en 2001. Ce langage a été baptisé ainsi en hommage à la troupe de comiques les « Monty Python ».\n",
    "À quoi peut servir Python ?\n",
    "Python est un langage puissant, à la fois facile à apprendre et riche en possibilités. Dès l'instant où vous l'installez sur votre ordinateur, vous disposez de nombreuses fonctionnalités intégrées au langage que nous allons découvrir tout au long de ce livre.\n",
    "Il est, en outre, très facile d'étendre les fonctionnalités existantes, comme nous allons le voir. Ainsi, il existe ce qu'on appelle des bibliothèques qui aident le développeur à travailler sur des projets particuliers. Plusieurs bibliothèques peuvent ainsi être installées pour, par exemple, développer des interfaces graphiques en Python.\n",
    "\n",
    "Concrètement, voilà ce qu'on peut faire avec Python :\n",
    "\n",
    "* de petits programmes très simples, appelés scripts, chargés d'une mission très précise sur votre ordinateur ; ",
    "\n",
    "* des programmes complets, comme des jeux, des suites bureautiques, des logiciels multimédias, des clients de messagerie…\n",
    "* des projets très complexes, comme des progiciels (ensemble de plusieurs logiciels pouvant fonctionner ensemble, principalement utilisés dans le monde professionnel).\n",
    "\n",
    "Voici quelques-unes des fonctionnalités offertes par Python et ses bibliothèques :\n",
    "\n",
    "* créer des interfaces graphiques\n",
    "* faire circuler des informations au travers d'un réseau\n",
    "* dialoguer d'une façon avancée avec votre système d'exploitation\n",
    "\n",
    "Bien entendu, vous n'allez pas apprendre à faire tout cela en quelques minutes. Mais ce cours vous donnera des bases suffisamment larges pour développer des projets qui pourront devenir, par la suite, assez importants.\n",
    "\n",
    "### Un langage de programmation interprété\n",
    "\n",
    "Python est un langage de programmation interprété, c'est-à-dire que les instructions que vous lui envoyez sont « transcrites » en langage machine au fur et à mesure de leur lecture. D'autres langages (comme le C / C++) sont appelés « langages compilés » car, avant de pouvoir les exécuter, un logiciel spécialisé se charge de transformer le code du programme en langage machine. On appelle cette étape la « compilation ». À chaque modification du code, il faut rappeler une étape de compilation.\n",
    "\n",
    "Les avantages d'un langage interprété sont la simplicité (on ne passe pas par une étape de compilation avant d'exécuter son programme) et la portabilité (un langage tel que Python est censé fonctionner aussi bien sous Windows que sous Linux ou Mac OS, et on ne devrait avoir à effectuer aucun changement dans le code pour le passer d'un système à l'autre). Cela ne veut pas dire que les langages compilés ne sont pas portables, loin de là ! Mais on doit utiliser des compilateurs différents et, d'un système à l'autre, certaines instructions ne sont pas compatibles, voire se comportent différemment.\n",
    "\n",
    "En contrepartie, un langage compilé se révélera bien plus rapide qu'un langage interprété (la traduction à la volée de votre programme ralentit l'exécution), bien que cette différence tende à se faire de moins en moins sentir au fil des améliorations. De plus, il faudra installer Python sur le système d'exploitation que vous utilisez pour que l'ordinateur puisse comprendre votre code.\n",
    "\n",
    "### Différentes versions de Python\n",
    "\n",
    "Lors de la création de la Python Software Foundation, en 2001, et durant les années qui ont suivi, le langage Python est passé par une suite de versions que l'on a englobées dans l'appellation Python 2.x (2.3, 2.5, 2.6…). Depuis le 13 février 2009, la version 3.0.1 est disponible. Cette version casse la compatibilité ascendante qui prévalait lors des dernières versions (ous sommes actuellement à la version 3.9.0).\n",
    "\n",
    "Ainsi un programme qui tourne à la perfection sous Python 2.x devra donc être mis à jour un minimum pour fonctionner de nouveau sous Python 3. C'est pourquoi je vais vous conseiller ultérieurement de télécharger et d'installer la dernière version en date de Python. Je m'attarderai en effet sur les fonctionnalités de Python 3 et certaines d'entre elles ne seront pas accessibles (ou pas sous le même nom) dans les anciennes versions.\n",
    "\n",
    "### En résumé\n",
    "\n",
    "* Python est un langage de programmation interprété, à ne pas confondre avec un langage compilé. ",
    "\n",
    "* Il permet de créer toutes sortes de programmes, comme des jeux, des logiciels, des progiciels, etc. ",
    "\n",
    "* Il est possible d'associer des bibliothèques à Python afin d'étendre ses possibilités. ",
    "\n",
    "* Il est portable, c'est à dire qu'il peut fonctionner sous différents systèmes d'exploitation (Windows, Linux, Mac OS X,…).\n",
    "\n",
    "## Premiers pas avec l'interpréteur de commandes Python\n",
    "\n",
    "Souvenez-vous, au chapitre précédent, je vous ai donné une brève explication sur la différence entre langages compilés et langages interprétés. Eh bien, cet interpréteur de commandes va nous permettre de tester directement du code. Je saisis une ligne d'instructions, j'appuie sur la touche Entrée de mon clavier, je regarde ce que me répond Python (s'il me dit quelque chose), puis j'en saisis une deuxième, une troisième… Cet interpréteur est particulièrement utile pour comprendre les bases de Python et réaliser nos premiers petits programmes. Le principal inconvénient, c'est que le code que vous saisissez n'est pas sauvegardé (sauf si vous l'enregistrez manuellement, mais chaque chose en son temps).\n",
    "Dans la fenêtre que vous avez sous les yeux, l'information qui ne change pas d'un système d'exploitation à l'autre est la série de trois chevrons qui se trouve en bas à gauche des informations :>>>. Ces trois signes signifient : « je suis prêt à recevoir tes instructions ».\n",
    "Comme je l'ai dit, les langages de programmation respectent une syntaxe claire. Vous ne pouvez pas espérer que l'ordinateur comprenne si, dans cette fenêtre, vous commencez par lui demander : « j'aimerais que tu me codes un jeu vidéo génial ». Et autant que vous le sachiez tout de suite (bien qu'à mon avis, vous vous en doutiez), on est très loin d'obtenir des résultats aussi spectaculaires à notre niveau.\n",
    "Tout cela pour dire que, si vous saisissez n'importe quoi dans cette fenêtre, la probabilité est grande que Python vous indique, clairement et fermement, qu'il n'a rien compris.\n",
    "\n",
    "Si, par exemple, vous saisissez « premier test avec Python », vous obtenez le résultat suivant :"
   ]
  },
  {
   "cell_type": "code",
   "execution_count": null,
   "metadata": {},
   "outputs": [],
   "source": [
    "premier test avec Python"
   ]
  },
  {
   "cell_type": "markdown",
   "metadata": {},
   "source": [
    "L'interpréteur parle en anglais et les instructions que vous saisirez, comme pour l'écrasante majorité des langages de programmation, seront également en anglais. Mais pour l'instant, rien de bien compliqué : l'interpréteur vous indique qu'il a trouvé un problème dans votre ligne d'instruction. Il vous indique le numéro de la ligne (en l'occurrence la première), qu'il vous répète obligeamment (ceci est très utile quand on travaille sur un programme de plusieurs centaines de lignes). Puis il vous dit ce qui l'arrête, ici :SyntaxError: invalid syntax. \n",
    "\n",
    "Maintenant que nous avons vu un erreur, voyons un peu ce qui fonctionne.\n",
    "\n",
    "### Vos premières instructions : un peu de calcul mental pour l'ordinateur\n",
    "\n",
    "C'est assez trivial, quand on y pense, mais je trouve qu'il s'agit d'une excellente manière d'aborder pas à pas la syntaxe de Python. Nous allons donc essayer d'obtenir les résultats de calculs plus ou moins compliqués. Je vous rappelle encore une fois qu'exécuter les tests en même temps que moi sur votre machine est une très bonne façon de vous rendre compte de la syntaxe et surtout, de la retenir.\n",
    "\n",
    "Saisir un nombre\n",
    "Vous avez pu voir sur notre premier (et à ce jour notre dernier) test que Python n'aimait pas particulièrement les suites de lettres qu'il ne comprend pas. Par contre, l'interpréteur adore les nombres. D'ailleurs, il les accepte sans sourciller, sans une seule erreur :"
   ]
  },
  {
   "cell_type": "code",
   "execution_count": null,
   "metadata": {},
   "outputs": [],
   "source": [
    "7"
   ]
  },
  {
   "cell_type": "markdown",
   "metadata": {},
   "source": [
    "On saisit un nombre et l'interpréteur le renvoie.\n",
    "Mais dans bien des cas, ce simple retour indique que l'interpréteur a bien compris et que votre saisie est en accord avec sa syntaxe. De même, vous pouvez saisir des nombres à virgul\n"
   ]
  },
  {
   "cell_type": "code",
   "execution_count": null,
   "metadata": {},
   "outputs": [],
   "source": [
    "9.5"
   ]
  },
  {
   "cell_type": "markdown",
   "metadata": {},
   "source": [
    "Attention : on utilise ici la notation anglo-saxonne, c'est-à-dire que le point remplace la virgule. La virgule a un tout autre sens pour Python, prenez donc cette habitude dès maintenant.\n",
    "Il va de soi que l'on peut tout aussi bien saisir des nombres négatifs (vous pouvez d'ailleurs faire l'essai).\n",
    "Opérations courantes\n",
    "Bon, il est temps d'apprendre à utiliser les principaux opérateurs de Python, qui vont vous servir pour la grande majorité de vos programmes.\n",
    "Addition, soustraction, multiplication, division\n",
    "Pour effectuer ces opérations, on utilise respectivement les symboles +, -, * et /."
   ]
  },
  {
   "cell_type": "code",
   "execution_count": null,
   "metadata": {},
   "outputs": [],
   "source": [
    "3 + 4"
   ]
  },
  {
   "cell_type": "code",
   "execution_count": null,
   "metadata": {},
   "outputs": [],
   "source": [
    "-2 + 93"
   ]
  },
  {
   "cell_type": "code",
   "execution_count": null,
   "metadata": {},
   "outputs": [],
   "source": [
    "9.5 + 2"
   ]
  },
  {
   "cell_type": "code",
   "execution_count": null,
   "metadata": {},
   "outputs": [],
   "source": [
    "3.11 + 2.08"
   ]
  },
  {
   "cell_type": "markdown",
   "metadata": {},
   "source": [
    "Pourquoi ce dernier résultat approximatif ?\n",
    "\n",
    "Python n'y est pas pour grand chose. Le problème vient en grande partie de la façon dont les nombres à virgule sont écrits dans la mémoire de votre ordinateur. C'est pourquoi, en programmation, on préfère travailler autant que possible avec des nombres entiers. Cependant, vous remarquerez que l'erreur est infime et qu'elle n'aura pas de réel impact sur les calculs. Les applications qui ont besoin d'une précision mathématique à toute épreuve essayent de pallier ces défauts par d'autres moyens mais ici, ce ne sera pas nécessaire.\n",
    "Faites également des tests pour la soustraction, la multiplication et la division : il n'y a rien de difficile.\n",
    "\n",
    "### Division entière et modulo\n",
    "\n",
    "Si vous avez pris le temps de tester la division, vous vous êtes rendu compte que le résultat est donné avec une virgule flottante."
   ]
  },
  {
   "cell_type": "code",
   "execution_count": null,
   "metadata": {},
   "outputs": [],
   "source": [
    "10 / 5"
   ]
  },
  {
   "cell_type": "code",
   "execution_count": null,
   "metadata": {},
   "outputs": [],
   "source": [
    "10 / 3"
   ]
  },
  {
   "cell_type": "markdown",
   "metadata": {},
   "source": [
    "Il existe deux autres opérateurs qui permettent de connaître le résultat d'une division entière et le reste de cette division.\n",
    "Le premier opérateur utilise le symbole « // ». Il permet d'obtenir la partie entière d'une division."
   ]
  },
  {
   "cell_type": "code",
   "execution_count": null,
   "metadata": {},
   "outputs": [],
   "source": [
    "10 // 3"
   ]
  },
  {
   "cell_type": "markdown",
   "metadata": {},
   "source": [
    "L'opérateur « % », que l'on appelle le « modulo », permet de connaître le reste de la division."
   ]
  },
  {
   "cell_type": "code",
   "execution_count": null,
   "metadata": {},
   "outputs": [],
   "source": [
    "10%3"
   ]
  },
  {
   "cell_type": "markdown",
   "metadata": {},
   "source": [
    "#### Ces notions de partie entière et de reste de division ne sont pas bien difficiles à comprendre et vous serviront très probablement par la suite.\n",
    "\n",
    "Si vous avez du mal à en saisir le sens, sachez donc que :\n",
    "\n",
    "* La partie entière de la division de 10 par 3 est le résultat de cette division, sans tenir compte des chiffres au-delà de la virgule (en l'occurrence, 3).\n",
    "* Pour obtenir le modulo d'une division, on « récupère » son reste. Dans notre exemple, 10/3 = 3 et il reste 1. Une fois que l'on a compris cela, ce n'est pas bien compliqué.\n",
    "\n",
    "Souvenez-vous bien de ces deux opérateurs, et surtout du modulo « % », dont vous aurez besoin dans vos programmes futurs.\n",
    "\n",
    "### En résumé\n",
    "\n",
    "L'interpréteur de commandes Python permet de tester du code au fur et à mesure qu'on l'écrit.\n",
    "L'interpréteur Python accepte des nombres et est capable d'effectuer des calculs.\n",
    "Un nombre décimal s'écrit avec un point et non une virgule.\n",
    "\n",
    "Les calculs impliquant des nombres décimaux donnent parfois des résultats approximatifs, c'est pourquoi on préfèrera, dans la mesure du possible, travailler avec des nombres entiers.\n",
    "\n",
    "\n",
    "# Les variables\n",
    "\n",
    "## Qu'est ce qu'une variable ? Et à quoi cela sert-il ?\n",
    "\n",
    "Les variables sont l'un des concepts qui se retrouvent dans la majorité (et même, en l'occurrence, la totalité) des langages de programmation. Autant dire que sans variable, on ne peut pas programmer, et ce n'est pas une exagération.\n",
    "\n",
    "### C'est quoi une variable ?\n",
    "\n",
    "Une variable est une donnée de votre programme, stockée dans votre ordinateur. C'est un code alpha-numérique que vous allez lier à une donnée de votre programme, afin de pouvoir l'utiliser à plusieurs reprises et faire des calculs un peu plus intéressants avec. C'est bien joli de savoir faire des opérations mais, si on ne peut pas stocker le résultat quelque part, cela devient très vite ennuyeux.\n",
    "Voyez la mémoire de votre ordinateur comme une grosse armoire avec plein de tiroirs. Chaque tiroir peut contenir une donnée ; certaines de ces données seront des variables de votre programme.\n",
    "\n",
    "### Comment cela fonctionne-t-il ?\n",
    "\n",
    "Le plus simplement du monde. Vous allez dire à Python : « je veux que, dans une variable que je nomme age, tu stockes mon âge, pour que je puisse le retenir (si j'ai la mémoire très courte), l'augmenter (à mon anniversaire) et l'afficher si besoin est ».\n",
    "\n",
    "Comme je vous l'ai dit, on ne peut pas passer à côté des variables. Vous ne voyez peut-être pas encore tout l'intérêt de stocker des informations de votre programme et pourtant, si vous ne stockez rien, vous ne pouvez pratiquement rien faire.\n",
    "\n",
    "En Python, pour donner une valeur à une variable, il suffit d'écrire nom_de_la_variable = valeur.\n",
    "\n",
    "Une variable doit respecter quelques règles de syntaxe incontournables :\n",
    "\n",
    "* Le nom de la variable ne peut être composé que de lettres, majuscules ou minuscules, de chiffres et du symbole souligné « _ » (appelé underscore en anglais).\n",
    "* Le nom de la variable ne peut pas commencer par un chiffre.\n",
    "* Le langage Python est sensible à la casse, ce qui signifie que des lettres majuscules et minuscules ne constituent pas la même variable (la variable AGE est différente de aGe, elle-même différente de age).\n",
    "\n",
    "Au-delà de ces règles de syntaxe incontournables, il existe des conventions définies par les programmeurs eux-mêmes. L'une d'elles, que j'ai tendance à utiliser assez souvent, consiste à écrire la variable en minuscules et à remplacer les espaces éventuels par un espace souligné « _ ». Si je dois créer une variable contenant mon âge, elle se nommera donc mon_age. Une autre convention utilisée consiste à passer en majuscule le premier caractère de chaque mot, à l'exception du premier mot constituant la variable. La variable contenant mon âge se nommerait alors monAge.\n",
    "Vous pouvez utiliser la convention qui vous plaît, ou même en créer une bien à vous, mais essayez de rester cohérent et de n'utiliser qu'une seule convention d'écriture. En effet, il est essentiel de pouvoir vous repérer dans vos variables dès que vous commencez à travailler sur des programmes volumineux.\n",
    "\n",
    "Ainsi, si je veux associer mon âge à une variable, la syntaxe sera :"
   ]
  },
  {
   "cell_type": "code",
   "execution_count": null,
   "metadata": {},
   "outputs": [],
   "source": [
    "mon_age = 34"
   ]
  },
  {
   "cell_type": "markdown",
   "metadata": {},
   "source": [
    "Sachez qu'on appelle cette étape l'affectation de valeur à une variable (parfois raccourci en « affectation de variable »). On dit en effet qu'on a affecté la valeur 21 à la variablemon_age.\n",
    "\n",
    "On peut afficher la valeur de cette variable en la saisissant simplement dans l'interpréteur de commandes."
   ]
  },
  {
   "cell_type": "code",
   "execution_count": null,
   "metadata": {},
   "outputs": [],
   "source": [
    "mon_age"
   ]
  },
  {
   "cell_type": "markdown",
   "metadata": {},
   "source": [
    "Les espaces séparant « = » du nom et de la valeur de la variable sont facultatifs. Je les mets pour des raisons de lisibilité.\n",
    "Bon, c'est bien joli tout cela, mais qu'est-ce qu'on fait avec cette variable ?\n",
    "Eh bien, tout ce que vous avez déjà fait au chapitre précédent, mais cette fois en utilisant la variable comme un nombre à part entière. Vous pouvez même affecter à d'autres variables des valeurs obtenues en effectuant des calculs sur la première et c'est là toute la puissance de ce mécanisme.\n",
    "\n",
    "Essayons par exemple d'augmenter de 2 la variable mon_age."
   ]
  },
  {
   "cell_type": "code",
   "execution_count": null,
   "metadata": {},
   "outputs": [],
   "source": [
    "mon_age = mon_age + 2"
   ]
  },
  {
   "cell_type": "code",
   "execution_count": null,
   "metadata": {},
   "outputs": [],
   "source": [
    "mon_age"
   ]
  },
  {
   "cell_type": "markdown",
   "metadata": {},
   "source": [
    "Encore une fois, lors de l'affectation de la valeur, rien ne s'affiche, ce qui est parfaitement normal.\n",
    "Maintenant, essayons d'affecter une valeur à une autre variable d'après la valeur demon_age."
   ]
  },
  {
   "cell_type": "code",
   "execution_count": null,
   "metadata": {},
   "outputs": [],
   "source": [
    "mon_age_x2 = mon_age * 2"
   ]
  },
  {
   "cell_type": "code",
   "execution_count": null,
   "metadata": {},
   "outputs": [],
   "source": [
    "mon_age_x2"
   ]
  },
  {
   "cell_type": "markdown",
   "metadata": {},
   "source": [
    "Encore une fois, je vous invite à tester en long, en large et en travers cette possibilité. Le concept n'est pas compliqué mais extrêmement puissant. De plus, comparé à certains langages, affecter une valeur à une variable est extrêmement simple. Si la variable n'est pas créée, Python s'en charge automatiquement. Si la variable existe déjà, l'ancienne valeur est supprimée et remplacée par la nouvelle. Quoi de plus simple ?\n",
    "Certains mots-clés de Python sont réservés, c'est-à-dire que vous ne pouvez pas créer des variables portant ce nom.\n",
    "\n",
    "En voici la liste pour Python 3 :\n",
    "\n",
    "and\n",
    "del\n",
    "from\n",
    "none\n",
    "true\n",
    "as\n",
    "elif\n",
    "global\n",
    "nonlocal\n",
    "try\n",
    "assert\n",
    "else\n",
    "if\n",
    "not\n",
    "while\n",
    "break\n",
    "except\n",
    "import\n",
    "or\n",
    "with\n",
    "class\n",
    "false\n",
    "in\n",
    "pass\n",
    "yield\n",
    "continue\n",
    "finally\n",
    "is\n",
    "raise\n",
    "def\n",
    "for\n",
    "lambda\n",
    "return\n",
    " \n",
    "Ces mots-clés sont utilisés par Python, vous ne pouvez pas construire de variables portant ces noms. Vous allez découvrir dans la suite de ce cours la majorité de ces mots-clés et comment ils s'utilisent.\n",
    "\n",
    "## Types de données et opérateurs simples\n",
    "\n",
    "Là se trouve un concept très important, que l'on retrouve dans beaucoup de langages de programmation. Ouvrez grand vos oreilles, ou plutôt vos yeux, car vous devrez être parfaitement à l'aise avec ce concept pour continuer ce cours. Rassurez-vous toutefois, du moment que vous êtes attentifs, il n'y a rien de compliqué à comprendre.\n",
    "\n",
    "### Qu'entend-on par « type de données » ?\n",
    "\n",
    "Jusqu'ici, vous n'avez travaillé qu'avec des nombres. Et, s'il faut bien avouer qu'on ne fera que très rarement un programme sans aucun nombre, c'est loin d'être la seule donnée que l'on peut utiliser en Python. À terme, vous serez même capables de créer vos propres types de données, mais n'anticipons pas.\n",
    "Python a besoin de connaître quels types de données sont utilisés pour savoir quelles opérations il peut effectuer avec. Dans ce chapitre, vous allez apprendre à travailler avec des chaînes de caractères, et multiplier une chaîne de caractères ne se fait pas du tout comme la multiplication d'un nombre. Pour certains types de données, la multiplication n'a d'ailleurs aucun sens. Python associe donc à chaque donnée un type, qui va définir les opérations autorisées sur cette donnée en particulier.\n",
    "\n",
    "\n",
    "### Les nombres entiers\n",
    "\n",
    "Et oui, Python différencie les entiers des nombres à virgule flottante !\n",
    "\n",
    "**Pourquoi cela ?** \n",
    "Initialement, c'est surtout pour une question de place en mémoire mais, pour un ordinateur, les opérations que l'on effectue sur des nombres à virgule ne sont pas les mêmes que celles sur les entiers, et cette distinction reste encore d'actualité de nos jours.\n",
    "Le type entier se nomme int en Python (qui correspond à l'anglais « integer », c'est-à-dire entier). La forme d'un entier est un nombre sans virgule."
   ]
  },
  {
   "cell_type": "code",
   "execution_count": null,
   "metadata": {},
   "outputs": [],
   "source": [
    "type(3)"
   ]
  },
  {
   "cell_type": "markdown",
   "metadata": {},
   "source": [
    "Nous avons vu au chapitre précédent les opérations que l'on pouvait effectuer sur ce type de données et, même si vous ne vous en souvenez pas, les deviner est assez élémentaire.\n",
    "\n",
    "### Les nombres flottants\n",
    "\n",
    "Les flottants sont les nombres à virgule. Ils se nommentfloaten Python (ce qui signifie « flottant » en anglais). La syntaxe d'un nombre flottant est celle d'un nombre à virgule (n'oubliez pas de remplacer la virgule par un point). Si ce nombre n'a pas de partie flottante mais que vous voulez qu'il soit considéré par le système comme un flottant, vous pouvez lui ajouter une partie flottante de 0 (exemple 52.0)."
   ]
  },
  {
   "cell_type": "code",
   "execution_count": null,
   "metadata": {},
   "outputs": [],
   "source": [
    "type(3.152)"
   ]
  },
  {
   "cell_type": "markdown",
   "metadata": {},
   "source": [
    "Les nombres après la virgule ne sont pas infinis, puisque rien n'est infini en informatique. Mais la précision est assez importante pour travailler sur des données très fines.\n",
    "\n",
    "### Les chaînes de caractères\n",
    "\n",
    "Heureusement, les types de données disponibles en Python ne sont pas limités aux seuls nombres, bien loin de là. Le dernier type « simple » que nous verrons dans ce chapitre est la chaîne de caractères. Ce type de donnée permet de stocker une série de lettres, pourquoi pas une phrase.\n",
    "On peut écrire une chaîne de caractères de différentes façons :\n",
    "entre guillemets (\"ceci est une chaîne de caractères\") ; ",
    "\n",
    "entre apostrophes ('ceci est une chaîne de caractères') ; ",
    "\n",
    "entre triples guillemets (\"\"\"ceci est une chaîne de caractères\"\"\"). ",
    "\n",
    "On peut, à l'instar des nombres (et de tous les types de données) stocker une chaîne de caractères dans une variable (ma_chaine = \"Bonjour, la foule !\")\n",
    "Si vous utilisez les délimiteurs simples (le guillemet ou l'apostrophe) pour encadrer une chaîne de caractères, il se pose le problème des guillemets ou apostrophes que peut contenir ladite chaîne. Par exemple, si vous tapez"
   ]
  },
  {
   "cell_type": "code",
   "execution_count": null,
   "metadata": {},
   "outputs": [],
   "source": [
    "chaine = 'J'aime le Python!'"
   ]
  },
  {
   "cell_type": "markdown",
   "metadata": {},
   "source": [
    "Vous obtenez un message d'erreur. Ceci est dû au fait que l'apostrophe de « J'aime » est considérée par Python comme la fin de la chaîne et qu'il ne sait pas quoi faire de tout ce qui se trouve au-delà.\n",
    "Pour pallier ce problème, il faut échapper les apostrophes se trouvant au cœur de la chaîne. On insère ainsi un caractère anti-slash « \\ » avant les apostrophes contenues dans le message."
   ]
  },
  {
   "cell_type": "code",
   "execution_count": null,
   "metadata": {},
   "outputs": [],
   "source": [
    "chaine = 'J\\'aime le Python!'"
   ]
  },
  {
   "cell_type": "code",
   "execution_count": null,
   "metadata": {},
   "outputs": [],
   "source": [
    "chaine"
   ]
  },
  {
   "cell_type": "markdown",
   "metadata": {},
   "source": [
    "On doit également échapper les guillemets si on utilise les guillemets comme délimiteurs."
   ]
  },
  {
   "cell_type": "code",
   "execution_count": null,
   "metadata": {},
   "outputs": [],
   "source": [
    "chaine2 = \"\\\"Le seul individu formé, c'est celui qui a appris comment apprendre (...)\\\" (Karl Rogers, 1976)\""
   ]
  },
  {
   "cell_type": "code",
   "execution_count": null,
   "metadata": {},
   "outputs": [],
   "source": [
    "chaine2"
   ]
  },
  {
   "cell_type": "markdown",
   "metadata": {},
   "source": [
    "Le caractère d'échappement « \\ » est utilisé pour créer d'autres signes très utiles. Ainsi, « \\n » symbolise un saut de ligne (\"essai\\nsur\\nplusieurs\\nlignes\"). Pour écrire un véritable anti-slash dans une chaîne, il faut l'échapper lui-même (et donc écrire « \\\\ »).\n",
    "\n",
    "L'interpréteur affiche les sauts de lignes comme on les saisit, c'est-à-dire sous forme de « \\n ». Nous verrons dans la partie suivante comment afficher réellement ces chaînes de caractères et pourquoi l'interpréteur ne les affiche pas comme il le devrait.\n",
    "\n",
    "Utiliser les triples guillemets pour encadrer une chaîne de caractères dispense d'échapper les guillemets et apostrophes, et permet d'écrire plusieurs lignes sans symboliser les retours à la ligne au moyen de « \\n »."
   ]
  },
  {
   "cell_type": "code",
   "execution_count": null,
   "metadata": {},
   "outputs": [],
   "source": [
    "chaine3 = \"\"\"Ceci est un nouvel\n",
    "essai sur plusieurs\n",
    "lignes\"\"\""
   ]
  },
  {
   "cell_type": "code",
   "execution_count": null,
   "metadata": {},
   "outputs": [],
   "source": [
    "chaine3"
   ]
  },
  {
   "cell_type": "markdown",
   "metadata": {},
   "source": [
    "Notez que les trois chevrons sont remplacés par trois points : cela signifie que l'interpréteur considère que vous n'avez pas fini d'écrire cette instruction. En effet, celle-ci ne s'achève qu'une fois la chaîne refermée avec trois nouveaux guillemets. Les sauts de lignes seront automatiquement remplacés, dans la chaîne, par des « \\n ».\n",
    "Vous pouvez utiliser, à la place des trois guillemets, trois apostrophes qui jouent exactement le même rôle. Je n'utilise personnellement pas ces délimiteurs, mais sachez qu'ils existent et ne soyez pas surpris si vous les voyez un jour dans un code source.\n",
    "\n",
    "Voilà, nous avons bouclé le rapide tour d'horizon des types simples. Qualifier les chaînes de caractères de type simple n'est pas strictement vrai mais nous n'allons pas, dans ce chapitre, entrer dans le détail des opérations que l'on peut effectuer sur ces chaînes. C'est inutile pour l'instant et ce serait hors sujet. Cependant, rien ne vous empêche de tester vous mêmes quelques opérations comme l'addition et la multiplication (dans le pire des cas, Python vous dira qu'il ne peut pas faire ce que vous lui demandez et, comme nous l'avons vu, il est peu rancunier).\n",
    "\n",
    "### L'incrémentation\n",
    "\n",
    "Au chapitre précédent, nous avons vu les opérateurs « classiques » pour manipuler des nombres mais aussi, comme on le verra plus tard, d'autres types de données. D'autres opérateurs ont été créés afin de simplifier la manipulation des variables.\n",
    "Vous serez amenés par la suite, et assez régulièrement, à incrémenter des variables. L'incrémentation désigne l'augmentation de la valeur d'une variable d'un certain nombre. Jusqu'ici, j'ai procédé comme ci-dessous pour augmenter une variable de 1 :\n",
    "\n",
    "variable = variable + 1\n",
    "\n",
    "Cette syntaxe est claire et intuitive mais assez longue, et les programmeurs, tout le monde le sait, sont des fainéants nés. On a donc trouvé plus court.\n",
    "\n",
    "variable += 1\n",
    "\n",
    "L'opérateur += revient à ajouter à la variable la valeur qui suit l'opérateur. Les opérateurs -=, *= et /= existent également, bien qu'ils soient moins utilisés.\n",
    "\n",
    "### Bonus\n",
    "\n",
    "Python propose un moyen simple de permuter deux variables (échanger leur valeur).\n",
    "Dans d'autres langages, il est nécessaire de passer par une troisième variable qui retient l'une des deux valeurs… ici c'est bien plus simple :"
   ]
  },
  {
   "cell_type": "code",
   "execution_count": null,
   "metadata": {},
   "outputs": [],
   "source": [
    "a = 5\n",
    "b = 32\n",
    "a,b = b,a #permutation"
   ]
  },
  {
   "cell_type": "code",
   "execution_count": null,
   "metadata": {},
   "outputs": [],
   "source": [
    "a"
   ]
  },
  {
   "cell_type": "code",
   "execution_count": null,
   "metadata": {},
   "outputs": [],
   "source": [
    "b"
   ]
  },
  {
   "cell_type": "markdown",
   "metadata": {},
   "source": [
    "Comme vous le voyez, après l'exécution de la ligne 3, les variables a et b ont échangé leurs valeurs.\n",
    "On retrouvera cette distribution d'affectation bien plus loin.\n",
    "On peut aussi affecter assez simplement une même valeur à plusieurs variables :"
   ]
  },
  {
   "cell_type": "code",
   "execution_count": null,
   "metadata": {},
   "outputs": [],
   "source": [
    "x = y = 3"
   ]
  },
  {
   "cell_type": "code",
   "execution_count": null,
   "metadata": {},
   "outputs": [],
   "source": [
    "x"
   ]
  },
  {
   "cell_type": "code",
   "execution_count": null,
   "metadata": {},
   "outputs": [],
   "source": [
    "y"
   ]
  },
  {
   "cell_type": "markdown",
   "metadata": {},
   "source": [
    "Enfin, ce n'est pas encore d'actualité pour vous mais sachez qu'on peut couper une instruction Python, pour l'écrire sur deux lignes ou plus."
   ]
  },
  {
   "cell_type": "code",
   "execution_count": null,
   "metadata": {},
   "outputs": [],
   "source": [
    "1 + 4 - 3 * 19 + 33 - 45 * 2 + (8 - 3) \\\n",
    "-6 + 23.5"
   ]
  },
  {
   "cell_type": "markdown",
   "metadata": {},
   "source": [
    "Comme vous le voyez, le symbole « \\ » permet, avant un saut de ligne, d'indiquer à Python que « cette instruction se poursuit à la ligne suivante ». Vous pouvez ainsi morceler votre instruction sur plusieurs lignes."
   ]
  },
  {
   "cell_type": "markdown",
   "metadata": {},
   "source": [
    "## Introduction aux fonctions\n",
    "\n",
    "Je me permets donc d'introduire ici, dans ce chapitre sur les variables, l'utilisation des fonctions.\n",
    "Il s'agit finalement bien davantage d'une application concrète de ce que vous avez appris à l'instant. Un chapitre entier sera consacré aux fonctions, mais utiliser celles que je vais vous montrer n'est pas sorcier et pourra vous être utile.\n",
    "\n",
    "\n",
    "### À quoi servent les fonctions ?\n",
    "\n",
    "Une fonction exécute un certain nombre d'instructions déjà enregistrées. En gros, c'est comme si vous enregistriez un groupe d'instructions pour faire une action précise et que vous lui donniez un nom. Vous n'avez plus ensuite qu'à appeler cette fonction par son nom autant de fois que nécessaire (cela évite bon nombre de répétitions). Mais nous verrons tout cela plus en détail par la suite.\n",
    "\n",
    "La plupart des fonctions ont besoin d'au moins un paramètre pour travailler sur une donnée ; ces paramètres sont des informations que vous passez à la fonction afin qu'elle travaille dessus. Les fonctions que je vais vous montrer ne font pas exception. Ce concept vous semble peut-être un peu difficile à saisir dans son ensemble mais rassurez-vous, les exemples devraient tout rendre limpide.\n",
    "Les fonctions s'utilisent en respectant la syntaxe suivante : nom_de_la_fonction(parametre_1,parametre_2,…,parametre_n).\n",
    "\n",
    "Vous commencez par écrire le nom de la fonction.\n",
    "\n",
    "Vous placez entre parenthèses les paramètres de la fonction. Si la fonction n'attend aucun paramètre, vous devrez quand même mettre les parenthèses, sans rien entre elles.\n",
    "\n",
    "### La fonction « type »\n",
    "\n",
    "Dans la partie précédente, je vous ai présenté les types de données simples, du moins une partie d'entre eux. Une des grandes puissances de Python est qu'il comprend automatiquement de quel type est une variable et cela lors de son affectation. Mais il est pratique de pouvoir savoir de quel type est une variable.\n",
    "La syntaxe de cette fonction est simple :\n",
    "type(nom_de_la_variable)\n",
    "\n",
    "La fonction renvoie le type de la variable passée en paramètre. Vu que nous sommes dans l'interpréteur de commandes, cette valeur sera affichée.\n",
    "\n",
    "Si vous saisissez dans l'interpréteur les lignes suivantes :"
   ]
  },
  {
   "cell_type": "code",
   "execution_count": null,
   "metadata": {},
   "outputs": [],
   "source": [
    "a = 3\n",
    "type(a)"
   ]
  },
  {
   "cell_type": "markdown",
   "metadata": {},
   "source": [
    "Vous obtenez :\n",
    "\n",
    "<class 'int'>\n",
    "\n",
    "Python vous indique donc que la variable a appartient à la classe des entiers.\n",
    "Cette notion de classe ne sera pas approfondie avant plusieurs chapitres mais sachez qu'on peut la rapprocher d'un type de donnée.\n",
    "Vous pouvez faire le test sans passer par des variables :"
   ]
  },
  {
   "cell_type": "code",
   "execution_count": null,
   "metadata": {},
   "outputs": [],
   "source": [
    "type(3.4)"
   ]
  },
  {
   "cell_type": "code",
   "execution_count": null,
   "metadata": {},
   "outputs": [],
   "source": [
    "type(\"un essai\")"
   ]
  },
  {
   "cell_type": "markdown",
   "metadata": {},
   "source": [
    "str est l'abréviation de « string » qui signifie chaîne (sous-entendu, de caractères) en anglais.\n",
    "\n",
    "### La fonction print\n",
    "\n",
    "La fonction print permet d'afficher la valeur d'une ou plusieurs variables.\n",
    "Mais… on ne fait pas exactement la même chose en saisissant juste le nom de la variable dans l'interpréteur ?\n",
    "Oui et non. L'interpréteur affiche bien la valeur de la variable car il affiche automatiquement tout ce qu'il peut, pour pouvoir suivre les étapes d'un programme. Cependant, quand vous ne travaillerez plus avec l'interpréteur, taper simplement le nom de la variable n'aura aucun effet. De plus, et vous l'aurez sans doute remarqué, l'interpréteur entoure les chaînes de caractères de délimiteurs et affiche les caractères d'échappement, tout ceci encore pour des raisons de clarté.\n",
    "\n",
    "La fonction print est dédiée à l'affichage uniquement. Le nombre de ses paramètres est variable, c'est-à-dire que vous pouvez lui demander d'afficher une ou plusieurs variables. Considérez cet exemple :"
   ]
  },
  {
   "cell_type": "code",
   "execution_count": null,
   "metadata": {},
   "outputs": [],
   "source": [
    "a = 3\n",
    "print(a)"
   ]
  },
  {
   "cell_type": "code",
   "execution_count": null,
   "metadata": {},
   "outputs": [],
   "source": [
    "a = a + 3\n",
    "b = a - 2\n",
    "print(\"a =\", a, \"et b =\", b)"
   ]
  },
  {
   "cell_type": "markdown",
   "metadata": {},
   "source": [
    "Le premier appel à print se contente d'afficher la valeur de la variablea, c'est-à-dire « 3 ».\n",
    "Le second appel à print affiche :\n",
    "\n",
    "a = 6 et b = 4\n",
    "\n",
    "Ce deuxième appel à print est peut-être un peu plus dur à comprendre. En fait, on passe quatre paramètres à print, deux chaînes de caractères et les variables a et b. Quand Python interprète cet appel de fonction, il va afficher les paramètres dans l'ordre de passage, en les séparant par un espace.\n",
    "Relisez bien cet exemple, il montre tout l'intérêt des fonctions. Si vous avez du mal à le comprendre dans son ensemble, décortiquez-le en prenant indépendamment chaque paramètre.\n",
    "Testez l'utilisation de print avec d'autres types de données et en insérant des chaînes avec des sauts de lignes et des caractères échappés, pour bien vous rendre compte de la différence.\n",
    "\n",
    "### Un petit « Hello World ! » ?\n",
    "\n",
    "Quand on fait un cours sur un langage, quel qu'il soit, il est d'usage de présenter le programme « Hello World ! », qui illustre assez rapidement la syntaxe superficielle d'un langage.\n",
    "Le but du jeu est très simple : écrire un programme qui affiche « Hello World ! » à l'écran. Dans certains langages, notamment les langages compilés, vous pourrez nécessiter jusqu'à une dizaine de lignes pour obtenir ce résultat. En Python, comme nous venons de le voir, il suffit d'une seule ligne :"
   ]
  },
  {
   "cell_type": "code",
   "execution_count": null,
   "metadata": {},
   "outputs": [],
   "source": [
    "print(\"Hello World !\")"
   ]
  },
  {
   "cell_type": "markdown",
   "metadata": {},
   "source": [
    "Pour plus d'informations, n'hésitez pas à consulter la page Wikipédia consacrée à « Hello World ! » ; vous avez même des codes rédigés en différents langages de programmation, cela peut être intéressant.\n",
    "\n",
    "### En résumé\n",
    "\n",
    "Les variables permettent de conserver dans le temps des données de votre programme.\n",
    "Vous pouvez vous servir de ces variables pour différentes choses : les afficher, faire des calculs avec, etc.\n",
    "Pour affecter une valeur à une variable, on utilise la syntaxenom_de_variable = valeur.\n",
    "Il existe différents types de variables, en fonction de l'information que vous désirez conserver:\n",
    "int, float, chaîne de caractères etc.\n",
    "Pour afficher une donnée, comme la valeur d'une variable par exemple, on utilise la fonction print."
   ]
  },
  {
   "cell_type": "markdown",
   "metadata": {},
   "source": [
    "# Les structures conditionnelles\n",
    "\n",
    "\n",
    "Dans ce chapitre, nous allons parler des structures conditionnelles, qui vont vous permettre de faire des tests et d'aller plus loin dans la programmation.\n",
    "\n",
    "Les conditions permettent d'exécuter une ou plusieurs instructions dans un cas, d'autres instructions dans un autre cas.\n",
    "\n",
    "Nous finirons ce chapitre en créant notre premier « vrai » programme : même si vous ne pensez pas encore pouvoir faire quelque chose de très consistant, à la fin de ce chapitre vous aurez assez de matière pour coder un petit programme dans un but très précis.\n",
    "\n",
    "## Vos premières conditions et blocs d'instructions\n",
    "\n",
    "### Forme minimale en if\n",
    "\n",
    "Les conditions sont un concept essentiel en programmation.\n",
    "Elles vont vous permettre de faire une action précise si, par exemple, une variable est positive, une autre action si cette variable est négative, ou une troisième action si la variable est nulle. \n"
   ]
  },
  {
   "cell_type": "code",
   "execution_count": null,
   "metadata": {},
   "outputs": [],
   "source": [
    "# Premier exemple de condition\n",
    "a = 5\n",
    "if a > 0:\n",
    "    print(\"a est supérieur à 0.\")"
   ]
  },
  {
   "cell_type": "markdown",
   "metadata": {},
   "source": [
    "Détaillons ce code, ligne par ligne :\n",
    "\n",
    "La première ligne est un commentaire décrivant qu'il s'agit du premier test de condition.\n",
    "Elle est ignorée par l'interpréteur et sert juste à vous renseigner sur le code qui va suivre.\n",
    "\n",
    "On se contente d'affecter la valeur 5 à la variable a.\n",
    "\n",
    "Ici se trouve notre test conditionnel.\n",
    "\n",
    "Il se compose, dans l'ordre :\n",
    "\n",
    "du mot clé if qui signifie « si » en anglais ;\n",
    "\n",
    "de la condition proprement dite, a > 0, qu'il est facile de lire\n",
    "(une liste des opérateurs autorisés pour la comparaison sera présentée plus bas) ;\n",
    "\n",
    "du signe deux points, « : », qui termine la condition et est indispensable : Python affichera une erreur de syntaxe si vous l'omettez.\n",
    "\n",
    "Ici se trouve l'instruction à exécuter dans le cas où a est supérieur à 0.\n",
    "Après que vous ayez appuyé sur Entrée à la fin de la ligne précédente, l'interpréteur vous présente la série de trois points qui signifie qu'il attend la saisie du bloc d'instructions concerné avant de l'interpréter.\n",
    "Cette instruction (et les autres instructions à exécuter s'il y en a) est indentée, c'est-à-dire décalée vers la droite. Des explications supplémentaires seront données un peu plus bas sur les indentations.\n",
    "\n",
    "Il y a deux notions importantes sur lesquelles nous devons à présent revenir :\n",
    "\n",
    "La première est celle de bloc d'instructions. On entend par bloc d'instructions une série d'instructions qui s'exécutent dans un cas précis (par condition, comme on vient de le voir, par répétition, comme on le verra plus tard…). Ici, notre bloc n'est constitué que d'une seule instruction (la ligne 4 qui fait appel à print). Mais rien ne nous empêche de mettre plusieurs instructions dans ce bloc."
   ]
  },
  {
   "cell_type": "code",
   "execution_count": null,
   "metadata": {},
   "outputs": [],
   "source": [
    "a = 5\n",
    "b = 8\n",
    "if a > 0:\n",
    "    # On incrémente la valeur de b\n",
    "    b += 1\n",
    "    # On affiche les valeurs des variables\n",
    "    print(\"a =\",a,\"et b =\",b)"
   ]
  },
  {
   "cell_type": "markdown",
   "metadata": {},
   "source": [
    "La seconde notion importante est celle d'indentation. On entend par indentation un certain décalage vers la droite, obtenu par un (ou plusieurs) espaces ou tabulations.\n",
    "\n",
    "Les indentations sont essentielles pour Python. Il ne s'agit pas, comme dans d'autres langages tels que le C++ ou le Java, d'un confort de lecture mais bien d'un moyen pour l'interpréteur de savoir où se trouvent le début et la fin d'un bloc.\n",
    "\n",
    "### Forme complète (if, elif et else)\n",
    "\n",
    "#### Les limites de la condition simple en if\n",
    "\n",
    "La première forme de condition que l'on vient de voir est pratique mais assez incomplète.\n",
    "\n",
    "Considérons, par exemple, une variable a de type entier. On souhaite faire une action si cette variable est positive et une action différente si elle est négative. Il est possible d'obtenir ce résultat avec la forme simple d'une condition :"
   ]
  },
  {
   "cell_type": "code",
   "execution_count": null,
   "metadata": {},
   "outputs": [],
   "source": [
    "a = 0\n",
    "if a > 0: # Si a est positif\n",
    "    print(\"a est positif.\")\n",
    "if a < 0: # a est négatif\n",
    "    print(\"a est négatif.\")"
   ]
  },
  {
   "cell_type": "markdown",
   "metadata": {},
   "source": [
    "Amusez-vous à changer la valeur de a et exécutez à chaque fois les conditions ; vous obtiendrez des messages différents, sauf si a est égal à 0. En effet, aucune action n'a été prévue si a vaut 0.\n",
    "\n",
    "Cette méthode n'est pas optimale, tout d'abord parce qu'elle nous oblige à écrire deux conditions séparées pour tester une même variable. De plus, et même si c'est impossible par cet exemple, dans le cas où la variable remplirait les deux conditions, les deux portions de code s'exécuteraient.\n",
    "\n",
    "La condition if est donc bien pratique mais insuffisante.\n",
    "\n",
    "#### L'instruction else:\n",
    "\n",
    "Le mot-clé else, qui signifie « sinon » en anglais, permet de définir une première forme de complément à notre instruction if."
   ]
  },
  {
   "cell_type": "code",
   "execution_count": null,
   "metadata": {},
   "outputs": [],
   "source": [
    "age = 21\n",
    "if age >= 18: # Si age est supérieur ou égal à 18\n",
    "    print(\"Vous êtes majeur.\")\n",
    "else: # Sinon (age inférieur à 18)\n",
    "    print(\"Vous êtes mineur.\")"
   ]
  },
  {
   "cell_type": "markdown",
   "metadata": {},
   "source": [
    "Ici Python exécute soit l'un, soit l'autre, et jamais les deux.\n",
    "Notez que cette instruction else doit se trouver au même niveau d'indentation que l'instruction if qu'elle complète. De plus, elle se termine également par deux points puisqu'il s'agit d'une condition, même si elle est sous-entendue.\n",
    "\n",
    "L'exemple de tout à l'heure pourrait donc se présenter comme suit, avec l'utilisation de else:"
   ]
  },
  {
   "cell_type": "code",
   "execution_count": null,
   "metadata": {},
   "outputs": [],
   "source": [
    "a = 0\n",
    "if a > 0:\n",
    "    print(\"a est supérieur à 0.\")\n",
    "else:\n",
    "    print(\"a est inférieur ou égal à 0.\")"
   ]
  },
  {
   "cell_type": "markdown",
   "metadata": {},
   "source": [
    "Cette fois, le cas où a vaut 0 est bien pris en compte.\n",
    "En effet, la condition initiale prévoit d'exécuter le premier bloc d'instructions si a est strictement supérieur à 0. Sinon, on exécute le second bloc d'instructions.\n",
    "\n",
    "Si l'on veut faire la différence entre les nombres positifs, négatifs et nuls, il va falloir utiliser une condition intermédiaire.\n",
    "\n",
    "#### L'instruction elif:\n",
    "\n",
    "Le mot clé elif est une contraction de « else if », que l'on peut traduire très littéralement par « sinon si ». \n",
    "\n",
    "Dans l'exemple que nous venons juste de voir, l'idéal serait d'écrire :\n",
    "\n",
    "si a est strictement supérieur à 0, on dit qu'il est positif ;\n",
    "\n",
    "sinon si a est strictement inférieur à 0, on dit qu'il est négatif ;\n",
    "\n",
    "sinon, a ne peut qu'être égal à 0, on dit alors que a est nul.\n",
    "\n",
    "Cela donne :"
   ]
  },
  {
   "cell_type": "code",
   "execution_count": null,
   "metadata": {},
   "outputs": [],
   "source": [
    "a = 5\n",
    "if a > 0: # Positif\n",
    "    print(\"a est positif.\")\n",
    "elif a < 0: # Négatif\n",
    "    print(\"a est négatif.\")\n",
    "else: # Nul\n",
    "    print(\"a est nul.\")"
   ]
  },
  {
   "cell_type": "markdown",
   "metadata": {},
   "source": [
    "De même que le else, le elif est sur le même niveau d'indentation que le if initial.\n",
    "Il se termine aussi par deux points. Cependant, entre le elif et les deux points se trouve une nouvelle condition.\n",
    "\n",
    "Linéairement, le schéma d'exécution se traduit comme suit :\n",
    "\n",
    "On regarde si a est strictement supérieur à 0.\n",
    "Si c'est le cas, on affiche « a est positif » et on s'arrête là.\n",
    "\n",
    "Sinon, on regarde si a est strictement inférieur à 0.\n",
    "Si c'est le cas, on affiche « a est négatif » et on s'arrête.\n",
    "\n",
    "Sinon, on affiche « a est nul ».\n",
    "\n",
    "Vous pouvez mettre autant de elif que vous voulez après une condition en if. Tout comme le else, cette instruction est facultative et, quand bien même vous construiriez une instruction en if, elif, vous n'êtes pas du tout obligé de prévoir un else après. En revanche, l'instruction else ne peut figurer qu'une fois, clôturant le bloc de la condition. Deux instructions else dans une même condition ne sont pas envisageables et n'auraient de toute façon aucun sens.\n",
    "\n",
    "Sachez qu'il est heureusement possible d'imbriquer des conditions et, dans ce cas, l'indentation permet de comprendre clairement le schéma d'exécution du programme. Je vous laisse essayer cette possibilité.\n",
    "\n",
    "### De nouveaux opérateurs\n",
    "\n",
    "#### Les opérateurs de comparaison\n",
    "\n",
    "Les conditions doivent nécessairement introduire de nouveaux opérateurs, dits opérateurs de comparaison.\n",
    "\n",
    "< Strictement inférieur à\n",
    "\n",
    "> Strictement supérieur à\n",
    "\n",
    "<= Inférieur ou égal à\n",
    "\n",
    ">= Supérieur ou égal à\n",
    "\n",
    "== Égal à\n",
    "\n",
    "!= Différent de\n",
    "\n",
    "**Attention : l'égalité de deux valeurs est comparée avec l'opérateur « == » et non « = ». Ce dernier est en effet l'opérateur d'affectation et ne doit pas être utilisé dans une condition.**\n",
    "\n",
    "#### Prédicats et booléens\n",
    "\n",
    "Avant d'aller plus loin, sachez que les conditions qui se trouvent, par exemple, entre if et les deux points sont appelés des prédicats. Vous pouvez tester ces prédicats directement dans l'interpréteur pour comprendre les explications qui vont suivre."
   ]
  },
  {
   "cell_type": "code",
   "execution_count": null,
   "metadata": {},
   "outputs": [],
   "source": [
    "a = 5"
   ]
  },
  {
   "cell_type": "code",
   "execution_count": null,
   "metadata": {},
   "outputs": [],
   "source": [
    "a == 5"
   ]
  },
  {
   "cell_type": "code",
   "execution_count": null,
   "metadata": {},
   "outputs": [],
   "source": [
    "a > -8"
   ]
  },
  {
   "cell_type": "code",
   "execution_count": null,
   "metadata": {},
   "outputs": [],
   "source": [
    "a != 33.19"
   ]
  },
  {
   "cell_type": "markdown",
   "metadata": {},
   "source": [
    "L'interpréteur renvoie tantôt True (c'est-à-dire « vrai »), tantôt False (c'est-à-dire « faux »).\n",
    "\n",
    "True et False sont les deux valeurs possibles d'un type que nous n'avons pas vu jusqu'ici : le type booléen (bool).\n",
    "\n",
    "**N'oubliez pas que True et False sont des valeurs ayant leur première lettre en majuscule.**\n",
    "\n",
    "Les variables de ce type ne peuvent prendre comme valeur que vrai ou faux et peuvent être pratiques, justement, pour stocker des prédicats, de la façon que nous avons vue ou d'une façon plus détournée."
   ]
  },
  {
   "cell_type": "code",
   "execution_count": null,
   "metadata": {},
   "outputs": [],
   "source": [
    "age = 21\n",
    "majeur = False\n",
    "if age >= 18:\n",
    "    majeur = True"
   ]
  },
  {
   "cell_type": "code",
   "execution_count": null,
   "metadata": {},
   "outputs": [],
   "source": [
    "majeur"
   ]
  },
  {
   "cell_type": "markdown",
   "metadata": {},
   "source": [
    "À la fin de cet exemple, majeur vaut True, c'est-à-dire « vrai », si l'âge est supérieur ou égal à 18.\n",
    "Sinon, il continue de valoir False.\n",
    "Les booléens ne vous semblent peut-être pas très utiles pour l'instant mais vous verrez qu'ils rendent de grands services !\n",
    "\n",
    "#### Les mots-clés and, or et not\n",
    "\n",
    "Il arrive souvent que nos conditions doivent tester plusieurs prédicats, par exemple quand l'on cherche à vérifier si une variable quelconque, de type entier, se trouve dans un intervalle précis (c'est-à-dire comprise entre deux nombres). Avec nos méthodes actuelles, le plus simple serait d'écrire :"
   ]
  },
  {
   "cell_type": "code",
   "execution_count": null,
   "metadata": {},
   "outputs": [],
   "source": [
    "# On fait un test pour savoir si a est comprise dans l'intervalle allant de 2 à 8 inclus\n",
    "a = 4\n",
    "if a >= 2:\n",
    "    if a <= 8:  \n",
    "        print(\"a est dans l'intervalle.\")\n",
    "    else:\n",
    "        print(\"a n'est pas dans l'intervalle.\")\n",
    "else:\n",
    "    print(\"a n'est pas dans l'intervalle.\")"
   ]
  },
  {
   "cell_type": "markdown",
   "metadata": {},
   "source": [
    "Cela marche mais c'est assez lourd, d'autant que, pour être sûr qu'un message soit affiché à chaque fois, il faut fermer chacune des deux conditions à l'aide d'un else (la seconde étant imbriquée dans la première).\n",
    "\n",
    "Si vous avez du mal à comprendre cet exemple, prenez le temps de le décortiquer, ligne par ligne, il n'y a rien de compliqué.\n",
    "\n",
    "Il existe cependant le mot clé and (qui signifie « et » en anglais) qui va nous rendre ici un fier service.\n",
    "En effet, on cherche à tester à la fois si a est supérieur ou égal à 2 et inférieur ou égal à 8.\n",
    "On peut donc réduire ainsi les conditions imbriquées :"
   ]
  },
  {
   "cell_type": "code",
   "execution_count": null,
   "metadata": {},
   "outputs": [],
   "source": [
    "if a>=2 and a<=8:\n",
    "    print(\"a est dans l'intervalle.\")\n",
    "else:\n",
    "    print(\"a n'est pas dans l'intervalle.\")"
   ]
  },
  {
   "cell_type": "markdown",
   "metadata": {},
   "source": [
    "Simple et bien plus compréhensible !\n",
    "\n",
    "Sur le même mode, il existe le mot clé or qui signifie cette fois « ou ».\n",
    "Nous allons prendre le même exemple, sauf que nous allons évaluer notre condition différemment.\n",
    "\n",
    "Nous allons chercher à savoir si a n'est pas dans l'intervalle.\n",
    "La variable ne se trouve pas dans l'intervalle si elle est inférieure à 2 ou supérieure à 8."
   ]
  },
  {
   "cell_type": "code",
   "execution_count": null,
   "metadata": {},
   "outputs": [],
   "source": [
    "if a<2 or a>8:\n",
    "    print(\"a n'est pas dans l'intervalle.\")\n",
    "else:\n",
    "    print(\"a est dans l'intervalle.\")"
   ]
  },
  {
   "cell_type": "markdown",
   "metadata": {},
   "source": [
    "Enfin, il existe le mot clé not qui « inverse » un prédicat. Le prédicat not a==5 équivaut donc à a!=5.\n",
    "\n",
    "not rend la syntaxe plus claire.\n",
    "\n",
    "Pour cet exemple, j'utilise le mot clé, is, qui teste l'égalité non pas des valeurs de deux variables, mais de leurs références. Nous y reviendrons."
   ]
  },
  {
   "cell_type": "code",
   "execution_count": null,
   "metadata": {},
   "outputs": [],
   "source": [
    "majeur = False\n",
    "if majeur is not True:\n",
    "    print(\"Vous n'êtes pas encore majeur.\")"
   ]
  },
  {
   "cell_type": "markdown",
   "metadata": {},
   "source": [
    "Vous pouvez tester des prédicats plus complexes de la même façon que les précédents, en les saisissant directement, sans le if ni les deux points, dans l'interpréteur de commandes. Vous pouvez utiliser les parenthèses ouvrantes et fermantes pour encadrer des prédicats et les comparer suivant des priorités bien précises (nous verrons ce point plus loin, si vous n'en comprenez pas l'utilité).\n",
    "\n",
    "## Votre premier programme !\n",
    "\n",
    "### Avant de commencer\n",
    "\n",
    "Vous allez dans cette section écrire votre premier programme. Vous allez sûrement tester les syntaxes directement dans l'interpréteur de commandes.\n",
    "\n",
    "Vous pourriez préférer écrire votre code directement dans un fichier que vous pouvez ensuite exécuter. Si c'est le cas, je vous renvoie au chapitre traitant de ce point dans ce cours.\n",
    "\n",
    "### Est ce une année bissextile ?\n",
    "\n",
    "Le but de notre programme est de déterminer si une année saisie par l'utilisateur est bissextile. Il s'agit d'un sujet très prisé des enseignants en informatique quand il s'agit d'expliquer les conditions.\n",
    "\n",
    "Je vous rappelle les règles qui déterminent si une année est bissextile ou non.\n",
    "\n",
    "Les années bissextiles sont une manière de s’assurer qu’il n’y a pas de décalage dans le calendrier. Il y a environ 365,24 jours dans une année, ce qui signifie qu’il faut ajouter un jour tous les quatre ans et une année avec un jour supplémentaire est appelée une année bissextile. Il est nécessaire de le faire pour éviter un retard de plusieurs heures qui s’accumule tous les ans. Il est facile de calculer les années bissextiles, mais il y a quelques règles à retenir pendant que vous faites vos calculs. Si vous préférez consulter un calendrier au lieu de faire des calculs, c’est aussi une option.\n",
    "\n",
    "La règle, instaurée par le calendrier grégorien en 1582, est d'ajouter un jour toutes les années dont la valeur répond à l'une des conditions suivantes :\n",
    "\n",
    "multiple de 4 mais pas de 100\n",
    "multiple de 400.\n",
    "Ainsi, 1700, 1800 et 1900 n'était pas bissextiles (divisibles par 100) mais 1600 et 2000 étaient bissextiles (divisibles par 400).\n",
    "\n",
    "Cette règle consiste donc à ajouter un jour tous les 4 ans, sauf 3 fois tous les 400 ans. Elle rattrape en partie la différence entre le nombre de jours du calendrier et le nombre de jours réels, qui est de 365,2422 jours, la Terre n'exécutant pas un nombre entier de rotations sur elle-même quand elle boucle une révolution autour du Soleil (ce qui serait une coïncidence extraordinaire).\n",
    "\n",
    "Une année est dite bissextile si c'est un multiple de 4, sauf si c'est un multiple de 100. Toutefois, elle est considérée comme bissextile si c'est un multiple de 400. Je développe :\n",
    "\n",
    "Si une année n'est pas multiple de 4, on s'arrête là, elle n'est pas bissextile.\n",
    "\n",
    "Si elle est multiple de 4, on regarde si elle est multiple de 100.\n",
    "\n",
    "Si c'est le cas, on regarde si elle est multiple de 400.\n",
    "\n",
    "Si c'est le cas, l'année est bissextile.\n",
    "\n",
    "Sinon, elle n'est pas bissextile.\n",
    "\n",
    "Sinon, elle est bissextile.\n",
    "\n",
    "#### Solution ou résolution\n",
    "\n",
    "Voilà. Le problème est posé clairement (sinon relisez attentivement l'énoncé autant de fois que nécessaire), il faut maintenant réfléchir à sa résolution en termes de programmation. C'est une phase de transition assez délicate de prime abord et je vous conseille de schématiser le problème, de prendre des notes sur les différentes étapes, sans pour l'instant penser au code. C'est une phase purement algorithmique, autrement dit, on réfléchit au programme sans réfléchir au code proprement dit.\n",
    "\n",
    "Vous aurez besoin, pour réaliser ce petit programme, de quelques indications qui sont réellement spécifiques à Python. Ne lisez donc ceci qu'après avoir cerné et clairement écrit le problème d'une façon plus algorithmique. Cela étant dit, si vous peinez à trouver une solution, ne vous y attardez pas. Cette phase de réflexion est assez difficile au début et, parfois il suffit d'un peu de pratique et d'explications pour comprendre l'essentiel.\n",
    "\n",
    "#### La fonction input()\n",
    "\n",
    "Tout d'abord, j'ai mentionné une année saisie par l'utilisateur. En effet, depuis tout à l'heure, nous testons des variables que nous déclarons nous-mêmes, avec une valeur précise. La condition est donc assez ridicule.\n",
    "\n",
    "input()est une fonction qui va, pour nous, caractériser nos premières interactions avec l'utilisateur : le programme réagira différemment en fonction du nombre saisi par l'utilisateur.\n",
    "\n",
    "input()accepte un paramètre facultatif : le message à afficher à l'utilisateur. Cette instruction interrompt le programme et attend que l'utilisateur saisisse ce qu'il veut puis appuie sur Entrée. À cet instant, la fonction renvoie ce que l'utilisateur a saisi. Il faut donc piéger cette valeur dans une variable."
   ]
  },
  {
   "cell_type": "code",
   "execution_count": null,
   "metadata": {},
   "outputs": [],
   "source": [
    "# Test de la fonction input\n",
    "annee = input(\"Saisissez une année : \")"
   ]
  },
  {
   "cell_type": "code",
   "execution_count": null,
   "metadata": {},
   "outputs": [],
   "source": [
    "print(annee)"
   ]
  },
  {
   "cell_type": "markdown",
   "metadata": {},
   "source": [
    "Il subsiste un problème : le type de la variable annee après l'appel à input() est… une chaîne de caractères. Vous pouvez vous en rendre compte grâce aux apostrophes qui encadrent la valeur de la variable quand vous l'affichez directement dans l'interpréteur.\n",
    "\n",
    "C'est bien ennuyeux : nous qui voulions travailler sur un entier, nous allons devoir convertir cette variable. Pour convertir une variable vers un autre type, il faut utiliser le nom du type comme une fonction (c'est d'ailleurs exactement ce que c'est)."
   ]
  },
  {
   "cell_type": "code",
   "execution_count": null,
   "metadata": {},
   "outputs": [],
   "source": [
    "type(annee)"
   ]
  },
  {
   "cell_type": "code",
   "execution_count": null,
   "metadata": {},
   "outputs": [],
   "source": [
    "# On veut convertir la variable en un entier, on utilise \n",
    "# donc la fonction int qui prend en paramètre la variable\n",
    "# d'origine\n",
    "annee = int(annee)"
   ]
  },
  {
   "cell_type": "code",
   "execution_count": null,
   "metadata": {},
   "outputs": [],
   "source": [
    "print(annee)"
   ]
  },
  {
   "cell_type": "markdown",
   "metadata": {},
   "source": [
    "Bon, parfait ! On a donc maintenant l'année sous sa forme entière. Notez que, si vous saisissez des lettres lors de l'appel à input(), la conversion renverra une erreur.\n",
    "\n",
    "L'appel à la fonction int()en a peut-être déconcerté certains. On passe en paramètre de cette fonction la variable contenant la chaîne de caractères issue de input(), pour tenter de la convertir. La fonction int() renvoie la valeur convertie en entier et on la récupère donc dans la même variable. On évite ainsi de travailler sur plusieurs variables, sachant que la première n'a plus aucune utilité à présent qu'on l'a convertie.\n",
    "\n",
    "#### Test de multiples\n",
    "\n",
    "Certains pourraient également se demander comment tester si un nombre a est multiple d'un nombre b.\n",
    "Il suffit, en fait, de tester le reste de la division entière de b par a. Si ce reste est nul, alors a est un multiple de b."
   ]
  },
  {
   "cell_type": "code",
   "execution_count": null,
   "metadata": {},
   "outputs": [],
   "source": [
    "5 % 2 # 5 n'est pas un multiple de 2"
   ]
  },
  {
   "cell_type": "code",
   "execution_count": null,
   "metadata": {},
   "outputs": [],
   "source": [
    "8 % 2 # 8 est un multiple de 2"
   ]
  },
  {
   "cell_type": "markdown",
   "metadata": {},
   "source": [
    "À vous de jouer.\n",
    "Le plus difficile est la phase de réflexion qui précède la composition du programme.\n",
    "\n",
    "Bonne chance !\n",
    "\n",
    "#### Correction\n",
    "\n",
    "C'est l'heure de comparer nos méthodes et, avant de vous divulguer le code de ma solution, je vous précise qu'elle est loin d'être la seule possible. Vous pouvez très bien avoir trouvé quelque chose de différent mais qui fonctionne tout aussi bien."
   ]
  },
  {
   "cell_type": "code",
   "execution_count": null,
   "metadata": {},
   "outputs": [],
   "source": [
    "# Programme testant si une année, saisie par l'utilisateur,\n",
    "# est bissextile ou non\n",
    "\n",
    "annee = input(\"Saisissez une année : \") # On attend que l'utilisateur saisisse l'année qu'il désire tester\n",
    "annee = int(annee) # Risque d'erreur si l'utilisateur n'a pas saisi un nombre\n",
    "bissextile = False # On crée un booléen qui vaut vrai ou faux\n",
    "                   # selon que l'année est bissextile ou non\n",
    "\n",
    "if annee % 400 == 0:\n",
    "    bissextile = True\n",
    "elif annee % 100 == 0:\n",
    "    bissextile = False\n",
    "elif annee % 4 == 0:\n",
    "    bissextile = True\n",
    "else:\n",
    "    bissextile = False\n",
    "\n",
    "if bissextile: # Si l'année est bissextile\n",
    "    print(\"L'année saisie est bissextile.\")\n",
    "else:\n",
    "    print(\"L'année saisie n'est pas bissextile.\")"
   ]
  },
  {
   "cell_type": "markdown",
   "metadata": {},
   "source": [
    "Je vous rappelle que vous pouvez enregistrer vos codes dans des fichiers afin de les exécuter. Je vous renvoie au chapitre sur l'écriture de code Python dans des fichiers pour plus d'informations.\n",
    "\n",
    "Je pense que le code est assez clair, reste à expliciter l'enchaînement des conditions. Vous remarquerez qu'on a inversé le problème. On teste en effet d'abord si l'année est un multiple de 400, ensuite si c'est un multiple de 100, et enfin si c'est un multiple de 4. En effet, leelifgarantit que, sianneeest un multiple de 100, ce n'est pas un multiple de 400 (car le cas a été traité au-dessus). De cette façon, on s'assure que tous les cas sont gérés. Vous pouvez faire des essais avec plusieurs années et vous rendre compte si le programme a raison ou pas.\n",
    "\n",
    "L'utilisation de bissextile comme d'un prédicat à part entière vous a peut-être déconcertés. C'est en fait tout à fait possible et logique, puisque bissextile est un booléen. Il est de ce fait vrai ou faux et donc on peut le tester simplement. On peut bien entendu aussi écrire if bissextile==True:, cela revient au même.\n",
    "\n",
    "#### Un peu d'optimisation\n",
    "\n",
    "Ce qu'on a fait était bien mais on peut l'améliorer. D'ailleurs, vous vous rendrez compte que c'est presque toujours le cas. Ici, il s'agit bien entendu de notre condition, que je vais passer au crible afin d'en construire une plus courte et plus logique, si possible. On peut parler d'optimisation dans ce cas, même si l'optimisation intègre aussi et surtout les ressources consommées par votre application, en vue de diminuer ces ressources et d'améliorer la rapidité de l'application. Mais, pour une petite application comme celle-ci, je ne pense pas qu'on perdra du temps sur l'optimisation du temps d'exécution.\n",
    "\n",
    "Le premier détail que vous auriez pu remarquer, c'est que le else de fin est inutile. En effet, la variable bissextile vaut par défaut False et conserve donc cette valeur si le cas n'est pas traité (ici, quand l'année n'est ni un multiple de 400, ni un multiple de 100, ni un multiple de 4).\n",
    "\n",
    "Ensuite, il apparaît que nous pouvons faire un grand ménage dans notre condition car les deux seuls cas correspondant à une année bissextile sont « si l'année est un multiple de 400 » ou « si l'année est un multiple de 4 mais pas de 100 ».\n",
    "\n",
    "Le prédicat correspondant est un peu délicat, il fait appel aux priorités des parenthèses. "
   ]
  },
  {
   "cell_type": "code",
   "execution_count": null,
   "metadata": {},
   "outputs": [],
   "source": [
    "# Programme testant si une année, saisie par l'utilisateur, est bissextile ou non\n",
    "\n",
    "annee = input(\"Saisissez une année : \") # On attend que l'utilisateur saisisse l'année qu'il désire tester\n",
    "annee = int(annee) # Risque d'erreur si l'utilisateur n'a pas saisi un nombre\n",
    "\n",
    "if annee % 400 == 0 or (annee % 4 == 0 and annee % 100 != 0):\n",
    "    print(\"L'année saisie est bissextile.\")\n",
    "else:\n",
    "    print(\"L'année saisie n'est pas bissextile.\")"
   ]
  },
  {
   "cell_type": "markdown",
   "metadata": {},
   "source": [
    "On n'a donc plus besoin de la variable bissextile. Et nous sommes passés de 16 lignes de code à seulement 7 (sans compter les commentaires et les sauts de ligne).\n",
    "\n",
    "### En résumé\n",
    "\n",
    "* Les conditions permettent d'exécuter certaines instructions dans certains cas, d'autres instructions dans un autre cas.\n",
    "\n",
    "* Les conditions sont marquées par les mot-clés if (« si »),elif (« sinon si ») et else (« sinon »).\n",
    "\n",
    "* Les mot-clés if et elif doivent être suivis d'un test (appelé aussi prédicat).\n",
    "\n",
    "* Les booléens sont des données soit vraies (True) soit fausses (False)."
   ]
  },
  {
   "cell_type": "markdown",
   "metadata": {},
   "source": [
    "# Les boucles\n",
    "\n",
    "Les boucles vont vous permettre de répéter une certaine opération autant de fois que nécessaire.\n",
    "En outre, les boucles peuvent permettre de parcourir certaines séquences comme les chaînes de caractères pour, par exemple, en extraire chaque caractère.\n",
    "\n",
    "Prenons un exemple simple :\n",
    "Écrire un programme affichant la table de multiplication par 7, de 1 * 7 à 10 * 7.\n",
    "\n",
    "Dans un premier temps, vous devriez arriver au programme suivant :"
   ]
  },
  {
   "cell_type": "code",
   "execution_count": null,
   "metadata": {},
   "outputs": [],
   "source": [
    "print(\" 1 * 7 =\", 1 * 7)\n",
    "print(\" 2 * 7 =\", 2 * 7)\n",
    "print(\" 3 * 7 =\", 3 * 7)\n",
    "print(\" 4 * 7 =\", 4 * 7)\n",
    "print(\" 5 * 7 =\", 5 * 7)\n",
    "print(\" 6 * 7 =\", 6 * 7)\n",
    "print(\" 7 * 7 =\", 7 * 7)\n",
    "print(\" 8 * 7 =\", 8 * 7)\n",
    "print(\" 9 * 7 =\", 9 * 7)\n",
    "print(\"10 * 7 =\", 10 * 7)"
   ]
  },
  {
   "cell_type": "markdown",
   "metadata": {},
   "source": [
    "Je vous rappelle que vous pouvez enregistrer vos codes dans des fichiers.\n",
    "\n",
    "Essayons donc le même programme mais, cette fois-ci, en utilisant une variable ; ainsi, si on décide d'afficher la table de multiplication de 6, on n'aura qu'à changer la valeur de la variable ! Pour cet exemple, on utilise une variable nb qui contiendra 7. Les instructions seront légèrement différentes mais vous devriez toujours pouvoir écrire ce programme :"
   ]
  },
  {
   "cell_type": "code",
   "execution_count": null,
   "metadata": {},
   "outputs": [],
   "source": [
    "nb = 8\n",
    "print(\" 1 *\", nb, \"=\", 1 * nb)\n",
    "print(\" 2 *\", nb, \"=\", 2 * nb)\n",
    "print(\" 3 *\", nb, \"=\", 3 * nb)\n",
    "print(\" 4 *\", nb, \"=\", 4 * nb)\n",
    "print(\" 5 *\", nb, \"=\", 5 * nb)\n",
    "print(\" 6 *\", nb, \"=\", 6 * nb)\n",
    "print(\" 7 *\", nb, \"=\", 7 * nb)\n",
    "print(\" 8 *\", nb, \"=\", 8 * nb)\n",
    "print(\" 9 *\", nb, \"=\", 9 * nb)\n",
    "print(\"10 *\", nb, \"=\", 10 * nb)"
   ]
  },
  {
   "cell_type": "markdown",
   "metadata": {},
   "source": [
    "Le résultat est le même, mais le code est quand-même un peu plus intéressant : on peut changer la table de multiplication à afficher en changeant la valeur de la variable nb.\n",
    "\n",
    "Mais ce programme reste assez peu pratique et il accomplit une tâche bien répétitive.\n",
    "\n",
    "## La boucle while\n",
    "\n",
    "La boucle que je vais présenter se retrouve dans la plupart des autres langages de programmation et porte le même nom. Elle permet de répéter un bloc d'instructions tant qu'une condition est vraie (while signifie « tant que » en anglais). \n",
    "\n",
    "La syntaxe de while est :\n",
    "\n",
    "while condition:\n",
    "    # instruction 1\n",
    "    # instruction 2\n",
    "    # ...\n",
    "    # instruction N\n",
    "    \n",
    "Remarque : Si la condition est fausse au départ, le corps de la boucle n’est jamais exécuté. Si la condition reste toujours vraie, alors le corps de la boucle est répété indéfiniment (boucle infinie).\n",
    "\n",
    "Voici un exemple simple :"
   ]
  },
  {
   "cell_type": "code",
   "execution_count": null,
   "metadata": {},
   "outputs": [],
   "source": [
    "x = 1\n",
    "while x < 10:\n",
    "    print(\"x a pour valeur\", x)\n",
    "    x = x * 2\n",
    "print(\"Fin\")"
   ]
  },
  {
   "cell_type": "markdown",
   "metadata": {},
   "source": [
    "Retour au programme de multiplication par 7 : On crée une variable qui sera incrémentée dans le bloc d'instructions. Tant que cette variable sera inférieure à 10, le bloc s'exécutera pour afficher la table."
   ]
  },
  {
   "cell_type": "code",
   "execution_count": null,
   "metadata": {},
   "outputs": [],
   "source": [
    "nb = 7 # On garde la variable contenant le nombre dont on veut la table de multiplication\n",
    "i = 0 # C'est notre variable compteur que nous allons incrémenter dans la boucle\n",
    "\n",
    "while i < 10: # Tant que i est strictement inférieure à 10\n",
    "    print(i + 1, \"*\", nb, \"=\", (i + 1) * nb)\n",
    "    i += 1 # On incrémente i de 1 à chaque tour de boucle"
   ]
  },
  {
   "cell_type": "markdown",
   "metadata": {},
   "source": [
    "Analysons ce code ligne par ligne :\n",
    "\n",
    "On instancie la variable nb qui accueille le nombre sur lequel nous allons travailler (en l'occurrence, 7).\n",
    "Vous pouvez bien entendu faire saisir ce nombre par l'utilisateur, vous savez le faire à présent.\n",
    "\n",
    "On instancie la variable i qui sera notre compteur durant la boucle.\n",
    "i est un standard utilisé quand il est question de boucles et de variables s'incrémentant mais il va de soi que vous auriez pu lui donner un autre nom. On l'initialise à 0.\n",
    "\n",
    "On trouve ici l'instruction while qui se décode, comme je l'ai indiqué en commentaire, en « tant que i est strictement inférieure à 10 ». N'oubliez pas les deux points à la fin de la ligne.\n",
    "\n",
    "Maintenant, la plus grande partie de la ligne affichée est constituée de variables, à part les signes mathématiques.\n",
    "\n",
    "Ici, on incrémente la variable i de 1. Si on est dans le premier tour de boucle, i passe donc de 0 à 1.\n",
    "Et alors, puisqu'il s'agit de la fin du bloc d'instructions, on revient à l'instruction while.\n",
    "\n",
    "while vérifie que la valeur de i est toujours inférieure à 10. Si c'est le cas (et ça l'est pour l'instant), on exécute à nouveau le bloc d'instructions. En tout, on exécute ce bloc 10 fois, jusqu'à ce que i passe de 9 à 10. Alors, l'instruction while vérifie la condition, se rend compte qu'elle est à présent fausse (la valeur de i n'est pas inférieure à 10 puisqu'elle est maintenant égale à 10) et s'arrête.\n",
    "S'il y avait du code après le bloc, il serait à présent exécuté.\n",
    "\n",
    "N'oubliez pas d'incrémenter i ! Sinon, vous créez une boucle infinie, puisque la valeur de i n'est jamais supérieure à 10 et la condition du while, par conséquent, toujours vraie… La boucle s'exécute donc à l'infini, du moins en théorie. Si votre ordinateur se lance dans une boucle infinie à cause de votre programme, pour interrompre la boucle, vous devrez taper CTRL + C dans la fenêtre de l'interpréteur (sous Windows ou Linux). \n",
    "\n",
    "## La boucle for\n",
    "\n",
    "Comme je l'ai dit précédemment, on retrouve l'instruction while dans la plupart des autres langages.\n",
    "Dans le C++ ou le Java, on retrouve également des instructions for mais qui n'ont pas le même sens. C'est assez particulier et c'est le point sur lequel je risque de manquer d'exemples dans l'immédiat, toute son utilité se révélant au chapitre sur les listes. Notez que, si vous avez fait du Perl ou du PHP, vous pouvez retrouver les boucles for sous un mot-clé assez proche : foreach.\n",
    "\n",
    "L'instruction for travaille sur des séquences. Elle est en fait spécialisée dans le parcours d'une séquence de plusieurs données. Nous n'avons pas encore vu ces séquences assez particulières mais très répandues, même si elles peuvent se révéler complexes. Toutefois, il en existe un type que nous avons rencontré depuis quelque temps déjà : les chaînes de caractères.\n",
    "\n",
    "Les chaînes de caractères sont des séquences… de caractères ! Vous pouvez parcourir une chaîne de caractères (ce qui est également possible avec while mais nous verrons plus tard comment). Pour l'instant, intéressons-nous à for.\n",
    "\n",
    "L'instruction for se construit ainsi :\n",
    "\n",
    "for element in sequence:\n",
    "\n",
    "element est une variable créée par le for, ce n'est pas à vous de l'instancier. Elle prend successivement chacune des valeurs figurant dans la séquence parcourue.\n",
    "\n",
    "Testons ceci :"
   ]
  },
  {
   "cell_type": "code",
   "execution_count": null,
   "metadata": {},
   "outputs": [],
   "source": [
    "for i in [0, 1, 2, 3]:\n",
    "    print(\"i a pour valeur\", i)"
   ]
  },
  {
   "cell_type": "markdown",
   "metadata": {},
   "source": [
    "Autre exemple ici avec une chaîne de caractères"
   ]
  },
  {
   "cell_type": "code",
   "execution_count": null,
   "metadata": {},
   "outputs": [],
   "source": [
    "chaine = \"Hello Python\"\n",
    "for lettre in chaine:\n",
    "    print(lettre)"
   ]
  },
  {
   "cell_type": "markdown",
   "metadata": {},
   "source": [
    "En fait, la variable lettre prend successivement la valeur de chaque lettre contenue dans la chaîne de caractères (d'abord B, puis o, puis n…). On affiche ces valeurs avec print et cette fonction revient à la ligne après chaque message, ce qui fait que toutes les lettres sont sur une seule colonne. Littéralement, la ligne 2 signifie « pour lettre dans chaine ». Arrivé à cette ligne, l'interpréteur va créer une variable lettre qui contiendra le premier élément de la chaîne (autrement dit, la première lettre). Après l'exécution du bloc, la variable lettre contient la seconde lettre, et ainsi de suite tant qu'il y a une lettre dans la chaîne.\n",
    "\n",
    "Notez bien que, du coup, il est inutile d'incrémenter la variable lettre (qui n'est d'ailleurs pas un nombre). Python se charge de l'incrémentation, c'est l'un des grands avantages de l'instruction for.\n",
    "\n",
    "À l'instar des conditions que nous avons vues jusqu'ici, in peut être utilisée ailleurs que dans une boucle for."
   ]
  },
  {
   "cell_type": "code",
   "execution_count": null,
   "metadata": {},
   "outputs": [],
   "source": [
    "chaine = \"Hello Python\"\n",
    "for lettre in chaine:\n",
    "    if lettre in \"AEIOUYaeiouy\": # lettre est une voyelle\n",
    "        print(lettre)\n",
    "    else: # lettre est une consonne... ou plus exactement, lettre n'est pas une voyelle\n",
    "        print(\"*\")"
   ]
  },
  {
   "cell_type": "markdown",
   "metadata": {},
   "source": [
    "Voilà ! L'interpréteur affiche les lettres si ce sont des voyelles et, sinon, il affiche des « * ». \n",
    "\n",
    "Retenez bien cette utilisation de in dans une condition.\n",
    "On cherche à savoir si un élément quelconque est contenu dans une collection donnée (ici, si la lettre est contenue dans « AEIOUYaeiouy », c'est-à-dire si lettre est une voyelle). On retrouvera plus loin cette fonctionnalité.\n",
    "\n",
    "## Comment choisir entre boucle for et boucle while\n",
    "\n",
    "En général, si on connaît avant de démarrer la boucle le nombre d’itérations à exécuter, on choisit une boucle for. Au contraire, si la décision d’arrêter la boucle ne peut se faire que par un test, on choisit une boucle while.\n",
    "\n",
    "## Les mots-clés break et continue\n",
    "\n",
    "Je vais ici vous montrer deux nouveaux mots-clés,break et continue. Vous ne les utiliserez peut-être pas beaucoup mais vous devez au moins savoir qu'ils existent… et à quoi ils servent.\n",
    "\n",
    "### Le mot-clé break\n",
    "\n",
    "L’instruction break permet de « casser » l’exécution d’une boucle (while ou for). Elle fait sortir de la boucle et passer à l’instruction suivante.\n",
    "\n",
    "Par exemple"
   ]
  },
  {
   "cell_type": "code",
   "execution_count": null,
   "metadata": {},
   "outputs": [],
   "source": [
    "for i in range(10):\n",
    "    print(\"debut iteration\", i)\n",
    "    print(\"bonjour\")\n",
    "    if i == 4:\n",
    "        break\n",
    "    print(\"fin iteration\", i)\n",
    "print(\"apres la boucle\")"
   ]
  },
  {
   "cell_type": "markdown",
   "metadata": {},
   "source": [
    "Ce mot-clé break permet d'arrêter une boucle quelle que soit la condition de la boucle.\n",
    "Python sort immédiatement de la boucle et exécute le code qui suit la boucle, s'il y en a. \n",
    "\n",
    "### Le mot-clé continue\n",
    "\n",
    "L’instruction continue permet de passer prématurément au tour de boucle suivant. Elle fait continuer sur la prochaine itération de la boucle."
   ]
  },
  {
   "cell_type": "code",
   "execution_count": null,
   "metadata": {},
   "outputs": [],
   "source": [
    "for i in range(4):\n",
    "    print(\"debut iteration\", i)\n",
    "    print(\"bonjour\")\n",
    "    if i < 2:\n",
    "        continue\n",
    "    print(\"fin iteration\", i)\n",
    "print(\"apres la boucle\")"
   ]
  },
  {
   "cell_type": "markdown",
   "metadata": {},
   "source": [
    "## En résumé\n",
    "\n",
    "* Une boucle sert à répéter une portion de code en fonction d'un prédicat.\n",
    "\n",
    "* On peut créer une boucle grâce au mot-clé while suivi d'un prédicat.\n",
    "\n",
    "* On peut parcourir une séquence grâce à la syntaxe for element in sequence:"
   ]
  },
  {
   "cell_type": "markdown",
   "metadata": {},
   "source": [
    "# Les types de données dans python\n",
    "\n",
    "## Les chaines de caractères\n",
    "\n",
    "Dans ce chapitre sur les chaines de caractères, vous allez découvrir petit à petit le mécanisme qui se cache derrière la notion d'objet. Ces derniers font partie des notions incontournables en Python, étant donné que tout ce que nous avons utilisé jusqu'ici… est un objet !\n",
    "\n",
    "### Petit détour théorique : qu'est ce qu'un objet ?\n",
    "\n",
    "Pour faire simple : un objet est une structure de données, comme les variables, qui peut contenir elle-même d'autres variables et fonctions. On étoffera plus loin cette définition, elle suffit bien pour le moment.\n",
    "\n",
    "Une chaine de caractères est un objet, tout comme les variables sont elles aussi des objets.\n",
    "Toutes les variables avec lesquelles nous avons travaillé jusqu'ici sont des objets.\n",
    "Les fonctions sont également des objets.\n",
    "En Python, tout est objet : gardez cela à l'esprit.\n",
    "\n",
    "Les fonctions définies dans une classe sont appelées des méthodes.\n",
    "\n",
    "Récapitulons. Nous avons découvert :\n",
    "\n",
    "* Les objets, que j'ai présentés comme des variables, pouvant contenir d'autres variables ou fonctions (que l'on appelle méthodes). On appelle une méthode d'un objet grâce à objet.methode().\n",
    "\n",
    "* Les classes, que j'ai présentées comme des types de données. Une classe est un modèle qui servira à construire un objet ; c'est dans la classe qu'on va définir les méthodes propres à l'objet.\n",
    "\n",
    "### Les méthodes de la classe str\n",
    "\n",
    "Posons un problème : comment peut-on passer une chaîne de caractères en minuscules ?\n",
    "Pour le moment nous n'avons que survolé la question des fonctions.\n",
    "Mais admettons que vous arriviez à coder une fonction prenant en paramètre la chaîne en question.\n",
    "\n",
    "Vous aurez un code qui ressemble à ceci :\n",
    "\n",
    "chaine = \"NE CRIE PAS SI FORT !\"\n",
    "mettre_en_minuscule(chaine)\n",
    "'ne crie pas si fort !\n",
    "\n",
    "Sachez que, dans les anciennes versions de Python, il y avait un module spécialisé dans le traitement des chaînes de caractères. On importait ce module et on pouvait appeler la fonction passant une chaîne en minuscules. Ce module existe d'ailleurs encore et reste utilisé pour certains traitements spécifiques.\n",
    "Mais on va découvrir ici une autre façon de faire."
   ]
  },
  {
   "cell_type": "code",
   "execution_count": null,
   "metadata": {},
   "outputs": [],
   "source": [
    "chaine = \"NE CRIE PAS SI FORT !\"\n",
    "chaine.lower() # Mettre la chaîne en minuscule"
   ]
  },
  {
   "cell_type": "markdown",
   "metadata": {},
   "source": [
    "La fonction lower est une nouveauté pour vous.\n",
    "Le point « . » on le verra par la suite dans le chapitre sur les modules, symbolise une relation d'appartenance\n",
    "(a.b signifie que b est contenu dans a).\n",
    "Ici, la fonction lower est une fonction de la variable chaine.\n",
    "\n",
    "La fonction lower est propre aux chaînes de caractères. Toutes les chaînes peuvent y faire appel.\n",
    "Si vous tapez type(chaine) dans l'interpréteur, vous obtenez <class 'str'>.\n",
    "Nous avons dit qu'une variable est issue d'un type de donnée.\n",
    "Je vais à présent reformuler : un objet est issu d'une classe.\n",
    "La classe est une forme de type de donnée, sauf qu'elle permet de définir des fonctions et variables propres au type. C'est pour cela que, dans toutes les chaînes de caractères, on peut appeler la fonction lower.\n",
    "C'est tout simplement parce que la fonction lower a été définie dans la classe str. "
   ]
  },
  {
   "cell_type": "code",
   "execution_count": null,
   "metadata": {},
   "outputs": [],
   "source": [
    "chaine = str() # Crée une chaîne vide\n",
    "# On aurait obtenu le même résultat en tapant chaine = \"\"\n",
    "\n",
    "while chaine.lower() != \"q\":\n",
    "    print(\"Tapez 'Q' pour quitter...\")\n",
    "    chaine = input()\n",
    "\n",
    "print(\"Merci !\")"
   ]
  },
  {
   "cell_type": "markdown",
   "metadata": {},
   "source": [
    "Dans une boucle, on demande à l'utilisateur de taper la lettre « q » pour quitter.\n",
    "Tant que l'utilisateur saisit une autre lettre, la boucle continue de s'exécuter.\n",
    "Dès que l'utilisateur appuie sur la touche Q de son clavier, la boucle s'arrête et le programme affiche « Merci ! ».\n",
    "\n",
    "On prend la chaîne saisie par l'utilisateur, on la passe en minuscules et on regarde si elle est différente de « q ». Cela veut dire que l'utilisateur peut taper « q » en majuscule ou en minuscule, dans les deux cas la boucle s'arrêtera.\n",
    "\n",
    "Notez que chaine.lower() renvoie la chaîne en minuscules mais ne modifie pas la chaîne.\n",
    "C'est très important, nous verrons pourquoi plus tard.\n",
    "\n",
    "Notez aussi que nous avons appelé la fonction str pour créer une chaîne vide.\n",
    "Je ne vais pas trop compliquer les choses mais sachez qu'appeler ainsi un type en tant que fonction permet de créer un objet de la classe.\n",
    "Ici, str()crée un objet chaîne de caractères. Nous avons vu dans la première partie le mot-clé int(), qui crée aussi un entier (si nécessaire depuis un autre type, ce qui permet de convertir une chaîne en entier).\n",
    "\n",
    "### Mettre en forme une chaîne\n",
    "\n",
    "Nous venons de présenter lower, il existe d'autres méthodes."
   ]
  },
  {
   "cell_type": "code",
   "execution_count": null,
   "metadata": {},
   "outputs": [],
   "source": [
    "minuscules = \"une chaine en minuscules\""
   ]
  },
  {
   "cell_type": "code",
   "execution_count": null,
   "metadata": {},
   "outputs": [],
   "source": [
    "minuscules.upper() # Mettre en majuscules"
   ]
  },
  {
   "cell_type": "code",
   "execution_count": null,
   "metadata": {},
   "outputs": [],
   "source": [
    "minuscules.capitalize() # La première lettre en majuscule"
   ]
  },
  {
   "cell_type": "code",
   "execution_count": null,
   "metadata": {},
   "outputs": [],
   "source": [
    "espaces = \"   une  chaine avec  des espaces   \""
   ]
  },
  {
   "cell_type": "code",
   "execution_count": null,
   "metadata": {},
   "outputs": [],
   "source": [
    "espaces.strip() # On retire les espaces au début et à la fin de la chaîne"
   ]
  },
  {
   "cell_type": "code",
   "execution_count": null,
   "metadata": {},
   "outputs": [],
   "source": [
    "titre = \"introduction\""
   ]
  },
  {
   "cell_type": "code",
   "execution_count": null,
   "metadata": {},
   "outputs": [],
   "source": [
    "titre.upper().center(20)"
   ]
  },
  {
   "cell_type": "markdown",
   "metadata": {},
   "source": [
    "La dernière instruction mérite quelques explications.\n",
    "\n",
    "On appelle d'abord la méthode upper de l'objet titre. Cette méthode, comme vous l'avez vu plus haut, renvoie en majuscules la chaîne de caractères contenue dans l'objet.\n",
    "\n",
    "On appelle ensuite la méthode center, méthode que nous n'avons pas encore vue et qui permet de centrer une chaîne. On lui passe en paramètre la taille de la chaîne que l'on souhaite obtenir. La méthode va ajouter alternativement un espace au début et à la fin de la chaîne, jusqu'à obtenir la longueur demandée. Dans cet exemple,titre contient la chaîne 'introduction', chaîne qui (en minuscules ou en majuscules) mesure 12 caractères. On demande à center de centrer cette chaîne dans un espace de 20 caractères. La méthode center va donc placer 4 espaces avant le titre et 4 espaces après, pour faire 20 caractères en tout.\n",
    "\n",
    "Bon, mais maintenant, sur quel objet travaille center? Sur titre ? Non. Sur la chaîne renvoyée par titre.upper(), c'est-à-dire le titre en majuscules. C'est pourquoi on peut « chaîner » ces deux méthodes: upper, comme la plupart des méthodes de chaînes, travaille sur une chaîne et renvoie une chaîne… qui elle aussi va posséder les méthodes propres à une chaîne de caractères.\n",
    "Si ce n'est pas très clair, faites quelques tests\n",
    "avec titre.upper() et titre.center(20), en passant par une seconde variable si nécessaire, pour vous rendre compte du mécanisme ; ce n'est pas bien compliqué.\n",
    "\n",
    "Je n'ai mis ici que quelques méthodes, il y en a bien d'autres.\n",
    "Vous pouvez en voir la liste dans l'aide, en tapant, dans l'interpréteur :"
   ]
  },
  {
   "cell_type": "code",
   "execution_count": null,
   "metadata": {},
   "outputs": [],
   "source": [
    "help(str)"
   ]
  },
  {
   "cell_type": "code",
   "execution_count": null,
   "metadata": {},
   "outputs": [],
   "source": [
    "#### Formater et afficher une chaîne\n",
    "\n",
    "Comme nous l'avons vu auparavant, pour afficher une chaîne, on passe par la fonction print."
   ]
  },
  {
   "cell_type": "code",
   "execution_count": null,
   "metadata": {},
   "outputs": [],
   "source": [
    "chaine = \"Bonjour tout le monde !\"\n",
    "print(chaine)"
   ]
  },
  {
   "cell_type": "markdown",
   "metadata": {},
   "source": [
    "Jusqu'ici, nous avons utilisé print en lui imputant plusieurs paramètres. Cela fonctionne mais nous allons voir une méthode légèrement plus souple, qui d'ailleurs n'est pas seulement utile pour l'affichage."
   ]
  },
  {
   "cell_type": "code",
   "execution_count": null,
   "metadata": {},
   "outputs": [],
   "source": [
    "prenom = \"Paul\"\n",
    "nom = \"Dupont\"\n",
    "age = 21"
   ]
  },
  {
   "cell_type": "code",
   "execution_count": null,
   "metadata": {},
   "outputs": [],
   "source": [
    "print(\"Je m'appelle {0} {1} et j'ai {2} ans.\".format(prenom, nom, age))"
   ]
  },
  {
   "cell_type": "markdown",
   "metadata": {},
   "source": [
    "**Première syntaxe de la méthode format**\n",
    "\n",
    "Nous avons utilisé une méthode de la classe str pour formater notre chaîne.\n",
    "\n",
    "De gauche à droite, nous avons :\n",
    "\n",
    "une chaîne de caractères qui ne présente rien de particulier, sauf ces accolades entourant des nombres, d'abord 0, puis 1, puis 2;\n",
    "\n",
    "nous appelons la méthode format de cette chaîne en lui passant en paramètres les variables à afficher, dans un ordre bien précis ;\n",
    "\n",
    "quand Python exécute cette méthode, il remplace dans notre chaîne {0} par la première variable passée à la méthode format (soit le prénom),{1} par la deuxième variable… et ainsi de suite.\n",
    "\n",
    "Souvenez-vous qu'en programmation, on commence à compter à partir de 0.\n",
    "\n",
    "On aurait pu faire exactement la même chose en passant plusieurs valeurs à print mais cette fonctionnalité est bien plus puissante qu'un simple affichage, vous pouvez formater des chaînes de cette façon.\n",
    "Ici, nous avons directement affiché la chaîne formatée, mais nous aurions pu la stocker :"
   ]
  },
  {
   "cell_type": "code",
   "execution_count": null,
   "metadata": {},
   "outputs": [],
   "source": [
    "nouvelle_chaine = \"Je m'appelle {0} {1} et j'ai {2} ans.\".format(prenom, nom, age)"
   ]
  },
  {
   "cell_type": "code",
   "execution_count": null,
   "metadata": {},
   "outputs": [],
   "source": [
    "nouvelle_chaine"
   ]
  },
  {
   "cell_type": "markdown",
   "metadata": {},
   "source": [
    "Pour faire la même chose sans utiliser format, on aurait dû concaténer des chaînes, c'est-à-dire les mettre bout à bout en respectant une certaine syntaxe. Nous allons voir cela un peu plus loin mais cette solution reste plus élégante.\n",
    "\n",
    "Dans cet exemple, nous avons appelé les variables dans l'ordre où nous les placions dans format, mais ce n'est pas une obligation. Considérez cet exemple "
   ]
  },
  {
   "cell_type": "code",
   "execution_count": null,
   "metadata": {},
   "outputs": [],
   "source": [
    "prenom = \"Paul\"\n",
    "nom = \"Dupont\"\n",
    "age = 21"
   ]
  },
  {
   "cell_type": "code",
   "execution_count": null,
   "metadata": {},
   "outputs": [],
   "source": [
    "print( \\\n",
    "\"Je m'appelle {0} {1} ({3} {0} pour l'administration) et j'ai {2} \" \\\n",
    "\"ans.\".format(prenom, nom, age, nom.upper()))"
   ]
  },
  {
   "cell_type": "markdown",
   "metadata": {},
   "source": [
    "J'ai coupé notre instruction, plutôt longue, à l'aide du signe « \\ » placé avant un saut de ligne, pour indiquer à Python que l'instruction se prolongeait au-dessous.\n",
    "\n",
    "Si vous avez du mal à comprendre l'exemple, relisez l'instruction en remplaçant vous-mêmes les nombres entre accolades par les variables.\n",
    "\n",
    "Dans la plupart des cas, on ne précise pas le numéro de la variable entre accolades."
   ]
  },
  {
   "cell_type": "code",
   "execution_count": null,
   "metadata": {},
   "outputs": [],
   "source": [
    "date = \"Dimanche 24 juillet 2011\"\n",
    "heure = \"17:00\""
   ]
  },
  {
   "cell_type": "code",
   "execution_count": null,
   "metadata": {},
   "outputs": [],
   "source": [
    "print(\"Cela s'est produit le {}, à {}.\".format(date, heure))"
   ]
  },
  {
   "cell_type": "markdown",
   "metadata": {},
   "source": [
    "Naturellement, cela ne fonctionne que si vous donnez les variables dans le bon ordre dans format.\n",
    "\n",
    "Cette syntaxe suffit la plupart du temps mais elle n'est pas forcément intuitive quand on insère beaucoup de variables : on doit retenir leur position dans l'appel à format pour comprendre laquelle est affichée à tel endroit. Mais il existe une autre syntaxe.\n",
    "\n",
    "**Seconde syntaxe de la méthode format**\n",
    "\n",
    "On peut également nommer les variables que l'on va afficher, c'est souvent plus intuitif que d'utiliser leur indice. Voici un nouvel exemple :"
   ]
  },
  {
   "cell_type": "code",
   "execution_count": null,
   "metadata": {},
   "outputs": [],
   "source": [
    "# formatage d'une adresse\n",
    "adresse = \"\"\"\n",
    "{no_rue}, {nom_rue}\n",
    "{code_postal} {nom_ville} ({pays})\n",
    "\"\"\".format(no_rue=5, nom_rue=\"rue des Postes\", code_postal=75003, nom_ville=\"Paris\", pays=\"France\")\n",
    "print(adresse)"
   ]
  },
  {
   "cell_type": "markdown",
   "metadata": {},
   "source": [
    "Au lieu de donner des nombres entre accolades, on spécifie des noms de variables qui doivent correspondre à ceux fournis comme mots-clés dans la méthode format.\n",
    "\n",
    "### La concaténation de chaînes\n",
    "\n",
    "Nous allons glisser très rapidement sur le concept de concaténation, assez intuitif d'ailleurs. On cherche à regrouper deux chaînes en une, en mettant la seconde à la suite de la première. Cela se fait le plus simplement du monde :"
   ]
  },
  {
   "cell_type": "code",
   "execution_count": null,
   "metadata": {},
   "outputs": [],
   "source": [
    "prenom = \"Paul\"\n",
    "message = \"Bonjour\"\n",
    "chaine_complete = message + prenom # On utilise le symbole '+' pour concaténer deux chaînes"
   ]
  },
  {
   "cell_type": "code",
   "execution_count": null,
   "metadata": {},
   "outputs": [],
   "source": [
    "print(chaine_complete)"
   ]
  },
  {
   "cell_type": "markdown",
   "metadata": {},
   "source": [
    "Ce n'est pas encore parfait, il manque un espace."
   ]
  },
  {
   "cell_type": "code",
   "execution_count": null,
   "metadata": {},
   "outputs": [],
   "source": [
    "chaine_complete = message + \" \" + prenom"
   ]
  },
  {
   "cell_type": "code",
   "execution_count": null,
   "metadata": {},
   "outputs": [],
   "source": [
    "print(chaine_complete)"
   ]
  },
  {
   "cell_type": "markdown",
   "metadata": {},
   "source": [
    "Le signe « + » utilisé pour ajouter des nombres est ici utilisé pour concaténer deux chaînes.\n",
    "\n",
    "Essayons donc à présent de concaténer des chaînes et des nombres :"
   ]
  },
  {
   "cell_type": "code",
   "execution_count": null,
   "metadata": {},
   "outputs": [],
   "source": [
    "age = 21"
   ]
  },
  {
   "cell_type": "code",
   "execution_count": null,
   "metadata": {},
   "outputs": [],
   "source": [
    "message = \"J'ai \" + age + \" ans.\""
   ]
  },
  {
   "cell_type": "markdown",
   "metadata": {},
   "source": [
    "Python nous envoie une erreur.\n",
    "\n",
    "Au début de la première partie, nous avons dit que Python était un langage à typage dynamique, ce qui signifie qu'il identifie lui-même les types de données et que les variables peuvent changer de type au cours du programme.\n",
    "Mais Python est aussi un langage fortement typé, et cela veut dire qu'on ne peut pas ignorer les types de données. Ainsi, on veut ici ajouter une chaîne à un entier et à une autre chaîne.\n",
    "Python ne sait pas ce qu'il doit faire : est-ce que les chaînes contiennent des nombres qu'il doit convertir pour les ajouter à l'entier ou est-ce que l'entier doit être converti en chaîne puis concaténé avec les autres chaînes ?\n",
    "Il suffit en fait de convertir l'entier en chaîne pour pouvoir le concaténer aux autres chaînes."
   ]
  },
  {
   "cell_type": "code",
   "execution_count": null,
   "metadata": {},
   "outputs": [],
   "source": [
    "age = 21\n",
    "message = \"J'ai \" + str(age) + \" ans.\""
   ]
  },
  {
   "cell_type": "code",
   "execution_count": null,
   "metadata": {},
   "outputs": [],
   "source": [
    "print(message)"
   ]
  },
  {
   "cell_type": "markdown",
   "metadata": {},
   "source": [
    "On appelle str pour convertir un objet en une chaîne de caractères, comme nous avons appelé int pour convertir un objet en entier. C'est le même mécanisme, sauf que convertir un entier en chaîne de caractères ne lèvera vraisemblablement aucune exception.\n",
    "\n",
    "Le typage fort de Python est important, il est un fondement de sa philosophie. L'avantage est que les erreurs que celà crée sont facile à résoudre, il nous suffit de convertir explicitement le type pour que Python sache ce qu'il doit faire.\n",
    "\n",
    "### Parcours et sélection de chaînes\n",
    "Nous avons vu très rapidement dans la première partie un moyen de parcourir des chaînes. Nous allons en voir ici un second qui fonctionne par indice.\n",
    "\n",
    "#### Parcours par indice\n",
    "\n",
    "Vous devez vous en souvenir : j'ai dit qu'une chaîne de caractères était une séquence constituée… de caractères. En fait, une chaîne de caractères est elle-même constituée de chaînes de caractères, chacune d'elles n'étant composée que d'un seul caractère.\n",
    "\n",
    "Accéder aux caractères d'une chaîne\n",
    "Nous allons apprendre à accéder aux lettres constituant une chaîne. Par exemple, nous souhaitons sélectionner la première lettre d'une chaîne."
   ]
  },
  {
   "cell_type": "code",
   "execution_count": null,
   "metadata": {},
   "outputs": [],
   "source": [
    "chaine = \"Python rules!\""
   ]
  },
  {
   "cell_type": "code",
   "execution_count": null,
   "metadata": {},
   "outputs": [],
   "source": [
    "chaine[0] # Première lettre de la chaîne"
   ]
  },
  {
   "cell_type": "code",
   "execution_count": null,
   "metadata": {},
   "outputs": [],
   "source": [
    "chaine[2] # Troisième lettre de la chaîne"
   ]
  },
  {
   "cell_type": "code",
   "execution_count": null,
   "metadata": {},
   "outputs": [],
   "source": [
    "chaine[2] # Troisième lettre de la chaîne"
   ]
  },
  {
   "cell_type": "code",
   "execution_count": null,
   "metadata": {},
   "outputs": [],
   "source": [
    "chaine[-2] # Dernière lettre de la chaîne"
   ]
  },
  {
   "cell_type": "markdown",
   "metadata": {},
   "source": [
    "On précise entre crochets [] l'indice (la position du caractère auquel on souhaite accéder).\n",
    "\n",
    "La première lettre est à l'indice 0, la deuxième à l'indice 1, la troisième à l'indice 2…\n",
    "On peut accéder aux lettres en partant de la fin à l'aide d'un indice négatif.\n",
    "Quand vous tapez chaine[-1], vous accédez au dernier caractère de la chaine.\n",
    "\n",
    "On peut obtenir la longueur de la chaîne (le nombre de caractères qu'elle contient) grâce à la fonction len."
   ]
  },
  {
   "cell_type": "code",
   "execution_count": null,
   "metadata": {},
   "outputs": [],
   "source": [
    "chaine = \"Salut\""
   ]
  },
  {
   "cell_type": "code",
   "execution_count": null,
   "metadata": {},
   "outputs": [],
   "source": [
    "len(chaine)"
   ]
  },
  {
   "cell_type": "markdown",
   "metadata": {},
   "source": [
    "Pourquoi ne pas avoir défini cette fonction comme une méthode de la classe str? Pourquoi ne pourrait-on pas faire chaine.len()?\n",
    "\n",
    "En fait c'est un peu le cas, mais nous le verrons bien plus loin.str n'est qu'un exemple parmi d'autres de séquences (on en découvrira d'autres dans les prochains chapitres) et donc les développeurs de Python ont préféré créer une fonction qui travaillerait sur les séquences au sens large, plutôt qu'une méthode pour chacune de ces classes.\n",
    "\n",
    "#### Méthode de parcours par while\n",
    "\n",
    "Vous en savez assez pour parcourir une chaîne grâce à la boucle while. Notez que, dans la plupart des cas, on préférera parcourir une séquence avec for. Il est néanmoins bon de savoir procéder de différentes manières, cela vous sera utile parfois.\n",
    "\n",
    "Voici le code auquel vous pourriez arriver :"
   ]
  },
  {
   "cell_type": "code",
   "execution_count": null,
   "metadata": {},
   "outputs": [],
   "source": [
    "chaine = \"Bonjour\"\n",
    "i = 0 # On appelle l'indice 'i' par convention\n",
    "while i < len(chaine):\n",
    "    print(chaine[i]) # On affiche le caractère à chaque tour de boucle\n",
    "    i += 1"
   ]
  },
  {
   "cell_type": "markdown",
   "metadata": {},
   "source": [
    "N'oubliez pas d'incrémenter, sinon vous allez avoir quelques surprises.\n",
    "\n",
    "Si vous essayez d'accéder à un indice qui n'existe pas (par exemple 25 alors que votre chaîne ne fait que 20 caractères de longueur), Python lèvera une exception de typeIndexError.\n",
    "\n",
    "Enfin, une dernière petite chose : Python ne permet pas d'utiliser les indices pour modifier des caractères d'une chaîne."
   ]
  },
  {
   "cell_type": "code",
   "execution_count": null,
   "metadata": {},
   "outputs": [],
   "source": [
    "mot = \"lac\""
   ]
  },
  {
   "cell_type": "code",
   "execution_count": null,
   "metadata": {},
   "outputs": [],
   "source": [
    "mot[0] = \"b\" # On veut remplacer 'l' par 'b'"
   ]
  },
  {
   "cell_type": "markdown",
   "metadata": {},
   "source": [
    "Une erreur est renvoyée.\n",
    "Pour remplacer des caractères, il va falloir utiliser la sélection.\n",
    "\n",
    "### Sélection de chaînes\n",
    "\n",
    "Nous allons voir comment sélectionner une partie de la chaîne. Si je souhaite, par exemple, sélectionner les deux premières lettres de la chaîne, je procéderai comme dans l'exemple ci-dessous."
   ]
  },
  {
   "cell_type": "code",
   "execution_count": null,
   "metadata": {},
   "outputs": [],
   "source": [
    "presentation = \"salut\""
   ]
  },
  {
   "cell_type": "code",
   "execution_count": null,
   "metadata": {},
   "outputs": [],
   "source": [
    "presentation[0:2] # On sélectionne les deux premières lettres"
   ]
  },
  {
   "cell_type": "code",
   "execution_count": null,
   "metadata": {},
   "outputs": [],
   "source": [
    "presentation[2:len(presentation)] # On sélectionne la chaîne sauf les deux premières lettres"
   ]
  },
  {
   "cell_type": "markdown",
   "metadata": {},
   "source": [
    "La sélection consiste donc à extraire une partie de la chaîne. Cette opération renvoie le morceau de la chaîne sélectionné, sans modifier la chaîne d'origine.\n",
    "\n",
    "Sachez que l'on peut sélectionner du début de la chaîne jusqu'à un indice, ou d'un indice jusqu'à la fin de la chaîne, sans préciser autant d'informations que dans nos exemples. Python comprend très bien si on sous-entend certaines informations."
   ]
  },
  {
   "cell_type": "code",
   "execution_count": null,
   "metadata": {},
   "outputs": [],
   "source": [
    "presentation[:2] # Du début jusqu'à la troisième lettre non comprise"
   ]
  },
  {
   "cell_type": "code",
   "execution_count": null,
   "metadata": {},
   "outputs": [],
   "source": [
    "presentation[2:] # De la troisième lettre (comprise) à la fin"
   ]
  },
  {
   "cell_type": "markdown",
   "metadata": {},
   "source": [
    "Maintenant, nous pouvons reprendre notre exemple de tout à l'heure pour constituer une nouvelle chaîne, en remplaçant une lettre par une autre :"
   ]
  },
  {
   "cell_type": "code",
   "execution_count": null,
   "metadata": {},
   "outputs": [],
   "source": [
    "mot = \"lac\"\n",
    "mot = \"b\" + mot[1:]"
   ]
  },
  {
   "cell_type": "code",
   "execution_count": null,
   "metadata": {},
   "outputs": [],
   "source": [
    "print(mot)"
   ]
  },
  {
   "cell_type": "markdown",
   "metadata": {},
   "source": [
    "Pour remplacer des lettres, on préfèrera la méthode replace."
   ]
  },
  {
   "cell_type": "code",
   "execution_count": null,
   "metadata": {},
   "outputs": [],
   "source": [
    "mot = mot.replace(\"ba\", \"se\")"
   ]
  },
  {
   "cell_type": "code",
   "execution_count": null,
   "metadata": {},
   "outputs": [],
   "source": [
    "print(mot)"
   ]
  },
  {
   "cell_type": "markdown",
   "metadata": {},
   "source": [
    "### En résumé\n",
    "\n",
    "* Les variables utilisées jusqu'ici sont en réalité des objets.\n",
    "\n",
    "* Les types de données utilisés jusqu'ici sont en fait des classes. Chaque objet est modelé sur une classe.\n",
    "\n",
    "* Chaque classe définit certaines fonctions, appelées méthodes, qui seront accessibles depuis l'objet grâce à objet.methode(arguments).\n",
    "\n",
    "* On peut directement accéder à un caractère d'une chaîne grâce au code suivant:\n",
    "chaine[position_dans_la_chaine].\n",
    "\n",
    "* Il est tout à fait possible de sélectionner une partie de la chaîne grâce au code suivant:\n",
    "chaine[indice_debut:indice_fin]."
   ]
  },
  {
   "cell_type": "markdown",
   "metadata": {},
   "source": [
    "## Les listes\n",
    "\n",
    "Les listes sont des séquences. En fait, leur nom est plutôt explicite, puisque ce sont des objets capables de contenir d'autres objets de n'importe quel type. On peut avoir une liste contenant plusieurs nombres entiers (1, 2, 50, 2000 ou plus, peu importe), une liste contenant des flottants, une liste contenant des chaînes de caractères... et une liste mélangeant ces objets de différents types.\n",
    "\n",
    "### Création et édition des listes\n",
    "\n",
    "#### D'abord c'est quoi, une liste ?\n",
    "\n",
    "En Python, les listes sont des objets qui peuvent en contenir d'autres. Ce sont donc des séquences, comme les chaînes de caractères, mais au lieu de contenir des caractères, elles peuvent contenir n'importe quel objet. Comme d'habitude, on va s'occuper du concept des listes avant de voir tout son intérêt.\n",
    "\n",
    "#### Création de listes\n",
    "\n",
    "Comme pour les chaines de caractères, 2 moyens.\n",
    "\n",
    "En utilisant la classe list"
   ]
  },
  {
   "cell_type": "code",
   "execution_count": null,
   "metadata": {},
   "outputs": [],
   "source": [
    "ma_liste = list() # On crée une liste vide"
   ]
  },
  {
   "cell_type": "code",
   "execution_count": null,
   "metadata": {},
   "outputs": [],
   "source": [
    "type(ma_liste)"
   ]
  },
  {
   "cell_type": "code",
   "execution_count": null,
   "metadata": {},
   "outputs": [],
   "source": [
    "ma_liste"
   ]
  },
  {
   "cell_type": "markdown",
   "metadata": {},
   "source": [
    "Là encore, on utilise le nom de la classe comme une fonction pour instancier un objet de cette classe.\n",
    "\n",
    "Quand vous affichez la liste, vous pouvez constater qu'elle est vide. Entre les crochets (qui sont les délimiteurs des listes en Python), il n'y a rien.\n",
    "\n",
    "On peut également utiliser ces crochets pour créer une liste."
   ]
  },
  {
   "cell_type": "code",
   "execution_count": null,
   "metadata": {},
   "outputs": [],
   "source": [
    "ma_liste = [] # On crée une liste vide"
   ]
  },
  {
   "cell_type": "markdown",
   "metadata": {},
   "source": [
    "Cela revient au même. Toutefois, on peut également créer une liste non vide, en lui indiquant directement à la création les objets qu'elle doit contenir."
   ]
  },
  {
   "cell_type": "code",
   "execution_count": null,
   "metadata": {},
   "outputs": [],
   "source": [
    "ma_liste = [1, 2, 3, 4, 5] # Une liste avec cinq objets"
   ]
  },
  {
   "cell_type": "code",
   "execution_count": null,
   "metadata": {},
   "outputs": [],
   "source": [
    "print(ma_liste)"
   ]
  },
  {
   "cell_type": "markdown",
   "metadata": {},
   "source": [
    "La liste que nous venons de créer compte cinq objets de type int. Ils sont classés par ordre croissant.\n",
    "\n",
    "Vous pouvez faire des listes de toute longueur.\n",
    "\n",
    "Les listes peuvent contenir n'importe quel type d'objet.\n",
    "\n",
    "Les objets dans une liste peuvent être mis dans un ordre quelconque.\n",
    "Toutefois, la structure d'une liste fait que chaque objet a sa place et que l'ordre compte."
   ]
  },
  {
   "cell_type": "code",
   "execution_count": null,
   "metadata": {},
   "outputs": [],
   "source": [
    "ma_liste = [1, 3.5, \"une chaine\", []]"
   ]
  },
  {
   "cell_type": "markdown",
   "metadata": {},
   "source": [
    "Nous avons créé ici une liste contenant quatre objets de types différents : un entier, un flottant, une chaîne de caractères et… une autre liste.\n",
    "\n",
    "Voyons à présent comment accéder aux éléments d'une liste :"
   ]
  },
  {
   "cell_type": "code",
   "execution_count": null,
   "metadata": {},
   "outputs": [],
   "source": [
    "ma_liste = ['c', 'f', 'm']"
   ]
  },
  {
   "cell_type": "code",
   "execution_count": null,
   "metadata": {},
   "outputs": [],
   "source": [
    "ma_liste[0] # On accède au premier élément de la liste"
   ]
  },
  {
   "cell_type": "code",
   "execution_count": null,
   "metadata": {},
   "outputs": [],
   "source": [
    "ma_liste[2] # Troisième élément"
   ]
  },
  {
   "cell_type": "code",
   "execution_count": null,
   "metadata": {},
   "outputs": [],
   "source": [
    "ma_liste[1] = 'Z' # On remplace 'f' par 'Z'"
   ]
  },
  {
   "cell_type": "code",
   "execution_count": null,
   "metadata": {},
   "outputs": [],
   "source": [
    "ma_liste"
   ]
  },
  {
   "cell_type": "markdown",
   "metadata": {},
   "source": [
    "Comme vous pouvez le voir, on accède aux éléments d'une liste de la même façon qu'on accède aux caractères d'une chaîne de caractères : on indique entre crochets l'indice de l'élément qui nous intéresse.\n",
    "\n",
    "Contrairement à la classe str, la classe list vous permet de remplacer un élément par un autre.\n",
    "Les listes sont en effet des types dits mutables.\n",
    "\n",
    "### Insérer des objets dans une liste\n",
    "\n",
    "On dispose de plusieurs méthodes, définies dans la classe list, pour ajouter des éléments dans une liste.\n",
    "\n",
    "#### Ajouter un élément à la fin de la liste\n",
    "\n",
    "On utilise la méthode append pour ajouter un élément à la fin d'une liste."
   ]
  },
  {
   "cell_type": "markdown",
   "metadata": {},
   "source": [
    "ma_liste = [1, 2, 3]"
   ]
  },
  {
   "cell_type": "markdown",
   "metadata": {},
   "source": [
    "ma_liste.append(56) # On ajoute 56 à la fin de la liste"
   ]
  },
  {
   "cell_type": "markdown",
   "metadata": {},
   "source": [
    "ma_liste"
   ]
  },
  {
   "cell_type": "markdown",
   "metadata": {},
   "source": [
    "On passe en paramètre de la méthode append l'objet que l'on souhaite ajouter à la fin de la liste.\n",
    "\n",
    "La méthode append, comme beaucoup de méthodes de listes, travaille directement sur l'objet et ne renvoie donc rien !\n",
    "\n",
    "Ceci est extrêmement important. Dans le chapitre précédent, nous avons vu qu'aucune des méthodes de chaînes ne modifie l'objet d'origine mais qu'elles renvoient toutes un nouvel objet, qui est la chaîne modifiée. Ici c'est le contraire : les méthodes de listes ne renvoient rien mais modifient l'objet d'origine. Regardez ce code si ce n'est pas bien clair :"
   ]
  },
  {
   "cell_type": "code",
   "execution_count": null,
   "metadata": {},
   "outputs": [],
   "source": [
    "chaine1 = \"une petite phrase\""
   ]
  },
  {
   "cell_type": "code",
   "execution_count": null,
   "metadata": {},
   "outputs": [],
   "source": [
    "chaine2 = chaine1.upper() # On met en majuscules chaine1"
   ]
  },
  {
   "cell_type": "code",
   "execution_count": null,
   "metadata": {},
   "outputs": [],
   "source": [
    "chaine1 # On affiche la chaîne d'origine"
   ]
  },
  {
   "cell_type": "code",
   "execution_count": null,
   "metadata": {},
   "outputs": [],
   "source": [
    "chaine2 # On affiche chaine2"
   ]
  },
  {
   "cell_type": "markdown",
   "metadata": {},
   "source": [
    "C'est chaine2 qui contient la chaîne en majuscules.\n",
    "Voyons pour les listes à présent."
   ]
  },
  {
   "cell_type": "code",
   "execution_count": null,
   "metadata": {},
   "outputs": [],
   "source": [
    "liste1 = [1, 5.5, 18]"
   ]
  },
  {
   "cell_type": "code",
   "execution_count": null,
   "metadata": {},
   "outputs": [],
   "source": [
    "liste2 = liste1.append(-15) # On ajoute -15 à liste1"
   ]
  },
  {
   "cell_type": "code",
   "execution_count": null,
   "metadata": {},
   "outputs": [],
   "source": [
    "liste1 # On affiche liste1"
   ]
  },
  {
   "cell_type": "markdown",
   "metadata": {},
   "source": [
    "Cette fois, l'appel de la méthode a modifié l'objet d'origine (liste1).\n",
    "Voyons ce que contient liste2"
   ]
  },
  {
   "cell_type": "code",
   "execution_count": null,
   "metadata": {},
   "outputs": [],
   "source": [
    "print(liste2)"
   ]
  },
  {
   "cell_type": "markdown",
   "metadata": {},
   "source": [
    "Rien !\n",
    "\n",
    "Je vais expliquer les dernières lignes.\n",
    "Mais d'abord, il faut que vous fassiez bien la différence entre les méthodes de chaînes, où l'objet d'origine n'est jamais modifié et qui renvoient un nouvel objet, et les méthodes de listes, qui ne renvoient rien mais modifient l'objet d'origine.\n",
    "\n",
    "J'ai dit que les méthodes de listes ne renvoient rien.\n",
    "On va pourtant essayer de « capturer » la valeur de retour dans liste2.\n",
    "Quand on essaye d'afficher la valeur de liste2 par saisie directe, on n'obtient rien. Il faut l'afficher avec print pour savoir ce qu'elle contient: None. C'est l'objet vide de Python.\n",
    "En réalité, quand une fonction ne renvoie rien, elle renvoie None.\n",
    "Vous retrouverez peut-être cette valeur de temps à autre, ne soyez donc pas surpris.\n",
    "\n",
    "#### Insérer un élément dans la liste\n",
    "\n",
    "Nous allons passer assez rapidement sur cette seconde méthode.\n",
    "On peut, très simplement, insérer un objet dans une liste, à l'endroit voulu.\n",
    "On utilise pour cela la méthode insert."
   ]
  },
  {
   "cell_type": "code",
   "execution_count": null,
   "metadata": {},
   "outputs": [],
   "source": [
    "ma_liste = ['a', 'b', 'd', 'e']"
   ]
  },
  {
   "cell_type": "code",
   "execution_count": null,
   "metadata": {},
   "outputs": [],
   "source": [
    "ma_liste.insert(2, 'c') # On insère 'c' à l'indice 2"
   ]
  },
  {
   "cell_type": "code",
   "execution_count": null,
   "metadata": {},
   "outputs": [],
   "source": [
    "print(ma_liste)"
   ]
  },
  {
   "cell_type": "markdown",
   "metadata": {},
   "source": [
    "Quand on demande d'insérer c à l'indice 2, la méthode va décaler les objets d'indice supérieur ou égal à 2.\n",
    "c va donc s'intercaler entre b et d.\n",
    "\n",
    "### Concaténation de listes\n",
    "\n",
    "On peut également agrandir des listes en les concaténant avec d'autres."
   ]
  },
  {
   "cell_type": "code",
   "execution_count": null,
   "metadata": {},
   "outputs": [],
   "source": [
    "ma_liste1 = [3, 4, 5]"
   ]
  },
  {
   "cell_type": "code",
   "execution_count": null,
   "metadata": {},
   "outputs": [],
   "source": [
    "ma_liste2 = [8, 9, 10]"
   ]
  },
  {
   "cell_type": "code",
   "execution_count": null,
   "metadata": {},
   "outputs": [],
   "source": [
    "ma_liste1.extend(ma_liste2) # On insère ma_liste2 à la fin de ma_liste1"
   ]
  },
  {
   "cell_type": "code",
   "execution_count": null,
   "metadata": {},
   "outputs": [],
   "source": [
    "print(ma_liste1)"
   ]
  },
  {
   "cell_type": "code",
   "execution_count": null,
   "metadata": {},
   "outputs": [],
   "source": [
    "ma_liste1 = [3, 4, 5]"
   ]
  },
  {
   "cell_type": "code",
   "execution_count": null,
   "metadata": {},
   "outputs": [],
   "source": [
    "ma_liste1 + ma_liste2"
   ]
  },
  {
   "cell_type": "code",
   "execution_count": null,
   "metadata": {},
   "outputs": [],
   "source": [
    "ma_liste1 += ma_liste2 # Identique à extend"
   ]
  },
  {
   "cell_type": "code",
   "execution_count": null,
   "metadata": {},
   "outputs": [],
   "source": [
    "print(ma_liste1)"
   ]
  },
  {
   "cell_type": "markdown",
   "metadata": {},
   "source": [
    "Voici les différentes façons de concaténer des listes. Vous pouvez remarquer l'opérateur+qui concatène deux listes entre elles et renvoie le résultat. On peut utiliser+=assez logiquement pour étendre une liste. Cette façon de faire revient au même qu'utiliser la méthodeextend.\n",
    "\n",
    "### Suppression d'éléments d'une liste\n",
    "\n",
    "Nous allons voir rapidement comment supprimer des éléments d'une liste, avant d'apprendre à les parcourir.\n",
    "Vous allez vite pouvoir constater que cela se fait assez simplement.\n",
    "\n",
    "Nous allons voir deux méthodes pour supprimer des éléments d'une liste :\n",
    "\n",
    "#### Le mot-clé del\n",
    "\n",
    "C'est un des mots-clés de Python. del (abréviation de delete) signifie « supprimer » en anglais.\n",
    "\n",
    "Son utilisation est des plus simple :"
   ]
  },
  {
   "cell_type": "code",
   "execution_count": null,
   "metadata": {},
   "outputs": [],
   "source": [
    "variable = 34"
   ]
  },
  {
   "cell_type": "code",
   "execution_count": null,
   "metadata": {},
   "outputs": [],
   "source": [
    "variable"
   ]
  },
  {
   "cell_type": "code",
   "execution_count": null,
   "metadata": {},
   "outputs": [],
   "source": [
    "del variable"
   ]
  },
  {
   "cell_type": "code",
   "execution_count": null,
   "metadata": {},
   "outputs": [],
   "source": [
    "variable"
   ]
  },
  {
   "cell_type": "markdown",
   "metadata": {},
   "source": [
    "Comme vous le voyez, après l'utilisation de del, la variable n'existe plus.\n",
    "Python l'efface tout simplement.\n",
    "Mais on peut également utiliser del pour supprimer des éléments d'une séquence, comme une liste,\n",
    "et c'est ce qui nous intéresse ici."
   ]
  },
  {
   "cell_type": "code",
   "execution_count": null,
   "metadata": {},
   "outputs": [],
   "source": [
    "ma_liste = [-5, -2, 1, 4, 7, 10]"
   ]
  },
  {
   "cell_type": "code",
   "execution_count": null,
   "metadata": {},
   "outputs": [],
   "source": [
    "del ma_liste[0] # On supprime le premier élément de la liste"
   ]
  },
  {
   "cell_type": "code",
   "execution_count": null,
   "metadata": {},
   "outputs": [],
   "source": [
    "ma_liste"
   ]
  },
  {
   "cell_type": "code",
   "execution_count": null,
   "metadata": {},
   "outputs": [],
   "source": [
    "del ma_liste[2] # On supprime le troisième élément de la liste"
   ]
  },
  {
   "cell_type": "code",
   "execution_count": null,
   "metadata": {},
   "outputs": [],
   "source": [
    "ma_liste"
   ]
  },
  {
   "cell_type": "markdown",
   "metadata": {},
   "source": [
    "#### La méthode remove\n",
    "\n",
    "On peut aussi supprimer des éléments de la liste grâce à la méthode remove qui prend en paramètre non pas l'indice de l'élément à supprimer, mais l'élément lui-même."
   ]
  },
  {
   "cell_type": "code",
   "execution_count": null,
   "metadata": {},
   "outputs": [],
   "source": [
    "ma_liste = [31, 32, 33, 34, 35]"
   ]
  },
  {
   "cell_type": "code",
   "execution_count": null,
   "metadata": {},
   "outputs": [],
   "source": [
    "ma_liste.remove(32)"
   ]
  },
  {
   "cell_type": "code",
   "execution_count": null,
   "metadata": {},
   "outputs": [],
   "source": [
    "ma_liste"
   ]
  },
  {
   "cell_type": "markdown",
   "metadata": {},
   "source": [
    "La méthode remove parcourt la liste et en retire l'élément que vous lui passez en paramètre.\n",
    "C'est une façon de faire un peu différente et vous appliquerez del ou remove en fonction de la situation.\n",
    "\n",
    "La méthode remove ne retire que la première occurrence de la valeur trouvée dans la liste !\n",
    "\n",
    "Notez au passage que le mot-clé del n'est pas une méthode de liste. Il s'agit d'une fonctionnalité de Python qu'on retrouve dans la plupart des objets conteneurs, tels que les listes que nous venons de voir, ou les dictionnaires que nous verrons plus tard. D'ailleurs, del sert plus généralement à supprimer non seulement des éléments d'une séquence mais aussi, comme nous l'avons vu, des variables.\n",
    "\n",
    "Nous allons à présent voir comment parcourir une liste, même si vous devez déjà avoir votre petite idée sur la question.\n",
    "\n",
    "### Parcourir une liste\n",
    "\n",
    "#### Les boucles while et for"
   ]
  },
  {
   "cell_type": "code",
   "execution_count": null,
   "metadata": {},
   "outputs": [],
   "source": [
    "ma_liste = ['a', 'b', 'c', 'd', 'e', 'f', 'g', 'h']\n",
    "i = 0 # Notre indice pour la boucle while"
   ]
  },
  {
   "cell_type": "code",
   "execution_count": null,
   "metadata": {},
   "outputs": [],
   "source": [
    "while i < len(ma_liste):\n",
    "    print(ma_liste[i])\n",
    "    i += 1 # On incrémente i, ne pas oublier !"
   ]
  },
  {
   "cell_type": "code",
   "execution_count": null,
   "metadata": {},
   "outputs": [],
   "source": [
    "# Cette méthode est cependant préférable\n",
    "\n",
    "for elt in ma_liste: # elt va prendre les valeurs successives des éléments de ma_liste\n",
    "    print(elt)"
   ]
  },
  {
   "cell_type": "markdown",
   "metadata": {},
   "source": [
    "Il s'agit des mêmes méthodes de parcours que nous avons vues pour les chaînes de caractères, au chapitre précédent. Nous allons cependant aller un peu plus loin.\n",
    "\n",
    "Les deux méthodes que nous venons de voir possèdent toutes deux des inconvénients :\n",
    "\n",
    "* la méthode while est plus longue à écrire, moins intuitive et elle est perméable aux boucles infinies, si l'on oublie d'incrémenter la variable servant de compteur ;\n",
    "\n",
    "* la méthode for se contente de parcourir la liste en capturant les éléments dans une variable, sans qu'on puisse savoir où ils sont dans la liste.\n",
    "\n",
    "C'est vrai dans le cas que nous venons de voir. Certains codeurs vont combiner les deux méthodes pour plus de flexibilité mais, très souvent, le code obtenu est moins lisible.\n",
    "Heureusement il existe une autre méthode.\n",
    "\n",
    "#### La fonction enumerate"
   ]
  },
  {
   "cell_type": "code",
   "execution_count": null,
   "metadata": {},
   "outputs": [],
   "source": [
    "ma_liste = ['a', 'b', 'c', 'd', 'e', 'f', 'g', 'h']"
   ]
  },
  {
   "cell_type": "code",
   "execution_count": null,
   "metadata": {},
   "outputs": [],
   "source": [
    "for i, elt in enumerate(ma_liste):\n",
    "    print(\"À l'indice {} se trouve {}.\".format(i, elt))"
   ]
  },
  {
   "cell_type": "markdown",
   "metadata": {},
   "source": [
    "Nous avons ici une boucle for un peu surprenante.\n",
    "Entre for et in, nous avons deux variables, séparées par une virgule.\n",
    "\n",
    "En fait, enumerate prend en paramètre une liste et renvoie un objet qui peut être associé à une liste contenant deux valeurs par élément : l'indice et l'élément de la liste parcouru.\n",
    "\n",
    "Ce n'est sans doute pas encore très clair.\n",
    "Essayons d'afficher cela un peu mieux :"
   ]
  },
  {
   "cell_type": "code",
   "execution_count": null,
   "metadata": {},
   "outputs": [],
   "source": [
    "for elt in enumerate(ma_liste):\n",
    "    print(elt)"
   ]
  },
  {
   "cell_type": "markdown",
   "metadata": {},
   "source": [
    "Quand on parcourt chaque élément de l'objet renvoyé par enumerate, on voit des tuples qui contiennent deux éléments : d'abord l'indice, puis l'objet se trouvant à cet indice dans la liste passée en argument à la fonction enumerate.\n",
    "\n",
    "Les tuples sont des séquences, assez semblables aux listes, sauf qu'on ne peut modifier un tuple après qu'il ait été créé. Cela signifie qu'on définit le contenu d'un tuple (les objets qu'il doit contenir) lors de sa création, mais qu'on ne peut en ajouter ou en retirer par la suite.\n",
    "\n",
    "Les listes sont entourées par des crochets [] et tuples sont entouré par des parenthèses ().\n",
    "\n",
    "**Les tuples sont dit immutable (immuables en français)**\n",
    "\n",
    "Quand on utilise enumerate, on capture l'indice et l'élément dans deux variables distinctes.\n",
    "Voyons un autre exemple pour comprendre ce mécanisme :"
   ]
  },
  {
   "cell_type": "code",
   "execution_count": null,
   "metadata": {},
   "outputs": [],
   "source": [
    "autre_liste = [\n",
    "[1, 'a'],\n",
    "[4, 'd'],\n",
    "[7, 'g'],\n",
    "[26, 'z'],\n",
    "] # J'ai étalé la liste sur plusieurs lignes"
   ]
  },
  {
   "cell_type": "code",
   "execution_count": null,
   "metadata": {},
   "outputs": [],
   "source": [
    "for nb, lettre in autre_liste:\n",
    "    print(\"La lettre {} est la {}e de l'alphabet.\".format(lettre, nb))"
   ]
  },
  {
   "cell_type": "markdown",
   "metadata": {},
   "source": [
    "On écrit ici la définition de la liste sur plusieurs lignes pour des raisons de lisibilité.\n",
    "On n'est pas obligé de mettre des anti-slashs « \\ » en fin de ligne car, tant que Python ne trouve pas de crochet fermant la liste, il continue d'attendre sans interpréter la ligne.\n",
    "Vous pouvez d'ailleurs le constater avec les points qui remplacent les chevrons au début de la ligne, tant que la liste n'a pas été refermée.\n",
    "\n",
    "Quand on travaille sur une liste que l'on parcourt en même temps, on peut se retrouver face à des erreurs assez étranges, qui paraissent souvent incompréhensibles au début.\n",
    "\n",
    "Par exemple, on peut être confronté à des exceptions IndexError si on tente de supprimer certains éléments d'une liste en la parcourant.\n",
    "\n",
    "Nous verrons au prochain chapitre comment faire cela proprement, pour l'heure il vous suffit de vous méfier d'un parcours qui modifie une liste, surtout sa structure.\n",
    "D'une façon générale, évitez de parcourir une liste dont la taille évolue en même temps.\n",
    "\n",
    "## Les tuples\n",
    "\n",
    "Nous avons brièvement vu les tuples un peu plus haut, grâce à la fonction enumerate.\n",
    "Les tuples sont des listes immuables, qu'on ne peut modifier.\n",
    "En fait, vous allez vous rendre compte que nous utilisons depuis longtemps des tuples sans nous en rendre compte.\n",
    "\n",
    "Un tuple se définit comme une liste, sauf qu'on utilise comme délimiteur des parenthèses au lieu des crochets."
   ]
  },
  {
   "cell_type": "code",
   "execution_count": 1,
   "metadata": {},
   "outputs": [],
   "source": [
    "tuple_vide = ()"
   ]
  },
  {
   "cell_type": "code",
   "execution_count": null,
   "metadata": {},
   "outputs": [],
   "source": [
    "tuple_non_vide = (1,) # est équivalent à ci dessous"
   ]
  },
  {
   "cell_type": "code",
   "execution_count": 3,
   "metadata": {},
   "outputs": [
    {
     "data": {
      "text/plain": [
       "(1,)"
      ]
     },
     "execution_count": 3,
     "metadata": {},
     "output_type": "execute_result"
    }
   ],
   "source": [
    "tuple_non_vide = 1,\n",
    "tuple_non_vide"
   ]
  },
  {
   "cell_type": "code",
   "execution_count": 4,
   "metadata": {},
   "outputs": [],
   "source": [
    "tuple_avec_plusieurs_valeurs = (1, 2, 5)"
   ]
  },
  {
   "cell_type": "markdown",
   "metadata": {},
   "source": [
    "À la différence des listes, les tuples, une fois créés, ne peuvent être modifiés : on ne peut plus y ajouter d'objet ou en retirer.\n",
    "\n",
    "Une petite subtilité ici : si on veut créer un tuple contenant un unique élément, on doit quand même mettre une virgule après celui-ci.\n",
    "Sinon, Python va automatiquement supprimer les parenthèses et on se retrouvera avec une variable lambda et non une variable contenant un tuple.\n",
    "\n",
    "### À quoi servent les tuples ?\n",
    "\n",
    "Il est assez rare que l'on travaille directement sur des tuples.\n",
    "C'est, après tout, un type que l'on ne peut pas modifier.\n",
    "On ne peut supprimer d'éléments d'un tuple, ni en ajouter.\n",
    "Cela vous paraît peut-être encore assez abstrait mais il peut être utile de travailler sur des données sans pouvoir les modifier.\n",
    "\n",
    "En attendant, voyons plutôt les cas où nous avons utilisé des tuples sans le savoir.\n",
    "\n",
    "#### Affectation multiple\n",
    "\n",
    "Tous les cas que nous allons voir sont des cas d'affectation multiple. Vous vous souvenez ?"
   ]
  },
  {
   "cell_type": "code",
   "execution_count": 5,
   "metadata": {},
   "outputs": [],
   "source": [
    "a, b = 3, 4"
   ]
  },
  {
   "cell_type": "code",
   "execution_count": 6,
   "metadata": {},
   "outputs": [
    {
     "data": {
      "text/plain": [
       "3"
      ]
     },
     "execution_count": 6,
     "metadata": {},
     "output_type": "execute_result"
    }
   ],
   "source": [
    "a"
   ]
  },
  {
   "cell_type": "code",
   "execution_count": 7,
   "metadata": {},
   "outputs": [
    {
     "data": {
      "text/plain": [
       "4"
      ]
     },
     "execution_count": 7,
     "metadata": {},
     "output_type": "execute_result"
    }
   ],
   "source": [
    "b"
   ]
  },
  {
   "cell_type": "markdown",
   "metadata": {},
   "source": [
    "On a également utilisé cette syntaxe pour permuter deux variables. Eh bien, cette syntaxe passe par des tuples qui ne sont pas déclarés explicitement. Vous pourriez écrire :"
   ]
  },
  {
   "cell_type": "markdown",
   "metadata": {},
   "source": [
    "Quand Python trouve plusieurs variables ou valeurs séparées par des virgules et sans délimiteur, il va les mettre dans des tuples. Dans le premier exemple, les parenthèses sont sous-entendues et Python comprend ce qu'il doit faire.\n",
    "\n",
    "L'affectation multiple est un mécanisme très puissant et important en Python. Pour rappel, il permet d'effectuer sur une même ligne plusieurs affectations en même temps, par exemple : x, y, z = 1, 2, 3. On voit que cette syntaxe correspond à un tuple de chaque côté de l'opérateur =. Notez qu'il serait possible de le faire également avec les listes : [x, y, z] = [1, 2, 3]. Toutefois, cette syntaxe est alourdie par la présence des crochets. On préfèrera donc la première syntaxe avec les tuples sans parenthèse.\n",
    "\n",
    "#### Une fonction renvoyant plusieurs valeurs\n",
    "\n",
    "Nous ne l'avons pas vu jusqu'ici mais une fonction peut renvoyer deux valeurs ou même plus :"
   ]
  },
  {
   "cell_type": "code",
   "execution_count": 10,
   "metadata": {},
   "outputs": [],
   "source": [
    "def decomposer(entier, divise_par):\n",
    "    \"\"\"Cette fonction retourne la partie entière et le reste de\n",
    "    entier / divise_par\"\"\"\n",
    "\n",
    "    p_e = entier // divise_par\n",
    "    reste = entier % divise_par\n",
    "    return p_e, reste"
   ]
  },
  {
   "cell_type": "markdown",
   "metadata": {},
   "source": [
    "Et on peut ensuite capturer la partie entière et le reste dans deux variables, au retour de la fonction :"
   ]
  },
  {
   "cell_type": "code",
   "execution_count": 11,
   "metadata": {},
   "outputs": [],
   "source": [
    "partie_entiere, reste = decomposer(20, 3)"
   ]
  },
  {
   "cell_type": "code",
   "execution_count": 12,
   "metadata": {},
   "outputs": [
    {
     "data": {
      "text/plain": [
       "6"
      ]
     },
     "execution_count": 12,
     "metadata": {},
     "output_type": "execute_result"
    }
   ],
   "source": [
    "partie_entiere"
   ]
  },
  {
   "cell_type": "code",
   "execution_count": 13,
   "metadata": {},
   "outputs": [
    {
     "data": {
      "text/plain": [
       "2"
      ]
     },
     "execution_count": 13,
     "metadata": {},
     "output_type": "execute_result"
    }
   ],
   "source": [
    "reste"
   ]
  },
  {
   "cell_type": "markdown",
   "metadata": {},
   "source": [
    "Là encore, on passe par des tuples sans que ce soit indiqué explicitement à Python.\n",
    "Si vous essayez de faire retour = decomposer(20, 3), vous allez capturer un tuple contenant deux éléments : la partie entière et le reste de 20 divisé par 3.\n",
    "La syntaxe x, y = fonction() permet de récupérer les 2 valeurs renvoyées par la fonction et de les affecter à la volée dans 2 variables différentes. Cela évite l'opération laborieuse de récupérer d'abord le tuple, puis de créer les variables en utilisant l'indiçage :"
   ]
  },
  {
   "cell_type": "code",
   "execution_count": 14,
   "metadata": {},
   "outputs": [],
   "source": [
    "retour = decomposer(20, 3)"
   ]
  },
  {
   "cell_type": "markdown",
   "metadata": {},
   "source": [
    "Nous verrons plus loin d'autres exemples de tuples et d'autres utilisations. \n",
    "\n",
    "### En résumé\n",
    "\n",
    "* Une liste est une séquence mutable pouvant contenir plusieurs autres objets.\n",
    "\n",
    "* Une liste se construit ainsi :\n",
    "\n",
    "liste = [element1, element2, elementN].\n",
    "\n",
    "* On peut insérer des éléments dans une liste à l'aide des méthodes append,insert et extend.\n",
    "\n",
    "* On peut supprimer des éléments d'une liste grâce au mot-clé del ou à la méthode remove.\n",
    "\n",
    "* Un tuple est une séquence pouvant contenir des objets. À la différence de la liste, le tuple ne peut être modifié une fois créé."
   ]
  },
  {
   "cell_type": "markdown",
   "metadata": {},
   "source": [
    "## Les dictionnaires\n",
    "\n",
    "Un autre type de donnée très utile, natif dans Python, est le dictionnaire.\n",
    "\n",
    "À la différence des séquences, qui sont indexées par des nombres, les dictionnaires sont indexés par des clés, qui peuvent être de n'importe quel type immuable ; les chaînes de caractères et les nombres peuvent toujours être des clés. Des tuples peuvent être utilisés comme clés s'ils ne contiennent que des chaînes, des nombres ou des tuples ; si un tuple contient un objet muable, de façon directe ou indirecte, il ne peut pas être utilisé comme une clé. Vous ne pouvez pas utiliser des listes comme clés, car les listes peuvent être modifiées en place en utilisant des affectations par position, par tranches ou via des méthodes comme append() ou extend().\n",
    "\n",
    "Le plus simple est de considérer les dictionnaires comme des ensembles de paires clé: valeur, les clés devant être uniques (au sein d'un dictionnaire).\n",
    "\n",
    "Une paire d'accolades crée un dictionnaire vide : {}. On peut également utiliser la méthode dict (qui instancie la classe dict)."
   ]
  },
  {
   "cell_type": "code",
   "execution_count": 22,
   "metadata": {},
   "outputs": [],
   "source": [
    "tel = {}"
   ]
  },
  {
   "cell_type": "code",
   "execution_count": 23,
   "metadata": {},
   "outputs": [],
   "source": [
    "tel = dict()"
   ]
  },
  {
   "cell_type": "code",
   "execution_count": 24,
   "metadata": {},
   "outputs": [
    {
     "data": {
      "text/plain": [
       "dict"
      ]
     },
     "execution_count": 24,
     "metadata": {},
     "output_type": "execute_result"
    }
   ],
   "source": [
    "type(tel)"
   ]
  },
  {
   "cell_type": "markdown",
   "metadata": {},
   "source": [
    "Placer une liste de paires clé:valeur séparées par des virgules à l'intérieur des accolades ajoute les valeurs correspondantes au dictionnaire ; c'est également de cette façon que les dictionnaires sont affichés.\n",
    "\n",
    "Les opérations classiques sur un dictionnaire consistent à stocker une valeur pour une clé et à extraire la valeur correspondant à une clé. Il est également possible de supprimer une paire clé-valeur avec del. Si vous stockez une valeur pour une clé qui est déjà utilisée, l'ancienne valeur associée à cette clé est perdue. Si vous tentez d'extraire une valeur associée à une clé qui n'existe pas, une exception est levée.\n",
    "\n",
    "Exécuter list(d) sur un dictionnaire d renvoie une liste de toutes les clés utilisées dans le dictionnaire, dans l'ordre d'insertion (si vous voulez qu'elles soient ordonnées, utilisez sorted(d)). Pour tester si une clé est dans le dictionnaire, utilisez le mot-clé in.\n",
    "\n",
    "Pour mémoire : les parenthèses délimitent les tuples, les crochets délimitent les listes et les accolades {} délimitent les dictionnaires.\n",
    "\n",
    "Voici un petit exemple utilisant un dictionnaire :"
   ]
  },
  {
   "cell_type": "code",
   "execution_count": 25,
   "metadata": {},
   "outputs": [],
   "source": [
    "tel = {'jack': 4098, 'sape': 4139}"
   ]
  },
  {
   "cell_type": "code",
   "execution_count": 26,
   "metadata": {},
   "outputs": [
    {
     "data": {
      "text/plain": [
       "4098"
      ]
     },
     "execution_count": 26,
     "metadata": {},
     "output_type": "execute_result"
    }
   ],
   "source": [
    " tel['jack'] # Pour accéder à la valeur d'une clé précise, nous indiquons entre crochets la clé à laquelle nous souhaitons accéder."
   ]
  },
  {
   "cell_type": "code",
   "execution_count": 27,
   "metadata": {},
   "outputs": [
    {
     "ename": "KeyError",
     "evalue": "'jacky'",
     "output_type": "error",
     "traceback": [
      "\u001b[0;31m---------------------------------------------------------------------------\u001b[0m",
      "\u001b[0;31mKeyError\u001b[0m                                  Traceback (most recent call last)",
      "\u001b[0;32m<ipython-input-27-4d920d8a2979>\u001b[0m in \u001b[0;36m<module>\u001b[0;34m\u001b[0m\n\u001b[0;32m----> 1\u001b[0;31m \u001b[0mtel\u001b[0m\u001b[0;34m[\u001b[0m\u001b[0;34m'jacky'\u001b[0m\u001b[0;34m]\u001b[0m \u001b[0;31m# Si la clé n'existe pas dans le dictionnaire, une exception de type KeyError sera levée.\u001b[0m\u001b[0;34m\u001b[0m\u001b[0;34m\u001b[0m\u001b[0m\n\u001b[0m",
      "\u001b[0;31mKeyError\u001b[0m: 'jacky'"
     ]
    }
   ],
   "source": [
    " tel['jacky'] # Si la clé n'existe pas dans le dictionnaire, une exception de type KeyError sera levée."
   ]
  },
  {
   "cell_type": "code",
   "execution_count": 37,
   "metadata": {},
   "outputs": [],
   "source": [
    "tel['guido'] = 4127 # Nous pouvons ajouter une valeur au dictionnaire"
   ]
  },
  {
   "cell_type": "code",
   "execution_count": 38,
   "metadata": {},
   "outputs": [],
   "source": [
    "tel['jack'] = 4000 # Si la clé existe déjà, l'ancienne valeur à l'emplacement indiqué est remplacée par la nouvelle."
   ]
  },
  {
   "cell_type": "code",
   "execution_count": 32,
   "metadata": {},
   "outputs": [
    {
     "data": {
      "text/plain": [
       "{'jack': 4000, 'sape': 4139, 'guido': 4127}"
      ]
     },
     "execution_count": 32,
     "metadata": {},
     "output_type": "execute_result"
    }
   ],
   "source": [
    "tel"
   ]
  },
  {
   "cell_type": "code",
   "execution_count": 33,
   "metadata": {},
   "outputs": [],
   "source": [
    "del tel['sape'] # Pour effacer un élement on utilise la fonction del "
   ]
  },
  {
   "cell_type": "code",
   "execution_count": 34,
   "metadata": {},
   "outputs": [
    {
     "data": {
      "text/plain": [
       "4127"
      ]
     },
     "execution_count": 34,
     "metadata": {},
     "output_type": "execute_result"
    }
   ],
   "source": [
    "tel.pop('guido') # La méthode pop supprime également la clé précisée mais elle renvoie la valeur supprimée :"
   ]
  },
  {
   "cell_type": "code",
   "execution_count": 39,
   "metadata": {},
   "outputs": [
    {
     "data": {
      "text/plain": [
       "{'jack': 4000, 'guido': 4127}"
      ]
     },
     "execution_count": 39,
     "metadata": {},
     "output_type": "execute_result"
    }
   ],
   "source": [
    "tel"
   ]
  },
  {
   "cell_type": "code",
   "execution_count": 40,
   "metadata": {},
   "outputs": [
    {
     "data": {
      "text/plain": [
       "['jack', 'guido']"
      ]
     },
     "execution_count": 40,
     "metadata": {},
     "output_type": "execute_result"
    }
   ],
   "source": [
    "list(tel) # list renvoie une liste de toutes les clés utilisées dans le dictionnaire, dans l'ordre d'insertion"
   ]
  },
  {
   "cell_type": "code",
   "execution_count": 41,
   "metadata": {},
   "outputs": [
    {
     "data": {
      "text/plain": [
       "['guido', 'jack']"
      ]
     },
     "execution_count": 41,
     "metadata": {},
     "output_type": "execute_result"
    }
   ],
   "source": [
    "sorted(tel) # sorted renvoie la même liste mais ordonnée"
   ]
  },
  {
   "cell_type": "code",
   "execution_count": 42,
   "metadata": {},
   "outputs": [
    {
     "data": {
      "text/plain": [
       "True"
      ]
     },
     "execution_count": 42,
     "metadata": {},
     "output_type": "execute_result"
    }
   ],
   "source": [
    "'guido' in tel"
   ]
  },
  {
   "cell_type": "code",
   "execution_count": 43,
   "metadata": {},
   "outputs": [
    {
     "data": {
      "text/plain": [
       "False"
      ]
     },
     "execution_count": 43,
     "metadata": {},
     "output_type": "execute_result"
    }
   ],
   "source": [
    "'jack' not in tel"
   ]
  },
  {
   "cell_type": "markdown",
   "metadata": {},
   "source": [
    "Généralisons un peu tout cela : nous avons des dictionnaires, qui peuvent contenir d'autres objets. On place ces objets et on y accède grâce à des clés. Un dictionnaire ne peut naturellement pas contenir deux clés identiques (comme on l'a vu, la seconde valeur écrase la première). En revanche, rien n'empêche d'avoir deux valeurs identiques dans le dictionnaire.\n",
    "\n",
    "Nous avons utilisé ici, pour nos clés et nos valeurs, des chaînes de caractères. Ce n'est absolument pas obligatoire. Comme avec les listes, vous pouvez utiliser des entiers comme clés :"
   ]
  },
  {
   "cell_type": "code",
   "execution_count": 44,
   "metadata": {},
   "outputs": [],
   "source": [
    "mon_dictionnaire = {}"
   ]
  },
  {
   "cell_type": "code",
   "execution_count": 45,
   "metadata": {},
   "outputs": [],
   "source": [
    "mon_dictionnaire[0] = \"a\""
   ]
  },
  {
   "cell_type": "code",
   "execution_count": 46,
   "metadata": {},
   "outputs": [],
   "source": [
    "mon_dictionnaire[1] = \"e\""
   ]
  },
  {
   "cell_type": "code",
   "execution_count": 47,
   "metadata": {},
   "outputs": [],
   "source": [
    "mon_dictionnaire[2] = \"i\""
   ]
  },
  {
   "cell_type": "code",
   "execution_count": 48,
   "metadata": {},
   "outputs": [],
   "source": [
    "mon_dictionnaire[3] = \"o\""
   ]
  },
  {
   "cell_type": "code",
   "execution_count": 49,
   "metadata": {},
   "outputs": [],
   "source": [
    "mon_dictionnaire[4] = \"u\""
   ]
  },
  {
   "cell_type": "code",
   "execution_count": 50,
   "metadata": {},
   "outputs": [],
   "source": [
    "mon_dictionnaire[5] = \"y\""
   ]
  },
  {
   "cell_type": "code",
   "execution_count": 53,
   "metadata": {},
   "outputs": [
    {
     "data": {
      "text/plain": [
       "{0: 'a', 1: 'e', 2: 'i', 3: 'o', 4: 'u', 5: 'y'}"
      ]
     },
     "execution_count": 53,
     "metadata": {},
     "output_type": "execute_result"
    }
   ],
   "source": [
    "mon_dictionnaire\n"
   ]
  },
  {
   "cell_type": "markdown",
   "metadata": {},
   "source": [
    "On a l'impression de recréer le fonctionnement d'une liste mais ce n'est pas le cas : rappelez-vous qu'un dictionnaire n'a pas de structure ordonnée. Si vous supprimez par exemple l'indice 2, le dictionnaire, contrairement aux listes, ne va pas décaler toutes les clés d'indice supérieur à l'indice supprimé. Il n'a pas été conçu pour.\n",
    "\n",
    "Comme nous l'avons vu on peut utiliser quasiment tous les types comme clés et on peut utiliser absolument tous les types comme valeurs.\n",
    "\n",
    "Voici un exemple un peu plus atypique de clés : on souhaite représenter un plateau d'échecs. Traditionnellement, on représente une case de l'échiquier par une lettre (de A à H) suivie d'un chiffre (de 1 à 8). La lettre définit la colonne et le chiffre définit la ligne. Si vous n'êtes pas sûrs de comprendre, regardez la figure suivante.\n",
    "\n",
    "### Échiquier\n",
    "\n",
    "Pourquoi ne pas faire un dictionnaire dont les clés seront des tuples contenant la lettre et le chiffre identifiant la case, auxquelles on associe comme valeurs le nom des pièces ?"
   ]
  },
  {
   "cell_type": "code",
   "execution_count": 54,
   "metadata": {},
   "outputs": [
    {
     "data": {
      "text/plain": [
       "{('a', 1): 'tour blanche',\n",
       " ('b', 1): 'cavalier blanc',\n",
       " ('c', 1): 'fou blanc',\n",
       " ('d', 1): 'reine blanche',\n",
       " ('a', 2): 'pion blanc',\n",
       " ('b', 2): 'pion blanc'}"
      ]
     },
     "execution_count": 54,
     "metadata": {},
     "output_type": "execute_result"
    }
   ],
   "source": [
    "echiquier = {}\n",
    "echiquier['a', 1] = \"tour blanche\" # En bas à gauche de l'échiquier\n",
    "echiquier['b', 1] = \"cavalier blanc\" # À droite de la tour\n",
    "echiquier['c', 1] = \"fou blanc\" # À droite du cavalier\n",
    "echiquier['d', 1] = \"reine blanche\" # À droite du fou\n",
    "# ... Première ligne des blancs\n",
    "echiquier['a', 2] = \"pion blanc\" # Devant la tour\n",
    "echiquier['b', 2] = \"pion blanc\" # Devant le cavalier, à droite du pion\n",
    "# ... Seconde ligne des blancs\n",
    "echiquier"
   ]
  },
  {
   "cell_type": "markdown",
   "metadata": {},
   "source": [
    "Dans cet exemple, nos tuples sont sous-entendus. On ne les place pas entre parenthèses. Python comprend qu'on veut créer des tuples, ce qui est bien, mais l'important est que vous le compreniez bien aussi. Certains cours encouragent à toujours placer des parenthèses autour des tuples quand on les utilise. Pour ma part, je pense que, si vous gardez à l'esprit qu'il s'agit de tuples, que vous n'avez aucune peine à l'identifier, cela suffit. Si vous faites la confusion, mettez des parenthèses autour des tuples en toutes circonstances.\n",
    "\n",
    "Voilà pour le tour d'horizon. Ce fut bref et vous n'avez pas vu toutes les méthodes, bien entendu. Je vous laisse consulter l'aide pour une liste détaillée.\n",
    "\n",
    "### Stocker des fonctions grâce aux dictionnaires\n",
    "\n",
    "Une possibilité intéressante des dictionnaires même si peu utilisée.\n",
    "Les fonctions sont manipulables comme des variables. Ce sont des objets, un peu particuliers mais des objets tout de même. Donc on peut les prendre pour valeur d'affectation ou les ranger dans des listes ou dictionnaires. "
   ]
  },
  {
   "cell_type": "code",
   "execution_count": 55,
   "metadata": {},
   "outputs": [],
   "source": [
    "print_2 = print # L'objet print_2 pointera sur la fonction print"
   ]
  },
  {
   "cell_type": "code",
   "execution_count": 56,
   "metadata": {},
   "outputs": [
    {
     "name": "stdout",
     "output_type": "stream",
     "text": [
      "Affichons un message\n"
     ]
    }
   ],
   "source": [
    "print_2(\"Affichons un message\")"
   ]
  },
  {
   "cell_type": "markdown",
   "metadata": {},
   "source": [
    "On copie la fonction print dans une autre variable print_2. On peut ensuite appeler print_2 et la fonction va afficher le texte saisi, tout comme print l'aurait fait.\n",
    "\n",
    "En pratique, on affecte rarement des fonctions de cette manière. C'est peu utile. Par contre, on met parfois des fonctions dans des dictionnaires :"
   ]
  },
  {
   "cell_type": "code",
   "execution_count": 57,
   "metadata": {},
   "outputs": [],
   "source": [
    "def function1():\n",
    "    print(\"This is function1\")"
   ]
  },
  {
   "cell_type": "code",
   "execution_count": 58,
   "metadata": {},
   "outputs": [],
   "source": [
    "def function2():\n",
    "    print(\"This is function2\")"
   ]
  },
  {
   "cell_type": "code",
   "execution_count": 59,
   "metadata": {},
   "outputs": [],
   "source": [
    "func_dict = {}"
   ]
  },
  {
   "cell_type": "code",
   "execution_count": 60,
   "metadata": {},
   "outputs": [],
   "source": [
    "func_dict[\"function_1\"] = function1 # on ne met pas les parenthèses"
   ]
  },
  {
   "cell_type": "code",
   "execution_count": 61,
   "metadata": {},
   "outputs": [],
   "source": [
    "func_dict[\"function_2\"] = function2"
   ]
  },
  {
   "cell_type": "code",
   "execution_count": 62,
   "metadata": {},
   "outputs": [
    {
     "data": {
      "text/plain": [
       "<function __main__.function1()>"
      ]
     },
     "execution_count": 62,
     "metadata": {},
     "output_type": "execute_result"
    }
   ],
   "source": [
    "func_dict[\"function_1\"]"
   ]
  },
  {
   "cell_type": "code",
   "execution_count": 63,
   "metadata": {},
   "outputs": [
    {
     "name": "stdout",
     "output_type": "stream",
     "text": [
      "This is function1\n"
     ]
    }
   ],
   "source": [
    "func_dict[\"function_1\"]() # on essaye de l'appeler"
   ]
  },
  {
   "cell_type": "markdown",
   "metadata": {},
   "source": [
    "On commence par définir deux fonctions.\n",
    "\n",
    "On crée un dictionnaire nommé func_dict.\n",
    "\n",
    "On met dans ce dictionnaire les fonctions function1 et function2.\n",
    "\n",
    "On essaye d'accéder à la fonction function1 en tapant func_dict[\"function_1\"]. Python nous renvoie <function __main__.function1()> : c'est à dire notre fonction fonction 1.\n",
    "\n",
    "Toutefois, pour l'appeler, il faut des parenthèses.\n",
    "\n",
    "En tapant func_dict[\"function_1\"](), on accède à la fonction function1 et on l'appelle dans la foulée.\n",
    "\n",
    "On peut stocker les références des fonctions dans n'importe quel objet conteneur, des listes, des dictionnaires… et d'autres classes, quand nous apprendrons à en faire.\n",
    "\n",
    "### Les méthodes de parcours\n",
    "\n",
    "Le parcours d'un dictionnaire ne s'effectue pas tout à fait comme celui d'une liste.\n",
    "La différence n'est pas si énorme que cela mais, la plupart du temps, on passe par des méthodes de dictionnaire.\n",
    "\n",
    "#### Parcours des clés\n"
   ]
  },
  {
   "cell_type": "code",
   "execution_count": 65,
   "metadata": {},
   "outputs": [],
   "source": [
    "d1 = {'a': 1, 'b': 2, 'c': 3, 'd': 4, 'a1': 5, 'b1': 10, 'c1': 8, 'd1': 6}"
   ]
  },
  {
   "cell_type": "code",
   "execution_count": 66,
   "metadata": {},
   "outputs": [
    {
     "name": "stdout",
     "output_type": "stream",
     "text": [
      "{'a': 1, 'b': 2, 'c': 3, 'd': 4, 'a1': 5, 'b1': 10, 'c1': 8, 'd1': 6}\n"
     ]
    }
   ],
   "source": [
    "print(d1)"
   ]
  },
  {
   "cell_type": "code",
   "execution_count": null,
   "metadata": {},
   "outputs": [],
   "source": [
    "Autre exemple :"
   ]
  },
  {
   "cell_type": "code",
   "execution_count": 67,
   "metadata": {},
   "outputs": [],
   "source": [
    "fruits = {\"poires\":31, \"melons\":3, \"pommes\":21}"
   ]
  },
  {
   "cell_type": "code",
   "execution_count": 68,
   "metadata": {},
   "outputs": [
    {
     "name": "stdout",
     "output_type": "stream",
     "text": [
      "poires\n",
      "melons\n",
      "pommes\n"
     ]
    }
   ],
   "source": [
    "for cle in fruits:\n",
    "    print(cle)"
   ]
  },
  {
   "cell_type": "markdown",
   "metadata": {},
   "source": [
    "Comme vous le voyez, si on essaye de parcourir un dictionnaire « simplement », on parcourt en réalité la liste des clés contenues dans le dictionnaire.\n",
    "\n",
    "Attention depuis python 3.6, les dictionnaires conservent l'ordre d'insertion des élements, par simple commodité, mais il s'agit toujours bien d'un type non ordonné.\n",
    "\n",
    "Une méthode de la classe dict permet d'obtenir ce même résultat.\n",
    "Je la recommande car on est sûr, en lisant l'instruction, que c'est la liste des clés que l'on parcourt :"
   ]
  },
  {
   "cell_type": "code",
   "execution_count": 69,
   "metadata": {},
   "outputs": [],
   "source": [
    "fruits = {\"pommes\":21, \"melons\":3, \"poires\":31}"
   ]
  },
  {
   "cell_type": "code",
   "execution_count": 70,
   "metadata": {},
   "outputs": [
    {
     "name": "stdout",
     "output_type": "stream",
     "text": [
      "pommes\n",
      "melons\n",
      "poires\n"
     ]
    }
   ],
   "source": [
    "for cle in fruits.keys():\n",
    "    print(cle)"
   ]
  },
  {
   "cell_type": "markdown",
   "metadata": {},
   "source": [
    "La méthode keys (« clés » en anglais) renvoie la liste des clés contenues dans le dictionnaire. En vérité, ce n'est pas tout à fait une liste (essayez de taper fruits.keys() dans votre interpréteur) mais c'est une séquence qui se parcourt comm"
   ]
  },
  {
   "cell_type": "markdown",
   "metadata": {},
   "source": [
    "La méthode keys (« clés » en anglais) renvoie la liste des clés contenues dans le dictionnaire. En vérité, ce n'est pas tout à fait une liste (essayez de taper fruits.keys() dans votre interpréteur) mais c'est une séquence qui se parcourt comme une liste.\n",
    "\n",
    "#### Parcours des valeurs\n",
    "\n",
    "On peut aussi parcourir les valeurs contenues dans un dictionnaire. Pour ce faire, on utilise la méthode values(« valeurs » en anglais)."
   ]
  },
  {
   "cell_type": "code",
   "execution_count": 71,
   "metadata": {},
   "outputs": [],
   "source": [
    "fruits = {\"pommes\": 21, \"melons\": 3, \"poires\": 31}"
   ]
  },
  {
   "cell_type": "code",
   "execution_count": 72,
   "metadata": {},
   "outputs": [
    {
     "name": "stdout",
     "output_type": "stream",
     "text": [
      "21\n",
      "3\n",
      "31\n"
     ]
    }
   ],
   "source": [
    "for valeur in fruits.values():\n",
    "    print(valeur)"
   ]
  },
  {
   "cell_type": "markdown",
   "metadata": {},
   "source": [
    "Cette méthode est peu utilisée pour un parcours car il est plus pratique de parcourir la liste des clés, cela suffit pour avoir les valeurs correspondantes. Mais on peut aussi, bien entendu, l'utiliser dans une condition :"
   ]
  },
  {
   "cell_type": "code",
   "execution_count": 73,
   "metadata": {},
   "outputs": [
    {
     "name": "stdout",
     "output_type": "stream",
     "text": [
      "Un des fruits se trouve dans la quantité 21.\n"
     ]
    }
   ],
   "source": [
    "if 21 in fruits.values():\n",
    "    print(\"Un des fruits se trouve dans la quantité 21.\")"
   ]
  },
  {
   "cell_type": "markdown",
   "metadata": {},
   "source": [
    "#### Parcours des clés et valeurs simultanément\n",
    "\n",
    "Comme nous l'avons vu précédemment pour avoir en même temps les indices et les objets d'une liste, on utilise la fonction enumerate.\n",
    "De même, il est parfois très pratique de parcourir un dictionnaire avec ses clés et les valeurs associées.\n",
    "Pour ce faire, on utilise la méthode items.\n",
    "Elle renvoie une liste, contenant les couples clé : valeur, sous la forme d'un tuple.\n",
    "Voyons comment l'utiliser :"
   ]
  },
  {
   "cell_type": "code",
   "execution_count": 74,
   "metadata": {},
   "outputs": [],
   "source": [
    "fruits = {\"pommes\":21, \"melons\":3, \"poires\":31}"
   ]
  },
  {
   "cell_type": "code",
   "execution_count": 75,
   "metadata": {
    "scrolled": true
   },
   "outputs": [
    {
     "name": "stdout",
     "output_type": "stream",
     "text": [
      "La clé pommes contient la valeur 21.\n",
      "La clé melons contient la valeur 3.\n",
      "La clé poires contient la valeur 31.\n"
     ]
    }
   ],
   "source": [
    "for cle, valeur in fruits.items():\n",
    "    print(\"La clé {} contient la valeur {}.\".format(cle, valeur))"
   ]
  },
  {
   "cell_type": "markdown",
   "metadata": {},
   "source": [
    "### En résumé\n",
    "\n",
    "* Un dictionnaire est un objet conteneur associant des clés à des valeurs.\n",
    "\n",
    "* Pour créer un dictionnaire, on utilise la syntaxe dictionnaire = {cle1:valeur1, cle2:valeur2, cleN:valeurN}.\n",
    "\n",
    "* On peut ajouter ou remplacer un élément dans un dictionnaire : dictionnaire[cle] = valeur.\n",
    "\n",
    "* On peut supprimer une clé (et sa valeur correspondante) d'un dictionnaire en utilisant, au choix, le mot-clé del ou la méthode pop.\n",
    "\n",
    "* On peut parcourir un dictionnaire grâce aux méthodes keys (parcourt les clés),values (parcourt les valeurs) ou items (parcourt les couples clé-valeur)."
   ]
  },
  {
   "cell_type": "markdown",
   "metadata": {},
   "source": [
    "## Les sets\n",
    "\n",
    "Les containers de type set représentent un autre type d'objet séquentiel qui peut se révéler très pratique. Ils ont la particularité d'être non modifiables, non ordonnés et de ne contenir qu'une seule copie maximum de chaque élément. Pour créer un nouveau set on peut utiliser les accolades :"
   ]
  },
  {
   "cell_type": "code",
   "execution_count": 76,
   "metadata": {},
   "outputs": [],
   "source": [
    "s = {1, 2, 3, 3}"
   ]
  },
  {
   "cell_type": "code",
   "execution_count": 77,
   "metadata": {},
   "outputs": [
    {
     "data": {
      "text/plain": [
       "{1, 2, 3}"
      ]
     },
     "execution_count": 77,
     "metadata": {},
     "output_type": "execute_result"
    }
   ],
   "source": [
    "s"
   ]
  },
  {
   "cell_type": "code",
   "execution_count": 78,
   "metadata": {},
   "outputs": [
    {
     "data": {
      "text/plain": [
       "set"
      ]
     },
     "execution_count": 78,
     "metadata": {},
     "output_type": "execute_result"
    }
   ],
   "source": [
    "type(s)"
   ]
  },
  {
   "cell_type": "markdown",
   "metadata": {},
   "source": [
    "Notez que la répétition du 3 dans la définition du set en ligne 1 donne au final un seul 3 car chaque élément ne peut être présent qu'une seule fois. A quoi différencie-t-on un set d'un dictionnaire alors que les deux utilisent des accolades ? Le set sera défini seulement par des valeurs {val1, val2, ...} alors que le dictionnaire aura toujours des couples clé/valeur {clé1: val1, clé2: val2, ...}.\n",
    "\n",
    "En général, on utilisera la fonction interne à Python set() pour générer un nouveau set. Celle-ci prend en argument n'importe quel objet itérable et le convertit en set (opération de casting) :"
   ]
  },
  {
   "cell_type": "code",
   "execution_count": 84,
   "metadata": {},
   "outputs": [
    {
     "data": {
      "text/plain": [
       "set"
      ]
     },
     "execution_count": 84,
     "metadata": {},
     "output_type": "execute_result"
    }
   ],
   "source": [
    "s = set([1, 2, 4, 1])\n",
    "s"
   ]
  },
  {
   "cell_type": "code",
   "execution_count": 87,
   "metadata": {},
   "outputs": [
    {
     "data": {
      "text/plain": [
       "{1, 2}"
      ]
     },
     "execution_count": 87,
     "metadata": {},
     "output_type": "execute_result"
    }
   ],
   "source": [
    "s = set((2, 2, 2, 1))\n",
    "s"
   ]
  },
  {
   "cell_type": "code",
   "execution_count": 89,
   "metadata": {},
   "outputs": [
    {
     "data": {
      "text/plain": [
       "{0, 1, 2, 3, 4}"
      ]
     },
     "execution_count": 89,
     "metadata": {},
     "output_type": "execute_result"
    }
   ],
   "source": [
    "s = set(range(5))\n",
    "s"
   ]
  },
  {
   "cell_type": "code",
   "execution_count": 90,
   "metadata": {},
   "outputs": [
    {
     "data": {
      "text/plain": [
       "{'clé1', 'clé2'}"
      ]
     },
     "execution_count": 90,
     "metadata": {},
     "output_type": "execute_result"
    }
   ],
   "source": [
    "s = set({\"clé1\": 1, \"clé2\": 2})\n",
    "s"
   ]
  },
  {
   "cell_type": "code",
   "execution_count": 91,
   "metadata": {},
   "outputs": [
    {
     "data": {
      "text/plain": [
       "{'ti', 'to'}"
      ]
     },
     "execution_count": 91,
     "metadata": {},
     "output_type": "execute_result"
    }
   ],
   "source": [
    "s = set([\"ti\", \"to\", \"to\"])\n",
    "s"
   ]
  },
  {
   "cell_type": "code",
   "execution_count": 92,
   "metadata": {},
   "outputs": [
    {
     "data": {
      "text/plain": [
       "{' ',\n",
       " 'M',\n",
       " 'a',\n",
       " 'b',\n",
       " 'c',\n",
       " 'e',\n",
       " 'h',\n",
       " 'n',\n",
       " 'o',\n",
       " 'p',\n",
       " 'r',\n",
       " 's',\n",
       " 't',\n",
       " 'u',\n",
       " 'é',\n",
       " 'î'}"
      ]
     },
     "execution_count": 92,
     "metadata": {},
     "output_type": "execute_result"
    }
   ],
   "source": [
    "s = set(\"Maître corbeau sur un arbre perché\")\n",
    "s"
   ]
  },
  {
   "cell_type": "markdown",
   "metadata": {},
   "source": [
    "Nous avons dit plus haut que les sets ne sont pas ordonnés, il est donc impossible de récupérer un élément par sa position. Il est également impossible de modifier un de ses éléments. Par contre, les sets sont itérables :"
   ]
  },
  {
   "cell_type": "code",
   "execution_count": 94,
   "metadata": {},
   "outputs": [
    {
     "data": {
      "text/plain": [
       "{1, 2, 4}"
      ]
     },
     "execution_count": 94,
     "metadata": {},
     "output_type": "execute_result"
    }
   ],
   "source": [
    "s = set([1, 2, 4, 1])\n",
    "s"
   ]
  },
  {
   "cell_type": "code",
   "execution_count": 95,
   "metadata": {},
   "outputs": [
    {
     "ename": "TypeError",
     "evalue": "'set' object does not support indexing",
     "output_type": "error",
     "traceback": [
      "\u001b[0;31m---------------------------------------------------------------------------\u001b[0m",
      "\u001b[0;31mTypeError\u001b[0m                                 Traceback (most recent call last)",
      "\u001b[0;32m<ipython-input-95-f8bb2b116405>\u001b[0m in \u001b[0;36m<module>\u001b[0;34m\u001b[0m\n\u001b[0;32m----> 1\u001b[0;31m \u001b[0ms\u001b[0m\u001b[0;34m[\u001b[0m\u001b[0;36m1\u001b[0m\u001b[0;34m]\u001b[0m\u001b[0;34m\u001b[0m\u001b[0;34m\u001b[0m\u001b[0m\n\u001b[0m",
      "\u001b[0;31mTypeError\u001b[0m: 'set' object does not support indexing"
     ]
    }
   ],
   "source": [
    "s[1]"
   ]
  },
  {
   "cell_type": "markdown",
   "metadata": {},
   "source": [
    "Les containers de type set sont très utiles pour rechercher les éléments uniques d'une suite d'éléments. Cela revient à éliminer tous les doublons. Par exemple :"
   ]
  },
  {
   "cell_type": "code",
   "execution_count": 96,
   "metadata": {},
   "outputs": [],
   "source": [
    "import random as rd"
   ]
  },
  {
   "cell_type": "code",
   "execution_count": 99,
   "metadata": {},
   "outputs": [],
   "source": [
    "l = [rd.randint(0, 9) for i in range(10)]"
   ]
  },
  {
   "cell_type": "code",
   "execution_count": 100,
   "metadata": {},
   "outputs": [
    {
     "data": {
      "text/plain": [
       "[5, 4, 9, 6, 0, 6, 2, 0, 0, 7]"
      ]
     },
     "execution_count": 100,
     "metadata": {},
     "output_type": "execute_result"
    }
   ],
   "source": [
    "l"
   ]
  },
  {
   "cell_type": "code",
   "execution_count": 101,
   "metadata": {},
   "outputs": [
    {
     "data": {
      "text/plain": [
       "{0, 2, 4, 5, 6, 7, 9}"
      ]
     },
     "execution_count": 101,
     "metadata": {},
     "output_type": "execute_result"
    }
   ],
   "source": [
    "set(l)"
   ]
  },
  {
   "cell_type": "markdown",
   "metadata": {},
   "source": [
    "On peut bien sûr transformer dans l'autre sens un set en liste. Cela permet par exemple d'éliminer les doublons de la liste initiale tout en récupérant une liste à la fin :"
   ]
  },
  {
   "cell_type": "code",
   "execution_count": 102,
   "metadata": {},
   "outputs": [
    {
     "data": {
      "text/plain": [
       "[3, 5, 6, 7, 8, 9]"
      ]
     },
     "execution_count": 102,
     "metadata": {},
     "output_type": "execute_result"
    }
   ],
   "source": [
    "list(set([7, 9, 6, 6, 7, 3, 8, 5, 6, 7]))"
   ]
  },
  {
   "cell_type": "markdown",
   "metadata": {},
   "source": [
    "Les sets permettent aussi l'évaluation d'union ou d'intersection mathématiques en conjonction avec les opérateurs respectivement | et & :"
   ]
  },
  {
   "cell_type": "code",
   "execution_count": 103,
   "metadata": {},
   "outputs": [],
   "source": [
    "l = [3, 3, 5, 1, 3, 4, 1, 1, 4, 4]"
   ]
  },
  {
   "cell_type": "code",
   "execution_count": 104,
   "metadata": {},
   "outputs": [],
   "source": [
    "l2 = [3, 0, 5, 3, 3, 1, 1, 1, 2, 2]"
   ]
  },
  {
   "cell_type": "code",
   "execution_count": 105,
   "metadata": {},
   "outputs": [
    {
     "data": {
      "text/plain": [
       "{1, 3, 5}"
      ]
     },
     "execution_count": 105,
     "metadata": {},
     "output_type": "execute_result"
    }
   ],
   "source": [
    "set(l) & set(l2)"
   ]
  },
  {
   "cell_type": "code",
   "execution_count": 106,
   "metadata": {},
   "outputs": [
    {
     "data": {
      "text/plain": [
       "{0, 1, 2, 3, 4, 5}"
      ]
     },
     "execution_count": 106,
     "metadata": {},
     "output_type": "execute_result"
    }
   ],
   "source": [
    "set(l) | set(l2)"
   ]
  },
  {
   "cell_type": "markdown",
   "metadata": {},
   "source": [
    "# Les modules\n",
    "\n",
    "## Définition\n",
    "\n",
    "Les modules sont des programmes Python qui contiennent des fonctions que l'on est amené à réutiliser souvent (on les appelle aussi bibliothèques ou libraries). Ce sont des « boîtes à outils » qui vont vous être très utiles.\n",
    "\n",
    "Les développeurs de Python ont mis au point de nombreux modules qui effectuent une quantité phénoménale de tâches. Pour cette raison, prenez toujours le réflexe de vérifier si une partie du code que vous souhaitez écrire n'existe pas déjà sous forme de module.\n",
    "\n",
    "La plupart de ces modules sont déjà installés dans les versions standards de Python. Vous pouvez accéder à une documentation exhaustive sur le site de Python. N'hésitez pas à explorer un peu ce site, la quantité de modules disponibles est impressionnante (plus de 300).\n",
    "\n",
    "## Importation de modules\n",
    "\n",
    "### Le module random\n",
    "\n",
    "Dans les chapitres précédents, nous avons rencontré la notion de module plusieurs fois. Notamment lorsque nous avons voulu tirer un nombre aléatoire :"
   ]
  },
  {
   "cell_type": "code",
   "execution_count": null,
   "metadata": {},
   "outputs": [],
   "source": [
    "import random"
   ]
  },
  {
   "cell_type": "code",
   "execution_count": null,
   "metadata": {},
   "outputs": [],
   "source": [
    "random.randint(0, 10)"
   ]
  },
  {
   "cell_type": "markdown",
   "metadata": {},
   "source": [
    "Regardons de plus près cet exemple :\n",
    "\n",
    "Ligne 1, l'instruction import donne accès à toutes les fonctions du module random.\n",
    "Ensuite, ligne 2, nous utilisons la fonction randint(0, 10) du module random. Cette fonction renvoie un nombre entier tiré aléatoirement entre 0 inclus et 10 inclus.\n",
    "\n",
    "### Le module math\n",
    "\n",
    "Le module math nous donne notamment accès aux fonctions trigonométriques sinus et cosinus, et à la constante \n",
    "π"
   ]
  },
  {
   "cell_type": "code",
   "execution_count": null,
   "metadata": {},
   "outputs": [],
   "source": [
    "import math"
   ]
  },
  {
   "cell_type": "code",
   "execution_count": null,
   "metadata": {},
   "outputs": [],
   "source": [
    "math.cos(math.pi / 2)"
   ]
  },
  {
   "cell_type": "code",
   "execution_count": null,
   "metadata": {},
   "outputs": [],
   "source": [
    "math.sin(math.pi / 2)"
   ]
  },
  {
   "cell_type": "markdown",
   "metadata": {},
   "source": [
    "En résumé, l'utilisation de la syntaxe import module permet d'importer tout une série de fonctions organisées par « thèmes ». Par exemple, les fonctions gérant les nombres aléatoires avec random et les fonctions mathématiques avec math. Python possède de nombreux autres modules internes (c'est-à-dire présent de base lorsqu'on installe Python).\n",
    "\n",
    "### Remarque\n",
    "\n",
    "Nous avons déjà vu la syntaxe obj.method() avec obj étant un objet et .method() une méthode.\n",
    "Nous vous avions expliqué qu'une méthode était une fonction un peu particulière :\n",
    "elle était liée à un objet par un point.\n",
    "\n",
    "En général, elle agit sur ou utilise l'objet auquel elle est liée.\n",
    "\n",
    "Par exemple, la méthode .format() dans l'instruction \"{}\".format(3.14) utilise l'objet chaîne de caractères \"{}\" (auquel elle est liée) pour finalement renvoyer une autre chaîne de caractères \"3.14\".\n",
    "\n",
    "Avec les modules, nous rencontrons une syntaxe similaire. Par exemple, dans l'instruction math.cos(), on pourrait penser que .cos() est aussi une méthode. En fait la documentation officielle de Python précise bien que dans ce cas .cos() est une fonction. Ainsi nous utiliserons le mot fonction lorsqu'on évoquera des fonctions issues de modules.\n",
    "\n",
    "Si cela vous parait encore ardu, ne vous inquiétez pas, c'est à force de pratiquer et de lire que vous vous approprierez le vocabulaire. Ici, la syntaxe module.fonction() est là pour rappeler de quel module provient la fonction en un coup d’œil !\n",
    "\n",
    "Il existe un autre moyen d'importer une ou plusieurs fonctions d'un module :"
   ]
  },
  {
   "cell_type": "code",
   "execution_count": null,
   "metadata": {},
   "outputs": [],
   "source": [
    "from random import randint"
   ]
  },
  {
   "cell_type": "code",
   "execution_count": null,
   "metadata": {},
   "outputs": [],
   "source": [
    "randint(0,10)"
   ]
  },
  {
   "cell_type": "markdown",
   "metadata": {},
   "source": [
    "À l'aide du mot-clé from, on peut importer une fonction spécifique d'un module donné. Remarquez bien qu'il est inutile de répéter le nom du module dans ce cas, seul le nom de la fonction en question est requis.\n",
    "\n",
    "On peut également importer toutes les fonctions d'un module :"
   ]
  },
  {
   "cell_type": "code",
   "execution_count": null,
   "metadata": {},
   "outputs": [],
   "source": [
    "from random import *"
   ]
  },
  {
   "cell_type": "code",
   "execution_count": null,
   "metadata": {},
   "outputs": [],
   "source": [
    "x = [1, 2, 3, 4]"
   ]
  },
  {
   "cell_type": "code",
   "execution_count": null,
   "metadata": {},
   "outputs": [],
   "source": [
    "shuffle(x)"
   ]
  },
  {
   "cell_type": "code",
   "execution_count": null,
   "metadata": {},
   "outputs": [],
   "source": [
    "x"
   ]
  },
  {
   "cell_type": "code",
   "execution_count": null,
   "metadata": {},
   "outputs": [],
   "source": [
    "shuffle(x)"
   ]
  },
  {
   "cell_type": "code",
   "execution_count": null,
   "metadata": {},
   "outputs": [],
   "source": [
    "x"
   ]
  },
  {
   "cell_type": "code",
   "execution_count": null,
   "metadata": {},
   "outputs": [],
   "source": [
    "randint(0,50)"
   ]
  },
  {
   "cell_type": "code",
   "execution_count": null,
   "metadata": {},
   "outputs": [],
   "source": [
    "uniform(0,2.5)"
   ]
  },
  {
   "cell_type": "markdown",
   "metadata": {},
   "source": [
    "L'instruction from random import * importe toutes les fonctions du module random. On peut ainsi utiliser toutes ses fonctions directement, comme par exemple shuffle() qui permute une liste aléatoirement.\n",
    "\n",
    "Dans la pratique, plutôt que de charger toutes les fonctions d'un module en une seule fois :"
   ]
  },
  {
   "cell_type": "code",
   "execution_count": null,
   "metadata": {},
   "outputs": [],
   "source": [
    "from random import *"
   ]
  },
  {
   "cell_type": "markdown",
   "metadata": {},
   "source": [
    "nous vous conseillons de charger le module seul de la manière suivante :"
   ]
  },
  {
   "cell_type": "code",
   "execution_count": null,
   "metadata": {},
   "outputs": [],
   "source": [
    "import random"
   ]
  },
  {
   "cell_type": "markdown",
   "metadata": {},
   "source": [
    "puis d'appeler explicitement les fonctions voulues, par exemple :"
   ]
  },
  {
   "cell_type": "code",
   "execution_count": null,
   "metadata": {},
   "outputs": [],
   "source": [
    "random.randint(0,2)"
   ]
  },
  {
   "cell_type": "markdown",
   "metadata": {},
   "source": [
    "Il est également possible de définir un alias (un nom plus court) pour un module :"
   ]
  },
  {
   "cell_type": "code",
   "execution_count": null,
   "metadata": {},
   "outputs": [],
   "source": [
    "import random as rand"
   ]
  },
  {
   "cell_type": "code",
   "execution_count": null,
   "metadata": {},
   "outputs": [],
   "source": [
    "rand.randint(1, 10)"
   ]
  },
  {
   "cell_type": "code",
   "execution_count": null,
   "metadata": {},
   "outputs": [],
   "source": [
    "rand.uniform(1, 3)"
   ]
  },
  {
   "cell_type": "markdown",
   "metadata": {},
   "source": [
    "Dans cet exemple, les fonctions du module random sont accessibles via l'alias rand.\n",
    "\n",
    "Enfin, pour vider de la mémoire un module déjà chargé, on peut utiliser l'instruction del :"
   ]
  },
  {
   "cell_type": "code",
   "execution_count": null,
   "metadata": {},
   "outputs": [],
   "source": [
    "import random"
   ]
  },
  {
   "cell_type": "code",
   "execution_count": null,
   "metadata": {},
   "outputs": [],
   "source": [
    "random.randint(0,10)"
   ]
  },
  {
   "cell_type": "code",
   "execution_count": null,
   "metadata": {},
   "outputs": [],
   "source": [
    "del random"
   ]
  },
  {
   "cell_type": "code",
   "execution_count": null,
   "metadata": {},
   "outputs": [],
   "source": [
    "random.randint(0,10)"
   ]
  },
  {
   "cell_type": "markdown",
   "metadata": {},
   "source": [
    "On constate alors qu'un rappel d'une fonction du module random après l'avoir vidé de la mémoire retourne un message d'erreur.\n",
    "\n",
    "### Obtenir de l'aide sur les modules importés\n",
    "\n",
    "Pour obtenir de l'aide sur un module rien de plus simple, il suffit d'utiliser la commande help() :"
   ]
  },
  {
   "cell_type": "code",
   "execution_count": null,
   "metadata": {},
   "outputs": [],
   "source": [
    "import random"
   ]
  },
  {
   "cell_type": "code",
   "execution_count": null,
   "metadata": {},
   "outputs": [],
   "source": [
    "help(random)"
   ]
  },
  {
   "cell_type": "markdown",
   "metadata": {},
   "source": [
    "### Remarque\n",
    "\n",
    "Pour vous déplacer dans l'aide, utilisez les flèches du haut et du bas pour parcourir les lignes les unes après les autres, ou les touches page-up et page-down pour faire défiler l'aide page par page.\n",
    "\n",
    "Pour quitter l'aide, appuyez sur la touche Q.\n",
    "\n",
    "Pour chercher du texte, tapez le caractère / puis le texte que vous cherchez puis la touche Entrée. Par exemple, pour chercher l'aide sur la fonction randint(), tapez /randint puis Entrée.\n",
    "\n",
    "Vous pouvez également obtenir de l'aide sur une fonction particulière d'un module de la manière suivante :\n",
    "\n",
    "help(random.randint)\n",
    "\n",
    "Comme nous l'avons vu précédemment la commande help() est en fait une commande plus générale permettant d'avoir de l'aide sur n'importe quel objet chargé en mémoire."
   ]
  },
  {
   "cell_type": "code",
   "execution_count": null,
   "metadata": {},
   "outputs": [],
   "source": [
    "t = [1, 2, 3]"
   ]
  },
  {
   "cell_type": "code",
   "execution_count": null,
   "metadata": {},
   "outputs": [],
   "source": [
    "help(t)"
   ]
  },
  {
   "cell_type": "markdown",
   "metadata": {},
   "source": [
    "Enfin, pour connaître d'un seul coup d’œil toutes les méthodes ou variables associées à un objet, utilisez la fonction dir() :"
   ]
  },
  {
   "cell_type": "code",
   "execution_count": null,
   "metadata": {},
   "outputs": [],
   "source": [
    "import random"
   ]
  },
  {
   "cell_type": "code",
   "execution_count": null,
   "metadata": {},
   "outputs": [],
   "source": [
    "dir(random)"
   ]
  },
  {
   "cell_type": "markdown",
   "metadata": {},
   "source": [
    "## Quelques modules courants\n",
    "\n",
    "Il existe une série de modules que vous serez probablement amenés à utiliser si vous programmez en Python. En voici une liste non exhaustive.\n",
    "Pour la liste complète, reportez-vous à la page des modules sur le site de Python :\n",
    "\n",
    "**math** : fonctions et constantes mathématiques de base (sin, cos, exp, pi...).\n",
    "**sys** : interaction avec l'interpréteur Python, passage d'arguments (cf. plus bas).\n",
    "**os** : dialogue avec le système d'exploitation (cf. plus bas).\n",
    "**random** : génération de nombres aléatoires.\n",
    "**time** : accès à l'heure de l'ordinateur et aux fonctions gérant le temps.\n",
    "**urllib** : récupération de données sur internet depuis Python.\n",
    "**Tkinter** : interface python avec Tk. Création d'objets graphiques\n",
    "**re** : gestion des expressions régulières\n",
    "\n",
    "Nous vous conseillons d'aller explorer les pages de ces modules pour découvrir toutes leurs potentialités.\n",
    "\n",
    "Nous verrons par la suite comment créer votre propre module lorsque vous souhaitez réutiliser souvent vos propres fonctions.\n",
    "\n",
    "Enfin, notez qu'il existe de nombreux autres modules externes qui ne sont pas installés de base dans Python mais qui sont très utilisés en bioinformatique et en analyse de données.\n",
    "Citons-en quelques-uns:\n",
    "NumPy (manipulations de vecteurs et de matrices, algèbre linéaire), Biopython (recherche dans les banques de données biologiques, manipulation de séquences ou de structures de biomolécules), matplotlib (représentations graphiques : courbes, nuages de points, diagrammes en bâtons...), pandas (analyse de données)\n",
    "\n",
    "## Module os : interaction avec le système d'exploitation\n",
    "\n",
    "Le module os gère l'interface avec le système d'exploitation.\n",
    "\n",
    "La fonction os.path.exists() est une fonction pratique de ce module qui vérifie la présence d'un fichier sur le disque dur."
   ]
  },
  {
   "cell_type": "code",
   "execution_count": null,
   "metadata": {},
   "outputs": [],
   "source": [
    "import sys\n",
    "import os\n",
    "if os.path.exists(\"/Users/matthieulevet/Downloads/Python Course/bissextile.py\"):\n",
    "    print(\"le fichier est présent\")\n",
    "else:\n",
    "    sys.exit(\"le fichier est absent\")"
   ]
  },
  {
   "cell_type": "markdown",
   "metadata": {},
   "source": [
    "Dans cet exemple, si le fichier n'existe pas sur le disque, on quitte le programme avec la fonction exit() du module sys que nous venons de voir.\n",
    "\n",
    "La fonction os.getcwd() renvoie le répertoire (sous forme de chemin complet) depuis lequel est lancé Python :"
   ]
  },
  {
   "cell_type": "code",
   "execution_count": null,
   "metadata": {},
   "outputs": [],
   "source": [
    "import os\n",
    "os.getcwd()"
   ]
  },
  {
   "cell_type": "markdown",
   "metadata": {},
   "source": [
    "Enfin, la fonction os.listdir() renvoie le contenu du répertoire depuis lequel est lancé Python :"
   ]
  },
  {
   "cell_type": "code",
   "execution_count": null,
   "metadata": {},
   "outputs": [],
   "source": [
    "import os\n",
    "os.listdir()"
   ]
  },
  {
   "cell_type": "markdown",
   "metadata": {},
   "source": [
    "# Les fonctions\n",
    "\n",
    "## Principe et généralités\n",
    "\n",
    "En programmation, les fonctions sont très utiles pour réaliser plusieurs fois la même opération au sein d'un programme. Elles rendent également le code plus lisible et plus clair en le fractionnant en blocs logiques.\n",
    "\n",
    "Vous connaissez déjà certaines fonctions Python. Par exemple math.cos(angle) du module math renvoie le cosinus de la variable angle exprimé en radian. Vous connaissez aussi des fonctions internes à Python comme range() ou len(). Pour l'instant, une fonction est à vos yeux une sorte de « boîte noire » (voir figure 1) :\n",
    "\n",
    "À laquelle vous passez aucune, une ou plusieurs variable(s) entre parenthèses. Ces variables sont appelées arguments. Il peut s'agir de n'importe quel type d'objet Python.\n",
    "Qui effectue une action.\n",
    "Et qui renvoie un objet Python ou rien du tout.\n",
    "Fonctionnement schématique d'une fonction.\n",
    "\n",
    "Par exemple, si vous appelez la fonction len() de la manière suivante :"
   ]
  },
  {
   "cell_type": "code",
   "execution_count": null,
   "metadata": {},
   "outputs": [],
   "source": [
    "len([0, 1, 2])"
   ]
  },
  {
   "cell_type": "markdown",
   "metadata": {},
   "source": [
    "Voici ce qui se passe :\n",
    "\n",
    "Vous appelez len() en lui passant une liste en argument (ici la liste [0, 1, 2]) ;\n",
    "la fonction calcule la longueur de cette liste ;\n",
    "elle vous renvoie un entier égal à cette longueur.\n",
    "\n",
    "Autre exemple, si vous appelez la méthode ma_liste.append() (n'oubliez pas, une méthode est une fonction qui agit sur l'objet auquel elle est attachée par un point) :"
   ]
  },
  {
   "cell_type": "code",
   "execution_count": null,
   "metadata": {},
   "outputs": [],
   "source": [
    "ma_liste.append(5)"
   ]
  },
  {
   "cell_type": "markdown",
   "metadata": {},
   "source": [
    "Vous passez l'entier 5 en argument ;\n",
    "\n",
    "la méthode append() ajoute l'entier 5 à l'objet ma_liste ;\n",
    "et elle ne renvoie rien.\n",
    "\n",
    "Aux yeux du programmeur au contraire, une fonction est une portion de code effectuant une suite d'instructions bien particulière. Mais avant de vous présenter la syntaxe et la manière de construire une fonction, revenons une dernière fois sur cette notion de « boîte noire » :\n",
    "\n",
    "Une fonction effectue une tâche. Pour cela, elle reçoit éventuellement des arguments et renvoie éventuellement quelque chose. L'algorithme utilisé au sein de la fonction n'intéresse pas directement l'utilisateur. Par exemple, il est inutile de savoir comment la fonction math.cos() calcule un cosinus. On a juste besoin de savoir qu'il faut lui passer en argument un angle en radian et qu'elle renvoie le cosinus de cet angle. Ce qui se passe à l'intérieur de la fonction ne regarde que le programmeur.\n",
    "\n",
    "Chaque fonction effectue en général une tâche unique et précise. Si cela se complique, il est plus judicieux d'écrire plusieurs fonctions (qui peuvent éventuellement s'appeler les unes les autres). Cette modularité améliore la qualité générale et la lisibilité du code. Vous verrez qu'en Python, les fonctions présentent une grande flexibilité.\n",
    "\n",
    "Pour finir sur les généralités, nous avons utilisé dans la Figure 1 le terme programme principal (main en anglais) pour désigner l'endroit depuis lequel on appelle une fonction (on verra plus tard que l'on peut en fait appeler une fonction de n'importe où). Le programme principal désigne le code qui est exécuté lorsqu'on lance le script Python, c'est-à-dire toute la suite d'instructions en dehors des fonctions. En général, dans un script Python, on écrit d'abord les fonctions puis le programme principal. Nous aurons l'occasion de revenir sur cette notion de programme principal plus tard dans ce chapitre ainsi que dans le chapitre 12 Plus sur les fonctions.\n",
    "\n",
    "## Définition\n",
    "\n",
    "Pour définir une fonction, Python utilise le mot-clé def. Si on souhaite que la fonction renvoie quelque chose, il faut utiliser le mot-clé return. Par exemple :"
   ]
  },
  {
   "cell_type": "code",
   "execution_count": null,
   "metadata": {},
   "outputs": [],
   "source": [
    "def carre(x):\n",
    "    return x**2"
   ]
  },
  {
   "cell_type": "code",
   "execution_count": null,
   "metadata": {},
   "outputs": [],
   "source": [
    "print(carre(2))"
   ]
  },
  {
   "cell_type": "markdown",
   "metadata": {},
   "source": [
    "Notez que la syntaxe de def utilise les deux-points comme les boucles for et while ainsi que les tests if, un bloc d’instructions est donc attendu. De même que pour les boucles et les tests, l'indentation de ce bloc d'instructions (qu'on appelle le corps de la fonction) est obligatoire.\n",
    "\n",
    "Dans l'exemple précédent, nous avons passé un argument à la fonction carre() qui nous a renvoyé (ou retourné) une valeur que nous avons immédiatement affichée à l'écran avec l'instruction print(). Que veut dire valeur renvoyée ? Et bien cela signifie que cette dernière est récupérable dans une variable :"
   ]
  },
  {
   "cell_type": "code",
   "execution_count": null,
   "metadata": {},
   "outputs": [],
   "source": [
    "res = carre(2)"
   ]
  },
  {
   "cell_type": "code",
   "execution_count": null,
   "metadata": {},
   "outputs": [],
   "source": [
    "print(res)"
   ]
  },
  {
   "cell_type": "markdown",
   "metadata": {},
   "source": [
    "Ici, le résultat renvoyé par la fonction est stocké dans la variable res. Notez qu'une fonction ne prend pas forcément un argument et ne renvoie pas forcément une valeur, par exemple :"
   ]
  },
  {
   "cell_type": "code",
   "execution_count": null,
   "metadata": {},
   "outputs": [],
   "source": [
    "def hello():\n",
    "    print(\"bonjour\")"
   ]
  },
  {
   "cell_type": "code",
   "execution_count": null,
   "metadata": {},
   "outputs": [],
   "source": [
    "hello()"
   ]
  },
  {
   "cell_type": "markdown",
   "metadata": {},
   "source": [
    "Dans ce cas la fonction, hello() se contente d'afficher la chaîne de caractères \"bonjour\" à l'écran. Elle ne prend aucun argument et ne renvoie rien. Par conséquent, cela n'a pas de sens de vouloir récupérer dans une variable le résultat renvoyé par une telle fonction. Si on essaie tout de même, Python affecte la valeur None qui signifie rien en anglais:"
   ]
  },
  {
   "cell_type": "code",
   "execution_count": null,
   "metadata": {},
   "outputs": [],
   "source": [
    "var = hello()"
   ]
  },
  {
   "cell_type": "code",
   "execution_count": null,
   "metadata": {},
   "outputs": [],
   "source": [
    "print(var)"
   ]
  },
  {
   "cell_type": "markdown",
   "metadata": {},
   "source": [
    "Ceci n'est pas une faute car Python n'émet pas d'erreur, toutefois cela ne présente, la plupart du temps, guère d'intérêt.\n",
    "\n",
    "## Passage d'arguments\n",
    "\n",
    "Le nombre d'arguments que l'on peut passer à une fonction est variable. Nous avons vu ci-dessus des fonctions auxquelles on passait 0 ou 1 argument. Dans les chapitres précédents, vous avez rencontré des fonctions internes à Python qui prenaient au moins 2 arguments. Souvenez-vous par exemple de range(1, 10) ou encore range(1, 10, 2). Le nombre d'argument est donc laissé libre à l'initiative du programmeur qui développe une nouvelle fonction.\n",
    "\n",
    "Une particularité des fonctions en Python est que vous n'êtes pas obligé de préciser le type des arguments que vous lui passez, dès lors que les opérations que vous effectuez avec ces arguments sont valides. Python est en effet connu comme étant un langage au « typage dynamique », c'est-à-dire qu'il reconnaît pour vous le type des variables au moment de l'exécution. Par exemple :"
   ]
  },
  {
   "cell_type": "code",
   "execution_count": null,
   "metadata": {},
   "outputs": [],
   "source": [
    "def fois(x, y):\n",
    "    return x*y"
   ]
  },
  {
   "cell_type": "code",
   "execution_count": null,
   "metadata": {},
   "outputs": [],
   "source": [
    "fois(2, 3)"
   ]
  },
  {
   "cell_type": "code",
   "execution_count": null,
   "metadata": {},
   "outputs": [],
   "source": [
    "fois(3.1415, 5.23)"
   ]
  },
  {
   "cell_type": "code",
   "execution_count": null,
   "metadata": {},
   "outputs": [],
   "source": [
    "fois('to', 2)"
   ]
  },
  {
   "cell_type": "code",
   "execution_count": null,
   "metadata": {},
   "outputs": [],
   "source": [
    "fois([1,3], 2)"
   ]
  },
  {
   "cell_type": "markdown",
   "metadata": {},
   "source": [
    "L'opérateur * reconnaît plusieurs types (entiers, floats, chaînes de caractères, listes). Notre fonction fois() est donc capable d'effectuer des tâches différentes ! Même si Python autorise cela, méfiez-vous tout de même de cette grande flexibilité qui pourrait conduire à des surprises dans vos futurs programmes. En général, il est plus judicieux que chaque argument ait un type précis (entiers, floats, chaînes de caractères, etc) et pas l'un ou l'autre.\n",
    "\n",
    "## Renvoi de résultats\n",
    "\n",
    "Un énorme avantage en Python est que les fonctions sont capables de renvoyer plusieurs objets à la fois, comme dans cette fraction de code :"
   ]
  },
  {
   "cell_type": "code",
   "execution_count": null,
   "metadata": {},
   "outputs": [],
   "source": [
    "def carre_cube(x):\n",
    "    return x**2, x**3"
   ]
  },
  {
   "cell_type": "code",
   "execution_count": null,
   "metadata": {},
   "outputs": [],
   "source": [
    "carre_cube(2)"
   ]
  },
  {
   "cell_type": "markdown",
   "metadata": {},
   "source": [
    "En réalité Python ne renvoie qu'un seul objet, mais celui-ci peut être séquentiel, c'est-à-dire contenir lui même d'autres objets. Dans notre exemple Python renvoie un objet de type tuple, type que nous verrons dans le chapitre 13 Dictionnaires et tuples (grosso modo, il s'agit d'une sorte de liste avec des propriétés différentes). Notre fonction pourrait tout autant renvoyer une liste :"
   ]
  },
  {
   "cell_type": "code",
   "execution_count": null,
   "metadata": {},
   "outputs": [],
   "source": [
    "def carre_cube2(x):\n",
    "    return [x**2, x**3]"
   ]
  },
  {
   "cell_type": "code",
   "execution_count": null,
   "metadata": {},
   "outputs": [],
   "source": [
    "carre_cube2(3)"
   ]
  },
  {
   "cell_type": "markdown",
   "metadata": {},
   "source": [
    "Renvoyer un tuple ou une liste de deux éléments (ou plus) est très pratique en conjonction avec l'affectation multiple, par exemple :"
   ]
  },
  {
   "cell_type": "code",
   "execution_count": null,
   "metadata": {},
   "outputs": [],
   "source": [
    "z1, z2 = carre_cube2(3)"
   ]
  },
  {
   "cell_type": "code",
   "execution_count": null,
   "metadata": {},
   "outputs": [],
   "source": [
    "z1"
   ]
  },
  {
   "cell_type": "code",
   "execution_count": null,
   "metadata": {},
   "outputs": [],
   "source": [
    "z2"
   ]
  },
  {
   "cell_type": "markdown",
   "metadata": {},
   "source": [
    "Cela permet de récupérer plusieurs valeurs renvoyées par une fonction et de les affecter à la volée à des variables différentes.\n",
    "\n",
    "## Arguments positionnels et arguments par mot-clé\n",
    "\n",
    "Jusqu'à maintenant, nous avons systématiquement passé le nombre d'arguments que la fonction attendait. Que se passe-t-il si une fonction attend deux arguments et que nous ne lui en passons qu'un seul ?"
   ]
  },
  {
   "cell_type": "code",
   "execution_count": null,
   "metadata": {},
   "outputs": [],
   "source": [
    "def fois(x, y):\n",
    "    return x*y"
   ]
  },
  {
   "cell_type": "code",
   "execution_count": null,
   "metadata": {},
   "outputs": [],
   "source": [
    "fois(2, 3)"
   ]
  },
  {
   "cell_type": "code",
   "execution_count": null,
   "metadata": {},
   "outputs": [],
   "source": [
    "fois(2)"
   ]
  },
  {
   "cell_type": "markdown",
   "metadata": {},
   "source": [
    "On constate que passer un seul argument à une fonction qui en attend deux conduit à une erreur.\n",
    "\n",
    "Définition\n",
    "Lorsqu'on définit une fonction def fct(x, y): les arguments x et y sont appelés arguments positionnels (en anglais positional arguments). Il est strictement obligatoire de les préciser lors de l'appel de la fonction. De plus, il est nécessaire de respecter le même ordre lors de l'appel que dans la définition de la fonction. Dans l'exemple ci-dessus, 2 correspondra à x et 3 correspondra à y. Finalement, tout dépendra de leur position, d'où leur qualification de positionnel.\n",
    "\n",
    "Mais il est aussi possible de passer un ou plusieurs argument(s) de manière facultative et de leur attribuer une valeur par défaut :"
   ]
  },
  {
   "cell_type": "code",
   "execution_count": null,
   "metadata": {},
   "outputs": [],
   "source": [
    "def fct(x=1):\n",
    "    return x"
   ]
  },
  {
   "cell_type": "code",
   "execution_count": null,
   "metadata": {},
   "outputs": [],
   "source": [
    "fct()"
   ]
  },
  {
   "cell_type": "code",
   "execution_count": null,
   "metadata": {},
   "outputs": [],
   "source": [
    "fct(10)"
   ]
  },
  {
   "cell_type": "markdown",
   "metadata": {},
   "source": [
    "Un argument défini avec une syntaxe def fct(arg=val): est appelé argument par mot-clé (en anglais keyword argument). Le passage d'un tel argument lors de l'appel de la fonction est facultatif. Ce type d'argument ne doit pas être confondu avec les arguments positionnels présentés ci-dessus, dont la syntaxe est def fct(arg):.\n",
    "\n",
    "Il est bien sûr possible de passer plusieurs arguments par mot-clé :"
   ]
  },
  {
   "cell_type": "code",
   "execution_count": null,
   "metadata": {},
   "outputs": [],
   "source": [
    "def fct(x=0, y=0, z=0):\n",
    "    return x, y, z"
   ]
  },
  {
   "cell_type": "code",
   "execution_count": null,
   "metadata": {},
   "outputs": [],
   "source": [
    "fct()"
   ]
  },
  {
   "cell_type": "code",
   "execution_count": null,
   "metadata": {},
   "outputs": [],
   "source": [
    "fct(10)"
   ]
  },
  {
   "cell_type": "code",
   "execution_count": null,
   "metadata": {},
   "outputs": [],
   "source": [
    "fct(10, 8)"
   ]
  },
  {
   "cell_type": "code",
   "execution_count": null,
   "metadata": {},
   "outputs": [],
   "source": [
    "fct(10, 8, 3)"
   ]
  },
  {
   "cell_type": "markdown",
   "metadata": {},
   "source": [
    "On observe que pour l'instant, les arguments par mot-clé sont pris dans l'ordre dans lesquels on les passe lors de l'appel. Comment pourrions-nous faire si on souhaitait préciser l'argument par mot-clé z et garder les valeurs de x et y par défaut ? Simplement en précisant le nom de l'argument lors de l'appel :"
   ]
  },
  {
   "cell_type": "code",
   "execution_count": null,
   "metadata": {},
   "outputs": [],
   "source": [
    "fct(z=10)"
   ]
  },
  {
   "cell_type": "markdown",
   "metadata": {},
   "source": [
    "Python permet même de rentrer les arguments par mot-clé dans un ordre arbitraire :"
   ]
  },
  {
   "cell_type": "code",
   "execution_count": null,
   "metadata": {},
   "outputs": [],
   "source": [
    "fct(z=10, x=3, y=80)"
   ]
  },
  {
   "cell_type": "code",
   "execution_count": null,
   "metadata": {},
   "outputs": [],
   "source": [
    "fct(z=10, y=80)"
   ]
  },
  {
   "cell_type": "markdown",
   "metadata": {},
   "source": [
    "Que se passe-t-il lorsque nous avons un mélange d'arguments positionnels et par mot-clé ? Et bien les arguments positionnels doivent toujours être placés avant les arguments par mot-clé :"
   ]
  },
  {
   "cell_type": "code",
   "execution_count": null,
   "metadata": {},
   "outputs": [],
   "source": [
    "def fct(a, b, x=0, y=0, z=0):\n",
    "    return a, b, x, y, z"
   ]
  },
  {
   "cell_type": "code",
   "execution_count": null,
   "metadata": {},
   "outputs": [],
   "source": [
    "fct(1, 1)"
   ]
  },
  {
   "cell_type": "code",
   "execution_count": null,
   "metadata": {},
   "outputs": [],
   "source": [
    "fct(1, 1, z=5)"
   ]
  },
  {
   "cell_type": "code",
   "execution_count": null,
   "metadata": {},
   "outputs": [],
   "source": [
    "fct(1, 1, z=5, y=32)"
   ]
  },
  {
   "cell_type": "markdown",
   "metadata": {},
   "source": [
    "On peut toujours passer les arguments par mot-clé dans un ordre arbitraire à partir du moment où on précise leur nom. Par contre, si les deux arguments positionnels a et b ne sont pas passés à la fonction, Python renvoie une erreur."
   ]
  },
  {
   "cell_type": "code",
   "execution_count": null,
   "metadata": {},
   "outputs": [],
   "source": [
    "fct(z=0)"
   ]
  },
  {
   "cell_type": "markdown",
   "metadata": {},
   "source": [
    "Conseils\n",
    "\n",
    "Préciser le nom des arguments par mot-clé lors de l'appel d'une fonction est une pratique que nous vous recommandons. Cela les distingue clairement des arguments positionnels.\n",
    "\n",
    "L'utilisation d'arguments par mot-clé est habituelle en Python. Elle permet de modifier le comportement par défaut de nombreuses fonctions. Par exemple, si on souhaite que la fonction print() n'affiche pas un retour à la ligne, on peut utiliser l'argument end :"
   ]
  },
  {
   "cell_type": "code",
   "execution_count": null,
   "metadata": {},
   "outputs": [],
   "source": [
    "print(\"Message \", end=\"\")"
   ]
  },
  {
   "cell_type": "markdown",
   "metadata": {},
   "source": [
    "## Variables locales et variables globales\n",
    "\n",
    "Lorsqu'on manipule des fonctions, il est essentiel de bien comprendre comment se comportent les variables. Une variable est dite locale lorsqu'elle est créée dans une fonction. Elle n'existera et ne sera visible que lors de l'exécution de ladite fonction.\n",
    "\n",
    "Une variable est dite globale lorsqu'elle est créée dans le programme principal. Elle sera visible partout dans le programme.\n",
    "\n",
    "Ceci ne vous paraît pas clair ? Nous allons prendre un exemple simple qui vous aidera à mieux saisir ces concepts. Observez le code suivant :"
   ]
  },
  {
   "cell_type": "code",
   "execution_count": null,
   "metadata": {},
   "outputs": [],
   "source": [
    "# définition d'une fonction carre()\n",
    "def carre(x):\n",
    "    y = x**2\n",
    "    return y\n",
    "\n",
    "# programme principal\n",
    "z = 5\n",
    "resultat = carre(z)\n",
    "print(resultat)"
   ]
  },
  {
   "cell_type": "code",
   "execution_count": null,
   "metadata": {},
   "outputs": [],
   "source": []
  }
 ],
 "metadata": {
  "kernelspec": {
   "display_name": "Python 3",
   "language": "python",
   "name": "python3"
  },
  "language_info": {
   "codemirror_mode": {
    "name": "ipython",
    "version": 3
   },
   "file_extension": ".py",
   "mimetype": "text/x-python",
   "name": "python",
   "nbconvert_exporter": "python",
   "pygments_lexer": "ipython3",
   "version": "3.7.1"
  }
 },
 "nbformat": 4,
 "nbformat_minor": 2
}
